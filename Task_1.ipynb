{
 "cells": [
  {
   "cell_type": "markdown",
   "metadata": {
    "id": "dBox4tUGDM_j"
   },
   "source": [
    "# ЗАДАНИЕ 1. ПЕРВИЧНЫЙ АНАЛИЗ ВРЕМЕННОГО РЯДА С ИСПОЛЬЗОВАНИЕМ ОПИСАТЕЛЬНЫХ СТАТИСТИК И ВИЗУАЛИЗАЦИИ"
   ]
  },
  {
   "cell_type": "markdown",
   "metadata": {
    "id": "i1KvtrTVDRLS"
   },
   "source": [
    "Проведите первичный анализ данных по ценам на материал 1 с использованием описательных статистик и визуализации, выявите неоднородность данных с помощью коэффициентов дифференциации и коэффициента фондов."
   ]
  },
  {
   "cell_type": "markdown",
   "metadata": {
    "id": "zxjB3ZL6DViE"
   },
   "source": [
    "# Раздел 1. Загрузка данных и первичный анализ с использованием описательных статистик"
   ]
  },
  {
   "cell_type": "code",
   "execution_count": 1,
   "metadata": {
    "colab": {
     "base_uri": "https://localhost:8080/"
    },
    "id": "A1LvY1QrHz5u",
    "outputId": "2bc87471-74ba-4c59-cd07-83a64470b8ab"
   },
   "outputs": [
    {
     "name": "stdout",
     "output_type": "stream",
     "text": [
      "Requirement already satisfied: xlrd in c:\\anaconda\\lib\\site-packages (2.0.1)\n"
     ]
    }
   ],
   "source": [
    "!pip install --upgrade xlrd"
   ]
  },
  {
   "cell_type": "code",
   "execution_count": 47,
   "metadata": {
    "id": "QTdWvydoIRUl"
   },
   "outputs": [],
   "source": [
    "import os\n",
    "import pandas as pd\n",
    "import numpy as np\n",
    "import matplotlib.pyplot as plt"
   ]
  },
  {
   "cell_type": "markdown",
   "metadata": {
    "id": "ABW97LFBDf4R"
   },
   "source": [
    "Загрузим данные с помощью функции read_excel('data.xls', sheet_name='Material 1') из модуля pandas. Результат запишем в переменную data. Посмотрите на первые 5 наблюдений с помощью функции head()."
   ]
  },
  {
   "cell_type": "code",
   "execution_count": 48,
   "metadata": {
    "colab": {
     "base_uri": "https://localhost:8080/",
     "height": 386
    },
    "id": "_O2zVQvUJagj",
    "outputId": "8b53d398-50c1-4d0d-87a3-31154e629efb"
   },
   "outputs": [
    {
     "data": {
      "text/html": [
       "<div>\n",
       "<style scoped>\n",
       "    .dataframe tbody tr th:only-of-type {\n",
       "        vertical-align: middle;\n",
       "    }\n",
       "\n",
       "    .dataframe tbody tr th {\n",
       "        vertical-align: top;\n",
       "    }\n",
       "\n",
       "    .dataframe thead th {\n",
       "        text-align: right;\n",
       "    }\n",
       "</style>\n",
       "<table border=\"1\" class=\"dataframe\">\n",
       "  <thead>\n",
       "    <tr style=\"text-align: right;\">\n",
       "      <th></th>\n",
       "      <th>Unnamed: 0</th>\n",
       "      <th>Unnamed: 1</th>\n",
       "      <th>Рыночные цены на материал 1 (руб.)</th>\n",
       "      <th>Unnamed: 3</th>\n",
       "      <th>Unnamed: 4</th>\n",
       "      <th>Unnamed: 5</th>\n",
       "      <th>Unnamed: 6</th>\n",
       "      <th>Unnamed: 7</th>\n",
       "      <th>Unnamed: 8</th>\n",
       "      <th>Unnamed: 9</th>\n",
       "      <th>...</th>\n",
       "      <th>Unnamed: 40</th>\n",
       "      <th>Unnamed: 41</th>\n",
       "      <th>Unnamed: 42</th>\n",
       "      <th>Unnamed: 43</th>\n",
       "      <th>Unnamed: 44</th>\n",
       "      <th>Unnamed: 45</th>\n",
       "      <th>Unnamed: 46</th>\n",
       "      <th>Unnamed: 47</th>\n",
       "      <th>Unnamed: 48</th>\n",
       "      <th>Unnamed: 49</th>\n",
       "    </tr>\n",
       "  </thead>\n",
       "  <tbody>\n",
       "    <tr>\n",
       "      <th>0</th>\n",
       "      <td>NaN</td>\n",
       "      <td>NaN</td>\n",
       "      <td>2007-01-01 00:00:00</td>\n",
       "      <td>2007-02-01 00:00:00</td>\n",
       "      <td>2007-03-01 00:00:00</td>\n",
       "      <td>2007-04-01 00:00:00</td>\n",
       "      <td>2007-05-01 00:00:00</td>\n",
       "      <td>2007-06-01 00:00:00</td>\n",
       "      <td>2007-07-01 00:00:00</td>\n",
       "      <td>2007-08-01 00:00:00</td>\n",
       "      <td>...</td>\n",
       "      <td>2010-03-01 00:00:00</td>\n",
       "      <td>2010-04-01 00:00:00</td>\n",
       "      <td>2010-05-01 00:00:00</td>\n",
       "      <td>2010-06-01 00:00:00</td>\n",
       "      <td>2010-07-01 00:00:00</td>\n",
       "      <td>2010-08-01 00:00:00</td>\n",
       "      <td>2010-09-01 00:00:00</td>\n",
       "      <td>2010-10-01 00:00:00</td>\n",
       "      <td>2010-11-01 00:00:00</td>\n",
       "      <td>2010-12-01 00:00:00</td>\n",
       "    </tr>\n",
       "    <tr>\n",
       "      <th>1</th>\n",
       "      <td>№ организации</td>\n",
       "      <td>1.0</td>\n",
       "      <td>26.45</td>\n",
       "      <td>23.89</td>\n",
       "      <td>25.95</td>\n",
       "      <td>30.03</td>\n",
       "      <td>28.96</td>\n",
       "      <td>25.58</td>\n",
       "      <td>25.96</td>\n",
       "      <td>30.56</td>\n",
       "      <td>...</td>\n",
       "      <td>37.36</td>\n",
       "      <td>39.21</td>\n",
       "      <td>39.43</td>\n",
       "      <td>43.5</td>\n",
       "      <td>40.75</td>\n",
       "      <td>42.84</td>\n",
       "      <td>38.01</td>\n",
       "      <td>45.18</td>\n",
       "      <td>42.49</td>\n",
       "      <td>44.2</td>\n",
       "    </tr>\n",
       "    <tr>\n",
       "      <th>2</th>\n",
       "      <td>NaN</td>\n",
       "      <td>2.0</td>\n",
       "      <td>26.09</td>\n",
       "      <td>20.66</td>\n",
       "      <td>22.6</td>\n",
       "      <td>25.05</td>\n",
       "      <td>27.59</td>\n",
       "      <td>20.49</td>\n",
       "      <td>27.39</td>\n",
       "      <td>28.52</td>\n",
       "      <td>...</td>\n",
       "      <td>39.54</td>\n",
       "      <td>42.38</td>\n",
       "      <td>37.5</td>\n",
       "      <td>41.29</td>\n",
       "      <td>44.96</td>\n",
       "      <td>45.39</td>\n",
       "      <td>42.49</td>\n",
       "      <td>45.77</td>\n",
       "      <td>46.94</td>\n",
       "      <td>40.83</td>\n",
       "    </tr>\n",
       "    <tr>\n",
       "      <th>3</th>\n",
       "      <td>NaN</td>\n",
       "      <td>3.0</td>\n",
       "      <td>22.05</td>\n",
       "      <td>23.15</td>\n",
       "      <td>28.22</td>\n",
       "      <td>21.55</td>\n",
       "      <td>21.57</td>\n",
       "      <td>28.58</td>\n",
       "      <td>31.42</td>\n",
       "      <td>28.11</td>\n",
       "      <td>...</td>\n",
       "      <td>40.17</td>\n",
       "      <td>47.99</td>\n",
       "      <td>47.92</td>\n",
       "      <td>46.25</td>\n",
       "      <td>47.3</td>\n",
       "      <td>48.9</td>\n",
       "      <td>51.2</td>\n",
       "      <td>43.96</td>\n",
       "      <td>49.22</td>\n",
       "      <td>51.38</td>\n",
       "    </tr>\n",
       "    <tr>\n",
       "      <th>4</th>\n",
       "      <td>NaN</td>\n",
       "      <td>4.0</td>\n",
       "      <td>20.41</td>\n",
       "      <td>28.39</td>\n",
       "      <td>17.74</td>\n",
       "      <td>18.46</td>\n",
       "      <td>20.47</td>\n",
       "      <td>28.93</td>\n",
       "      <td>27.89</td>\n",
       "      <td>20.68</td>\n",
       "      <td>...</td>\n",
       "      <td>68.39</td>\n",
       "      <td>73.93</td>\n",
       "      <td>63.97</td>\n",
       "      <td>75.59</td>\n",
       "      <td>70.98</td>\n",
       "      <td>78.28</td>\n",
       "      <td>78.98</td>\n",
       "      <td>71.27</td>\n",
       "      <td>81.34</td>\n",
       "      <td>85.73</td>\n",
       "    </tr>\n",
       "  </tbody>\n",
       "</table>\n",
       "<p>5 rows × 50 columns</p>\n",
       "</div>"
      ],
      "text/plain": [
       "      Unnamed: 0  Unnamed: 1 Рыночные цены на материал 1 (руб.)  \\\n",
       "0            NaN         NaN                2007-01-01 00:00:00   \n",
       "1  № организации         1.0                              26.45   \n",
       "2            NaN         2.0                              26.09   \n",
       "3            NaN         3.0                              22.05   \n",
       "4            NaN         4.0                              20.41   \n",
       "\n",
       "            Unnamed: 3           Unnamed: 4           Unnamed: 5  \\\n",
       "0  2007-02-01 00:00:00  2007-03-01 00:00:00  2007-04-01 00:00:00   \n",
       "1                23.89                25.95                30.03   \n",
       "2                20.66                 22.6                25.05   \n",
       "3                23.15                28.22                21.55   \n",
       "4                28.39                17.74                18.46   \n",
       "\n",
       "            Unnamed: 6           Unnamed: 7           Unnamed: 8  \\\n",
       "0  2007-05-01 00:00:00  2007-06-01 00:00:00  2007-07-01 00:00:00   \n",
       "1                28.96                25.58                25.96   \n",
       "2                27.59                20.49                27.39   \n",
       "3                21.57                28.58                31.42   \n",
       "4                20.47                28.93                27.89   \n",
       "\n",
       "            Unnamed: 9  ...          Unnamed: 40          Unnamed: 41  \\\n",
       "0  2007-08-01 00:00:00  ...  2010-03-01 00:00:00  2010-04-01 00:00:00   \n",
       "1                30.56  ...                37.36                39.21   \n",
       "2                28.52  ...                39.54                42.38   \n",
       "3                28.11  ...                40.17                47.99   \n",
       "4                20.68  ...                68.39                73.93   \n",
       "\n",
       "           Unnamed: 42          Unnamed: 43          Unnamed: 44  \\\n",
       "0  2010-05-01 00:00:00  2010-06-01 00:00:00  2010-07-01 00:00:00   \n",
       "1                39.43                 43.5                40.75   \n",
       "2                 37.5                41.29                44.96   \n",
       "3                47.92                46.25                 47.3   \n",
       "4                63.97                75.59                70.98   \n",
       "\n",
       "           Unnamed: 45          Unnamed: 46          Unnamed: 47  \\\n",
       "0  2010-08-01 00:00:00  2010-09-01 00:00:00  2010-10-01 00:00:00   \n",
       "1                42.84                38.01                45.18   \n",
       "2                45.39                42.49                45.77   \n",
       "3                 48.9                 51.2                43.96   \n",
       "4                78.28                78.98                71.27   \n",
       "\n",
       "           Unnamed: 48          Unnamed: 49  \n",
       "0  2010-11-01 00:00:00  2010-12-01 00:00:00  \n",
       "1                42.49                 44.2  \n",
       "2                46.94                40.83  \n",
       "3                49.22                51.38  \n",
       "4                81.34                85.73  \n",
       "\n",
       "[5 rows x 50 columns]"
      ]
     },
     "execution_count": 48,
     "metadata": {},
     "output_type": "execute_result"
    }
   ],
   "source": [
    "data = pd.read_excel('data.xls', sheet_name='Material 1')\n",
    "data.head()"
   ]
  },
  {
   "cell_type": "markdown",
   "metadata": {
    "id": "1VesvAXFDkPx"
   },
   "source": [
    "Поместим в переменную dates значения дат. Для этого с помощью метода loc укажем номер интересующей строки и с помощью метода values зададим координаты интересующих значений."
   ]
  },
  {
   "cell_type": "code",
   "execution_count": 49,
   "metadata": {
    "id": "H-fSDcdlJfr_"
   },
   "outputs": [],
   "source": [
    "dates = data.loc[data.index == 0].values[0,2:]"
   ]
  },
  {
   "cell_type": "markdown",
   "metadata": {
    "id": "pnh6dDEJDnoR"
   },
   "source": [
    "Поместим в переменную val значения цен на материал 1 своего варианта. Для этого с помощью метода loc укажем номер интересующей строки и с помощью метода values зададим координаты интересующих значений."
   ]
  },
  {
   "cell_type": "code",
   "execution_count": 50,
   "metadata": {
    "id": "BBtNV3CVKGbF"
   },
   "outputs": [],
   "source": [
    "val = data.loc[data.index == 54].values[0,2:]"
   ]
  },
  {
   "cell_type": "markdown",
   "metadata": {
    "id": "CT4fhRRQDqh6"
   },
   "source": [
    "Создадим на основе переменных dates и val словарь с кодами Date и Value и поместим его в переменную data. "
   ]
  },
  {
   "cell_type": "code",
   "execution_count": 51,
   "metadata": {
    "id": "WZKBmowFKVRT"
   },
   "outputs": [],
   "source": [
    "data = {'Date':dates, 'Value':val}"
   ]
  },
  {
   "cell_type": "markdown",
   "metadata": {
    "id": "8vWSMd5NDtTW"
   },
   "source": [
    "Создадим на основе переменной data таблицу данных с помощью функции DataFrame() из модуля pandas. Результат присвоим переменной df. Посмотрим первые 5 наблюдений с помощью функции head()."
   ]
  },
  {
   "cell_type": "code",
   "execution_count": 52,
   "metadata": {
    "colab": {
     "base_uri": "https://localhost:8080/",
     "height": 206
    },
    "id": "pZPdX4TUKnkb",
    "outputId": "ffdbfb2d-ded9-479d-d6bb-dce8dda0ad4e"
   },
   "outputs": [
    {
     "data": {
      "text/html": [
       "<div>\n",
       "<style scoped>\n",
       "    .dataframe tbody tr th:only-of-type {\n",
       "        vertical-align: middle;\n",
       "    }\n",
       "\n",
       "    .dataframe tbody tr th {\n",
       "        vertical-align: top;\n",
       "    }\n",
       "\n",
       "    .dataframe thead th {\n",
       "        text-align: right;\n",
       "    }\n",
       "</style>\n",
       "<table border=\"1\" class=\"dataframe\">\n",
       "  <thead>\n",
       "    <tr style=\"text-align: right;\">\n",
       "      <th></th>\n",
       "      <th>Date</th>\n",
       "      <th>Value</th>\n",
       "    </tr>\n",
       "  </thead>\n",
       "  <tbody>\n",
       "    <tr>\n",
       "      <th>0</th>\n",
       "      <td>2007-01-01</td>\n",
       "      <td>26.94</td>\n",
       "    </tr>\n",
       "    <tr>\n",
       "      <th>1</th>\n",
       "      <td>2007-02-01</td>\n",
       "      <td>22.48</td>\n",
       "    </tr>\n",
       "    <tr>\n",
       "      <th>2</th>\n",
       "      <td>2007-03-01</td>\n",
       "      <td>28.16</td>\n",
       "    </tr>\n",
       "    <tr>\n",
       "      <th>3</th>\n",
       "      <td>2007-04-01</td>\n",
       "      <td>20.62</td>\n",
       "    </tr>\n",
       "    <tr>\n",
       "      <th>4</th>\n",
       "      <td>2007-05-01</td>\n",
       "      <td>24.81</td>\n",
       "    </tr>\n",
       "  </tbody>\n",
       "</table>\n",
       "</div>"
      ],
      "text/plain": [
       "        Date  Value\n",
       "0 2007-01-01  26.94\n",
       "1 2007-02-01  22.48\n",
       "2 2007-03-01  28.16\n",
       "3 2007-04-01  20.62\n",
       "4 2007-05-01  24.81"
      ]
     },
     "execution_count": 52,
     "metadata": {},
     "output_type": "execute_result"
    }
   ],
   "source": [
    "df = pd.DataFrame(data)\n",
    "df.head()"
   ]
  },
  {
   "cell_type": "markdown",
   "metadata": {
    "id": "4q5mBO2_DysJ"
   },
   "source": [
    "Сделаем индексом столбец Date с помощью функции set_index('Date'). Результат присвоим переменной df. Посмотрим первые 10 наблюдений с помощью функции head()."
   ]
  },
  {
   "cell_type": "code",
   "execution_count": 53,
   "metadata": {
    "colab": {
     "base_uri": "https://localhost:8080/",
     "height": 394
    },
    "id": "m_PU-OGYKtoS",
    "outputId": "ec3e54de-2ccf-46e3-f7bd-716d9b901e93"
   },
   "outputs": [
    {
     "data": {
      "text/html": [
       "<div>\n",
       "<style scoped>\n",
       "    .dataframe tbody tr th:only-of-type {\n",
       "        vertical-align: middle;\n",
       "    }\n",
       "\n",
       "    .dataframe tbody tr th {\n",
       "        vertical-align: top;\n",
       "    }\n",
       "\n",
       "    .dataframe thead th {\n",
       "        text-align: right;\n",
       "    }\n",
       "</style>\n",
       "<table border=\"1\" class=\"dataframe\">\n",
       "  <thead>\n",
       "    <tr style=\"text-align: right;\">\n",
       "      <th></th>\n",
       "      <th>Value</th>\n",
       "    </tr>\n",
       "    <tr>\n",
       "      <th>Date</th>\n",
       "      <th></th>\n",
       "    </tr>\n",
       "  </thead>\n",
       "  <tbody>\n",
       "    <tr>\n",
       "      <th>2007-01-01</th>\n",
       "      <td>26.94</td>\n",
       "    </tr>\n",
       "    <tr>\n",
       "      <th>2007-02-01</th>\n",
       "      <td>22.48</td>\n",
       "    </tr>\n",
       "    <tr>\n",
       "      <th>2007-03-01</th>\n",
       "      <td>28.16</td>\n",
       "    </tr>\n",
       "    <tr>\n",
       "      <th>2007-04-01</th>\n",
       "      <td>20.62</td>\n",
       "    </tr>\n",
       "    <tr>\n",
       "      <th>2007-05-01</th>\n",
       "      <td>24.81</td>\n",
       "    </tr>\n",
       "    <tr>\n",
       "      <th>2007-06-01</th>\n",
       "      <td>31.57</td>\n",
       "    </tr>\n",
       "    <tr>\n",
       "      <th>2007-07-01</th>\n",
       "      <td>31.94</td>\n",
       "    </tr>\n",
       "    <tr>\n",
       "      <th>2007-08-01</th>\n",
       "      <td>30.57</td>\n",
       "    </tr>\n",
       "    <tr>\n",
       "      <th>2007-09-01</th>\n",
       "      <td>25.93</td>\n",
       "    </tr>\n",
       "    <tr>\n",
       "      <th>2007-10-01</th>\n",
       "      <td>32.1</td>\n",
       "    </tr>\n",
       "  </tbody>\n",
       "</table>\n",
       "</div>"
      ],
      "text/plain": [
       "            Value\n",
       "Date             \n",
       "2007-01-01  26.94\n",
       "2007-02-01  22.48\n",
       "2007-03-01  28.16\n",
       "2007-04-01  20.62\n",
       "2007-05-01  24.81\n",
       "2007-06-01  31.57\n",
       "2007-07-01  31.94\n",
       "2007-08-01  30.57\n",
       "2007-09-01  25.93\n",
       "2007-10-01   32.1"
      ]
     },
     "execution_count": 53,
     "metadata": {},
     "output_type": "execute_result"
    }
   ],
   "source": [
    "df = df.set_index('Date')\n",
    "df.head(10)"
   ]
  },
  {
   "cell_type": "markdown",
   "metadata": {
    "id": "po5qq0KoD5iy"
   },
   "source": [
    "Посмотрим на объем выборки с помощью атрибута size."
   ]
  },
  {
   "cell_type": "code",
   "execution_count": 54,
   "metadata": {
    "colab": {
     "base_uri": "https://localhost:8080/"
    },
    "id": "eIxaVlkRLBWp",
    "outputId": "191855d4-440f-4660-c8ac-df2523a0671e"
   },
   "outputs": [
    {
     "data": {
      "text/plain": [
       "48"
      ]
     },
     "execution_count": 54,
     "metadata": {},
     "output_type": "execute_result"
    }
   ],
   "source": [
    "df.size"
   ]
  },
  {
   "cell_type": "markdown",
   "metadata": {
    "id": "46Z4blR4D9oS"
   },
   "source": [
    "Выведем на экран общую информацию о содержимом df с помощью функции info()."
   ]
  },
  {
   "cell_type": "code",
   "execution_count": 55,
   "metadata": {
    "colab": {
     "base_uri": "https://localhost:8080/"
    },
    "id": "rkFVGoHMLOf2",
    "outputId": "476392b4-b0b0-4cb4-e324-7c0a130561e5"
   },
   "outputs": [
    {
     "name": "stdout",
     "output_type": "stream",
     "text": [
      "<class 'pandas.core.frame.DataFrame'>\n",
      "DatetimeIndex: 48 entries, 2007-01-01 to 2010-12-01\n",
      "Data columns (total 1 columns):\n",
      " #   Column  Non-Null Count  Dtype \n",
      "---  ------  --------------  ----- \n",
      " 0   Value   48 non-null     object\n",
      "dtypes: object(1)\n",
      "memory usage: 768.0+ bytes\n"
     ]
    }
   ],
   "source": [
    "df.info()"
   ]
  },
  {
   "cell_type": "markdown",
   "metadata": {
    "id": "TCgKf8BEEBhb"
   },
   "source": [
    "Обратимся к значениям ряда Value и изменим их тип с помощью функции astype(float). Убедимся, что формат данных изменился с помощью функции info()."
   ]
  },
  {
   "cell_type": "code",
   "execution_count": 56,
   "metadata": {
    "id": "gbtxst8_LSbn"
   },
   "outputs": [],
   "source": [
    "df.Value = df.Value.astype(float)"
   ]
  },
  {
   "cell_type": "code",
   "execution_count": 57,
   "metadata": {
    "colab": {
     "base_uri": "https://localhost:8080/"
    },
    "id": "eE5DIosbLw_y",
    "outputId": "7a491d13-0f41-4420-c51e-9b3e66db746a"
   },
   "outputs": [
    {
     "name": "stdout",
     "output_type": "stream",
     "text": [
      "<class 'pandas.core.frame.DataFrame'>\n",
      "DatetimeIndex: 48 entries, 2007-01-01 to 2010-12-01\n",
      "Data columns (total 1 columns):\n",
      " #   Column  Non-Null Count  Dtype  \n",
      "---  ------  --------------  -----  \n",
      " 0   Value   48 non-null     float64\n",
      "dtypes: float64(1)\n",
      "memory usage: 768.0 bytes\n"
     ]
    }
   ],
   "source": [
    "df.info()"
   ]
  },
  {
   "cell_type": "markdown",
   "metadata": {
    "id": "DTALEmVMEG3J"
   },
   "source": [
    "Выведем на экран данные за 2007 год в помесячной разбивке, обратившись к таблице данных по соответствующему индексу с помощью метода loc."
   ]
  },
  {
   "cell_type": "code",
   "execution_count": 58,
   "metadata": {
    "colab": {
     "base_uri": "https://localhost:8080/",
     "height": 457
    },
    "id": "Vi3oQtgOLyVX",
    "outputId": "c6b4af08-546f-4dcb-d1dd-294acecc9ffd"
   },
   "outputs": [
    {
     "data": {
      "text/html": [
       "<div>\n",
       "<style scoped>\n",
       "    .dataframe tbody tr th:only-of-type {\n",
       "        vertical-align: middle;\n",
       "    }\n",
       "\n",
       "    .dataframe tbody tr th {\n",
       "        vertical-align: top;\n",
       "    }\n",
       "\n",
       "    .dataframe thead th {\n",
       "        text-align: right;\n",
       "    }\n",
       "</style>\n",
       "<table border=\"1\" class=\"dataframe\">\n",
       "  <thead>\n",
       "    <tr style=\"text-align: right;\">\n",
       "      <th></th>\n",
       "      <th>Value</th>\n",
       "    </tr>\n",
       "    <tr>\n",
       "      <th>Date</th>\n",
       "      <th></th>\n",
       "    </tr>\n",
       "  </thead>\n",
       "  <tbody>\n",
       "    <tr>\n",
       "      <th>2007-01-01</th>\n",
       "      <td>26.94</td>\n",
       "    </tr>\n",
       "    <tr>\n",
       "      <th>2007-02-01</th>\n",
       "      <td>22.48</td>\n",
       "    </tr>\n",
       "    <tr>\n",
       "      <th>2007-03-01</th>\n",
       "      <td>28.16</td>\n",
       "    </tr>\n",
       "    <tr>\n",
       "      <th>2007-04-01</th>\n",
       "      <td>20.62</td>\n",
       "    </tr>\n",
       "    <tr>\n",
       "      <th>2007-05-01</th>\n",
       "      <td>24.81</td>\n",
       "    </tr>\n",
       "    <tr>\n",
       "      <th>2007-06-01</th>\n",
       "      <td>31.57</td>\n",
       "    </tr>\n",
       "    <tr>\n",
       "      <th>2007-07-01</th>\n",
       "      <td>31.94</td>\n",
       "    </tr>\n",
       "    <tr>\n",
       "      <th>2007-08-01</th>\n",
       "      <td>30.57</td>\n",
       "    </tr>\n",
       "    <tr>\n",
       "      <th>2007-09-01</th>\n",
       "      <td>25.93</td>\n",
       "    </tr>\n",
       "    <tr>\n",
       "      <th>2007-10-01</th>\n",
       "      <td>32.10</td>\n",
       "    </tr>\n",
       "    <tr>\n",
       "      <th>2007-11-01</th>\n",
       "      <td>33.91</td>\n",
       "    </tr>\n",
       "    <tr>\n",
       "      <th>2007-12-01</th>\n",
       "      <td>30.08</td>\n",
       "    </tr>\n",
       "  </tbody>\n",
       "</table>\n",
       "</div>"
      ],
      "text/plain": [
       "            Value\n",
       "Date             \n",
       "2007-01-01  26.94\n",
       "2007-02-01  22.48\n",
       "2007-03-01  28.16\n",
       "2007-04-01  20.62\n",
       "2007-05-01  24.81\n",
       "2007-06-01  31.57\n",
       "2007-07-01  31.94\n",
       "2007-08-01  30.57\n",
       "2007-09-01  25.93\n",
       "2007-10-01  32.10\n",
       "2007-11-01  33.91\n",
       "2007-12-01  30.08"
      ]
     },
     "execution_count": 58,
     "metadata": {},
     "output_type": "execute_result"
    }
   ],
   "source": [
    "df.loc['2007']"
   ]
  },
  {
   "cell_type": "markdown",
   "metadata": {
    "id": "-YmvZrz8EK1N"
   },
   "source": [
    "Установим точность вывода результатов до 2-х знаков после запятой с помощью функции set_option('precision', 2) из модуля pandas."
   ]
  },
  {
   "cell_type": "code",
   "execution_count": 59,
   "metadata": {
    "id": "FkctrSmDMQUr"
   },
   "outputs": [],
   "source": [
    "pd.set_option('display.precision', 2)"
   ]
  },
  {
   "cell_type": "markdown",
   "metadata": {
    "id": "e8cIh1MOEQq5"
   },
   "source": [
    "Выведем на экран описательные статистики, воспользовавшись функцией describe()."
   ]
  },
  {
   "cell_type": "code",
   "execution_count": 60,
   "metadata": {
    "colab": {
     "base_uri": "https://localhost:8080/",
     "height": 300
    },
    "id": "cx17ilYcMnQ6",
    "outputId": "69804849-1f80-427e-bda0-c344d27e8a64"
   },
   "outputs": [
    {
     "data": {
      "text/html": [
       "<div>\n",
       "<style scoped>\n",
       "    .dataframe tbody tr th:only-of-type {\n",
       "        vertical-align: middle;\n",
       "    }\n",
       "\n",
       "    .dataframe tbody tr th {\n",
       "        vertical-align: top;\n",
       "    }\n",
       "\n",
       "    .dataframe thead th {\n",
       "        text-align: right;\n",
       "    }\n",
       "</style>\n",
       "<table border=\"1\" class=\"dataframe\">\n",
       "  <thead>\n",
       "    <tr style=\"text-align: right;\">\n",
       "      <th></th>\n",
       "      <th>Value</th>\n",
       "    </tr>\n",
       "  </thead>\n",
       "  <tbody>\n",
       "    <tr>\n",
       "      <th>count</th>\n",
       "      <td>48.00</td>\n",
       "    </tr>\n",
       "    <tr>\n",
       "      <th>mean</th>\n",
       "      <td>40.91</td>\n",
       "    </tr>\n",
       "    <tr>\n",
       "      <th>std</th>\n",
       "      <td>11.06</td>\n",
       "    </tr>\n",
       "    <tr>\n",
       "      <th>min</th>\n",
       "      <td>20.62</td>\n",
       "    </tr>\n",
       "    <tr>\n",
       "      <th>25%</th>\n",
       "      <td>31.45</td>\n",
       "    </tr>\n",
       "    <tr>\n",
       "      <th>50%</th>\n",
       "      <td>41.82</td>\n",
       "    </tr>\n",
       "    <tr>\n",
       "      <th>75%</th>\n",
       "      <td>47.01</td>\n",
       "    </tr>\n",
       "    <tr>\n",
       "      <th>max</th>\n",
       "      <td>62.20</td>\n",
       "    </tr>\n",
       "  </tbody>\n",
       "</table>\n",
       "</div>"
      ],
      "text/plain": [
       "       Value\n",
       "count  48.00\n",
       "mean   40.91\n",
       "std    11.06\n",
       "min    20.62\n",
       "25%    31.45\n",
       "50%    41.82\n",
       "75%    47.01\n",
       "max    62.20"
      ]
     },
     "execution_count": 60,
     "metadata": {},
     "output_type": "execute_result"
    }
   ],
   "source": [
    "df.describe()"
   ]
  },
  {
   "cell_type": "markdown",
   "metadata": {
    "id": "5uY5hzFxEaMa"
   },
   "source": [
    "Рассчитаем коэффициенты дифференциации: \n",
    "Коэффициенты дифференциации – децильный (K_D), квартильный (K_Q) – показывают, во сколько раз нижняя граница 10% (25%) лучших превосходит верхнюю границу 10% (25%) худших значений измеряемого признака.\n",
    "* K_D=D_9/D_1 \n",
    "* K_Q=Q_3/Q_1 \n",
    "\n",
    "Воспользуемся функцией quantile() для вычисления необходимых квантилей.\n"
   ]
  },
  {
   "cell_type": "code",
   "execution_count": 61,
   "metadata": {
    "colab": {
     "base_uri": "https://localhost:8080/"
    },
    "id": "QZXVC0DYMoSW",
    "outputId": "9a7d5b76-fd90-4ea2-f5d8-31878df9afb7"
   },
   "outputs": [
    {
     "data": {
      "text/plain": [
       "Value    27.51\n",
       "Name: 0.1, dtype: float64"
      ]
     },
     "execution_count": 61,
     "metadata": {},
     "output_type": "execute_result"
    }
   ],
   "source": [
    "d1 = df.quantile(0.1)\n",
    "d1"
   ]
  },
  {
   "cell_type": "code",
   "execution_count": 62,
   "metadata": {
    "colab": {
     "base_uri": "https://localhost:8080/"
    },
    "id": "5wwht6hANUZi",
    "outputId": "15b2f616-39b3-439b-fbd2-39f410f6c51a"
   },
   "outputs": [
    {
     "data": {
      "text/plain": [
       "Value    57.11\n",
       "Name: 0.9, dtype: float64"
      ]
     },
     "execution_count": 62,
     "metadata": {},
     "output_type": "execute_result"
    }
   ],
   "source": [
    "d9 = df.quantile(0.9)\n",
    "d9"
   ]
  },
  {
   "cell_type": "code",
   "execution_count": 63,
   "metadata": {
    "colab": {
     "base_uri": "https://localhost:8080/"
    },
    "id": "11zIC-4YNb8p",
    "outputId": "794dca93-8659-4888-f510-5f95ecb4ae55"
   },
   "outputs": [
    {
     "name": "stdout",
     "output_type": "stream",
     "text": [
      "Value    2.08\n",
      "dtype: float64\n"
     ]
    }
   ],
   "source": [
    "kd = d9 / d1\n",
    "print(kd)"
   ]
  },
  {
   "cell_type": "code",
   "execution_count": 64,
   "metadata": {
    "colab": {
     "base_uri": "https://localhost:8080/"
    },
    "id": "VmktFyj3No8r",
    "outputId": "3972f857-076a-4394-fcce-dc7799597315"
   },
   "outputs": [
    {
     "name": "stdout",
     "output_type": "stream",
     "text": [
      "Value    31.45\n",
      "Name: 0.25, dtype: float64\n"
     ]
    }
   ],
   "source": [
    "q1 = df.quantile(0.25)\n",
    "print(q1)"
   ]
  },
  {
   "cell_type": "code",
   "execution_count": 65,
   "metadata": {
    "colab": {
     "base_uri": "https://localhost:8080/"
    },
    "id": "R1Py6m0CN-R0",
    "outputId": "5501dcde-152e-4b24-d179-9e1ea0f1c723"
   },
   "outputs": [
    {
     "name": "stdout",
     "output_type": "stream",
     "text": [
      "Value    47.01\n",
      "Name: 0.75, dtype: float64\n"
     ]
    }
   ],
   "source": [
    "q3 = df.quantile(0.75)\n",
    "print(q3)"
   ]
  },
  {
   "cell_type": "code",
   "execution_count": 66,
   "metadata": {
    "colab": {
     "base_uri": "https://localhost:8080/"
    },
    "id": "WYpEnkTLOPHc",
    "outputId": "8ad3fbe2-9675-41b3-b93a-4e143a991084"
   },
   "outputs": [
    {
     "name": "stdout",
     "output_type": "stream",
     "text": [
      "Value    1.49\n",
      "dtype: float64\n"
     ]
    }
   ],
   "source": [
    "kq = q3 / q1\n",
    "print(kq)"
   ]
  },
  {
   "cell_type": "markdown",
   "metadata": {
    "id": "DaA-uFMnEpgx"
   },
   "source": [
    "Рассчитаем коэффициент фондов.\n",
    "Коэффициент фондов (K_F) – показывает, во сколько раз среднее самых больших значений (x ̅_2, рассчитанное по 10% верхнего диапазона) больше среднего самых малых значений (x ̅_1, рассчитанное по 10% нижнего диапазона).\n",
    "* K_F=x ̅_2/x ̅_1 "
   ]
  },
  {
   "cell_type": "code",
   "execution_count": 67,
   "metadata": {
    "id": "AVuMoxTUPMCp"
   },
   "outputs": [],
   "source": [
    "array = df.values"
   ]
  },
  {
   "cell_type": "code",
   "execution_count": 68,
   "metadata": {
    "colab": {
     "base_uri": "https://localhost:8080/"
    },
    "id": "_012k-c0PQrO",
    "outputId": "3d211b87-72fb-453f-8b4f-0d7e87478cd5"
   },
   "outputs": [
    {
     "data": {
      "text/plain": [
       "array([26.94, 22.48, 28.16, 20.62, 24.81, 31.57, 31.94, 30.57, 25.93,\n",
       "       32.1 , 33.91, 30.08, 35.02, 34.39, 27.75, 28.99, 30.86, 40.07,\n",
       "       40.81, 31.11, 42.25, 40.  , 35.64, 43.35, 37.49, 45.96, 43.01,\n",
       "       46.07, 41.39, 42.71, 46.65, 43.93, 42.86, 48.1 , 43.03, 50.36,\n",
       "       46.37, 55.39, 46.31, 57.11, 50.29, 58.92, 57.12, 61.03, 54.19,\n",
       "       57.44, 62.2 , 56.21])"
      ]
     },
     "execution_count": 68,
     "metadata": {},
     "output_type": "execute_result"
    }
   ],
   "source": [
    "X = array[:,0]\n",
    "X"
   ]
  },
  {
   "cell_type": "code",
   "execution_count": 69,
   "metadata": {
    "colab": {
     "base_uri": "https://localhost:8080/"
    },
    "id": "HbHpKH5VPWlS",
    "outputId": "cea7b283-8910-4d88-ce2d-f6ac973af638"
   },
   "outputs": [
    {
     "data": {
      "text/plain": [
       "array([20.62, 22.48, 24.81, 25.93, 26.94, 27.75, 28.16, 28.99, 30.08,\n",
       "       30.57, 30.86, 31.11, 31.57, 31.94, 32.1 , 33.91, 34.39, 35.02,\n",
       "       35.64, 37.49, 40.  , 40.07, 40.81, 41.39, 42.25, 42.71, 42.86,\n",
       "       43.01, 43.03, 43.35, 43.93, 45.96, 46.07, 46.31, 46.37, 46.65,\n",
       "       48.1 , 50.29, 50.36, 54.19, 55.39, 56.21, 57.11, 57.12, 57.44,\n",
       "       58.92, 61.03, 62.2 ])"
      ]
     },
     "execution_count": 69,
     "metadata": {},
     "output_type": "execute_result"
    }
   ],
   "source": [
    "X.sort()\n",
    "X"
   ]
  },
  {
   "cell_type": "code",
   "execution_count": 70,
   "metadata": {
    "colab": {
     "base_uri": "https://localhost:8080/"
    },
    "id": "__s97_VePlEL",
    "outputId": "da947191-765f-4cc1-b4d1-29d3aca3f410"
   },
   "outputs": [
    {
     "name": "stdout",
     "output_type": "stream",
     "text": [
      "4\n"
     ]
    }
   ],
   "source": [
    "firstsize = int(len(X)*0.1)\n",
    "print(firstsize)"
   ]
  },
  {
   "cell_type": "code",
   "execution_count": 71,
   "metadata": {
    "colab": {
     "base_uri": "https://localhost:8080/"
    },
    "id": "mdG6r9pvP13l",
    "outputId": "bcea20e1-9297-414d-fefa-419e10e6e66e"
   },
   "outputs": [
    {
     "name": "stdout",
     "output_type": "stream",
     "text": [
      "43\n"
     ]
    }
   ],
   "source": [
    "lastsize = int(len(X)*0.9)\n",
    "print(lastsize)"
   ]
  },
  {
   "cell_type": "code",
   "execution_count": 72,
   "metadata": {
    "colab": {
     "base_uri": "https://localhost:8080/"
    },
    "id": "W-_l5N6yQAtI",
    "outputId": "1ed0ba1e-f18a-4090-c196-26b1700d0fa7"
   },
   "outputs": [
    {
     "data": {
      "text/plain": [
       "array([20.62, 22.48, 24.81, 25.93])"
      ]
     },
     "execution_count": 72,
     "metadata": {},
     "output_type": "execute_result"
    }
   ],
   "source": [
    "first10 = X[0:firstsize]\n",
    "first10"
   ]
  },
  {
   "cell_type": "code",
   "execution_count": 73,
   "metadata": {
    "colab": {
     "base_uri": "https://localhost:8080/"
    },
    "id": "604l8B8LQN-k",
    "outputId": "96f11ece-620a-4016-8743-30a294a79576"
   },
   "outputs": [
    {
     "name": "stdout",
     "output_type": "stream",
     "text": [
      "23.46\n"
     ]
    }
   ],
   "source": [
    "m1 = np.mean(first10)\n",
    "print(m1)"
   ]
  },
  {
   "cell_type": "code",
   "execution_count": 74,
   "metadata": {
    "colab": {
     "base_uri": "https://localhost:8080/"
    },
    "id": "4kYcDS5aQZKt",
    "outputId": "203ccfaf-3985-4fd4-c775-79b5b659e2ad"
   },
   "outputs": [
    {
     "data": {
      "text/plain": [
       "array([57.12, 57.44, 58.92, 61.03, 62.2 ])"
      ]
     },
     "execution_count": 74,
     "metadata": {},
     "output_type": "execute_result"
    }
   ],
   "source": [
    "last10 = X[lastsize:len(X)]\n",
    "last10"
   ]
  },
  {
   "cell_type": "code",
   "execution_count": 75,
   "metadata": {
    "colab": {
     "base_uri": "https://localhost:8080/"
    },
    "id": "mJzdJQsNQrhJ",
    "outputId": "19c815f9-0dc4-489b-feb9-664e2006c471"
   },
   "outputs": [
    {
     "name": "stdout",
     "output_type": "stream",
     "text": [
      "59.342000000000006\n"
     ]
    }
   ],
   "source": [
    "m2 = np.mean(last10)\n",
    "print(m2)"
   ]
  },
  {
   "cell_type": "code",
   "execution_count": 76,
   "metadata": {
    "colab": {
     "base_uri": "https://localhost:8080/"
    },
    "id": "5KAQgspAQxHJ",
    "outputId": "9bf7f9f8-54bd-481c-cfca-1567f804fcb0"
   },
   "outputs": [
    {
     "name": "stdout",
     "output_type": "stream",
     "text": [
      "2.5294970161977837\n"
     ]
    }
   ],
   "source": [
    "kf = m2 / m1\n",
    "print(kf)"
   ]
  },
  {
   "cell_type": "markdown",
   "metadata": {
    "id": "7-3N8NuqEzMM"
   },
   "source": [
    "# Раздел 2. Первичный анализ данных с использованием визуализации"
   ]
  },
  {
   "cell_type": "markdown",
   "metadata": {
    "id": "wglHkq9xE3UB"
   },
   "source": [
    "Построим линейный график, воспользовавшись функцией plot() и функцией show() из модуля matplotlib.pyplot."
   ]
  },
  {
   "cell_type": "code",
   "execution_count": 77,
   "metadata": {
    "colab": {
     "base_uri": "https://localhost:8080/",
     "height": 466
    },
    "id": "KY3ILgxXQ3j6",
    "outputId": "85252e3c-712c-4b2e-e791-77868453d0dc"
   },
   "outputs": [
    {
     "data": {
      "image/png": "[encoded data removed]",
      "text/plain": [
       "<Figure size 640x480 with 1 Axes>"
      ]
     },
     "metadata": {},
     "output_type": "display_data"
    }
   ],
   "source": [
    "df.plot()\n",
    "plt.show()"
   ]
  },
  {
   "cell_type": "markdown",
   "metadata": {
    "id": "N8UcChdmE7vh"
   },
   "source": [
    "Изменим стиль графика, задав функцию plot(style='k.'), чтобы получить точечный график, и функцию plot(style='k--'), чтобы получить пунктирную линию."
   ]
  },
  {
   "cell_type": "code",
   "execution_count": 78,
   "metadata": {
    "colab": {
     "base_uri": "https://localhost:8080/",
     "height": 466
    },
    "id": "6bDuJ_8vRLot",
    "outputId": "c93ae7b6-4371-4552-c5ff-1e576fb2b29f"
   },
   "outputs": [
    {
     "data": {
      "image/png": "[encoded data removed]",
      "text/plain": [
       "<Figure size 640x480 with 1 Axes>"
      ]
     },
     "metadata": {},
     "output_type": "display_data"
    }
   ],
   "source": [
    "df.plot(style='k.')\n",
    "plt.show()"
   ]
  },
  {
   "cell_type": "code",
   "execution_count": 79,
   "metadata": {
    "colab": {
     "base_uri": "https://localhost:8080/",
     "height": 466
    },
    "id": "DpqkFREjRakC",
    "outputId": "f433b48d-2a56-4572-fabb-a47dbab4608b"
   },
   "outputs": [
    {
     "data": {
      "image/png": "[encoded data removed]",
      "text/plain": [
       "<Figure size 640x480 with 1 Axes>"
      ]
     },
     "metadata": {},
     "output_type": "display_data"
    }
   ],
   "source": [
    "df.plot(style='k--')\n",
    "plt.show()"
   ]
  },
  {
   "cell_type": "markdown",
   "metadata": {
    "id": "4SaakjvjFFFx"
   },
   "source": [
    "Превратим объект DataFrame в переменной df в объект Series с помощью функции squeeze(). Результат запишем в переменную series."
   ]
  },
  {
   "cell_type": "code",
   "execution_count": 80,
   "metadata": {
    "colab": {
     "base_uri": "https://localhost:8080/"
    },
    "id": "ZL-MGgQrRhX2",
    "outputId": "eee2bf9b-44c7-48a6-c47e-690dbd6a3491"
   },
   "outputs": [
    {
     "data": {
      "text/plain": [
       "pandas.core.series.Series"
      ]
     },
     "execution_count": 80,
     "metadata": {},
     "output_type": "execute_result"
    }
   ],
   "source": [
    "ser = df.squeeze()\n",
    "type(ser)"
   ]
  },
  {
   "cell_type": "markdown",
   "metadata": {
    "id": "n993k_fwFO1R"
   },
   "source": [
    "Построим сгруппированные по годам линейные графики. Это потребует выполнения следующих действий:\n",
    "* Убедиться в том, что мы работаем с объектом Series, а не DataFrame. Превратить таблицу с одним столбцом целевых значений в объект Series можно с помощью функции squeeze().\n",
    "* Импортировать функции DataFrame и Grouper из модуля pandas.\n",
    "* Сгруппировать временной ряд по годам с помощью функции groupby(Grouper(freq='A')) и поместить результат в переменную groups.\n",
    "* Создать пустую таблицу данных с помощью функции DataFrame() и поместить результат в переменную years.\n",
    "* С помощью команды for, перебирая период (name) и данные (group), содержащиеся в переменной groups, создать в таблице данных years столбцы для каждого года (name.year), заполненные соответствующими данными о ценах на материал 1 (group.values).\n",
    "* Построить линейные графики друг под другом для всех годов, воспользовавшись функцией plot(subplots=True, legend=True) и функцией show() из модуля matplotlib.pyplot. Настроить график можно с помощью модуля matplotlib."
   ]
  },
  {
   "cell_type": "code",
   "execution_count": 81,
   "metadata": {
    "id": "lDQ4W2FCR42r"
   },
   "outputs": [],
   "source": [
    "groups = ser.groupby(pd.Grouper(freq='A'))"
   ]
  },
  {
   "cell_type": "code",
   "execution_count": 82,
   "metadata": {
    "id": "DAWrM_RRSmQA"
   },
   "outputs": [],
   "source": [
    "years = pd.DataFrame()"
   ]
  },
  {
   "cell_type": "code",
   "execution_count": 83,
   "metadata": {
    "id": "-79IWbfOSr_Y"
   },
   "outputs": [],
   "source": [
    "for name, group in groups:\n",
    "  years[name.year] = group.values"
   ]
  },
  {
   "cell_type": "code",
   "execution_count": 84,
   "metadata": {
    "colab": {
     "base_uri": "https://localhost:8080/",
     "height": 426
    },
    "id": "tEWBBMmITNEu",
    "outputId": "e9fc3275-871c-4384-fd16-d7abf1f54d98"
   },
   "outputs": [
    {
     "data": {
      "text/html": [
       "<div>\n",
       "<style scoped>\n",
       "    .dataframe tbody tr th:only-of-type {\n",
       "        vertical-align: middle;\n",
       "    }\n",
       "\n",
       "    .dataframe tbody tr th {\n",
       "        vertical-align: top;\n",
       "    }\n",
       "\n",
       "    .dataframe thead th {\n",
       "        text-align: right;\n",
       "    }\n",
       "</style>\n",
       "<table border=\"1\" class=\"dataframe\">\n",
       "  <thead>\n",
       "    <tr style=\"text-align: right;\">\n",
       "      <th></th>\n",
       "      <th>2007</th>\n",
       "      <th>2008</th>\n",
       "      <th>2009</th>\n",
       "      <th>2010</th>\n",
       "    </tr>\n",
       "  </thead>\n",
       "  <tbody>\n",
       "    <tr>\n",
       "      <th>0</th>\n",
       "      <td>20.62</td>\n",
       "      <td>31.57</td>\n",
       "      <td>42.25</td>\n",
       "      <td>48.10</td>\n",
       "    </tr>\n",
       "    <tr>\n",
       "      <th>1</th>\n",
       "      <td>22.48</td>\n",
       "      <td>31.94</td>\n",
       "      <td>42.71</td>\n",
       "      <td>50.29</td>\n",
       "    </tr>\n",
       "    <tr>\n",
       "      <th>2</th>\n",
       "      <td>24.81</td>\n",
       "      <td>32.10</td>\n",
       "      <td>42.86</td>\n",
       "      <td>50.36</td>\n",
       "    </tr>\n",
       "    <tr>\n",
       "      <th>3</th>\n",
       "      <td>25.93</td>\n",
       "      <td>33.91</td>\n",
       "      <td>43.01</td>\n",
       "      <td>54.19</td>\n",
       "    </tr>\n",
       "    <tr>\n",
       "      <th>4</th>\n",
       "      <td>26.94</td>\n",
       "      <td>34.39</td>\n",
       "      <td>43.03</td>\n",
       "      <td>55.39</td>\n",
       "    </tr>\n",
       "    <tr>\n",
       "      <th>5</th>\n",
       "      <td>27.75</td>\n",
       "      <td>35.02</td>\n",
       "      <td>43.35</td>\n",
       "      <td>56.21</td>\n",
       "    </tr>\n",
       "    <tr>\n",
       "      <th>6</th>\n",
       "      <td>28.16</td>\n",
       "      <td>35.64</td>\n",
       "      <td>43.93</td>\n",
       "      <td>57.11</td>\n",
       "    </tr>\n",
       "    <tr>\n",
       "      <th>7</th>\n",
       "      <td>28.99</td>\n",
       "      <td>37.49</td>\n",
       "      <td>45.96</td>\n",
       "      <td>57.12</td>\n",
       "    </tr>\n",
       "    <tr>\n",
       "      <th>8</th>\n",
       "      <td>30.08</td>\n",
       "      <td>40.00</td>\n",
       "      <td>46.07</td>\n",
       "      <td>57.44</td>\n",
       "    </tr>\n",
       "    <tr>\n",
       "      <th>9</th>\n",
       "      <td>30.57</td>\n",
       "      <td>40.07</td>\n",
       "      <td>46.31</td>\n",
       "      <td>58.92</td>\n",
       "    </tr>\n",
       "    <tr>\n",
       "      <th>10</th>\n",
       "      <td>30.86</td>\n",
       "      <td>40.81</td>\n",
       "      <td>46.37</td>\n",
       "      <td>61.03</td>\n",
       "    </tr>\n",
       "    <tr>\n",
       "      <th>11</th>\n",
       "      <td>31.11</td>\n",
       "      <td>41.39</td>\n",
       "      <td>46.65</td>\n",
       "      <td>62.20</td>\n",
       "    </tr>\n",
       "  </tbody>\n",
       "</table>\n",
       "</div>"
      ],
      "text/plain": [
       "     2007   2008   2009   2010\n",
       "0   20.62  31.57  42.25  48.10\n",
       "1   22.48  31.94  42.71  50.29\n",
       "2   24.81  32.10  42.86  50.36\n",
       "3   25.93  33.91  43.01  54.19\n",
       "4   26.94  34.39  43.03  55.39\n",
       "5   27.75  35.02  43.35  56.21\n",
       "6   28.16  35.64  43.93  57.11\n",
       "7   28.99  37.49  45.96  57.12\n",
       "8   30.08  40.00  46.07  57.44\n",
       "9   30.57  40.07  46.31  58.92\n",
       "10  30.86  40.81  46.37  61.03\n",
       "11  31.11  41.39  46.65  62.20"
      ]
     },
     "execution_count": 84,
     "metadata": {},
     "output_type": "execute_result"
    }
   ],
   "source": [
    "years"
   ]
  },
  {
   "cell_type": "code",
   "execution_count": 85,
   "metadata": {
    "colab": {
     "base_uri": "https://localhost:8080/",
     "height": 431
    },
    "id": "eJdcEK33TPAN",
    "outputId": "6bad45b8-c93d-43e3-f891-c7e1996c5700"
   },
   "outputs": [
    {
     "data": {
      "image/png": "[encoded data removed]",
      "text/plain": [
       "<Figure size 640x480 with 4 Axes>"
      ]
     },
     "metadata": {},
     "output_type": "display_data"
    }
   ],
   "source": [
    "years.plot(subplots=True, legend=True)\n",
    "plt.show()"
   ]
  },
  {
   "cell_type": "markdown",
   "metadata": {
    "id": "uzm33LqgFf4J"
   },
   "source": [
    "Построим гистограмму для временного ряда, воспользовавшись функцией hist() и функцией show() из модуля matplotlib.pyplot."
   ]
  },
  {
   "cell_type": "code",
   "execution_count": 86,
   "metadata": {
    "colab": {
     "base_uri": "https://localhost:8080/",
     "height": 452
    },
    "id": "VARz0LqwTw8C",
    "outputId": "908acd4a-b3ae-4005-c8ac-d2434c0a57bd"
   },
   "outputs": [
    {
     "data": {
      "image/png": "[encoded data removed]",
      "text/plain": [
       "<Figure size 640x480 with 1 Axes>"
      ]
     },
     "metadata": {},
     "output_type": "display_data"
    }
   ],
   "source": [
    "df.hist()\n",
    "plt.show()"
   ]
  },
  {
   "cell_type": "markdown",
   "metadata": {
    "id": "O33rtbdvFi8b"
   },
   "source": [
    "Построим ядерную функцию плотности, воспользовавшись функцией plot(kind='kde') и функцией show() из модуля matplotlib.pyplot."
   ]
  },
  {
   "cell_type": "code",
   "execution_count": 87,
   "metadata": {
    "colab": {
     "base_uri": "https://localhost:8080/",
     "height": 431
    },
    "id": "GSqTw8kQUJeI",
    "outputId": "b4bdd0c0-d11f-49c8-8c6c-81d5c73b1caf"
   },
   "outputs": [
    {
     "data": {
      "image/png": "[encoded data removed]",
      "text/plain": [
       "<Figure size 640x480 with 1 Axes>"
      ]
     },
     "metadata": {},
     "output_type": "display_data"
    }
   ],
   "source": [
    "df.plot(kind='kde')\n",
    "plt.show()"
   ]
  },
  {
   "cell_type": "markdown",
   "metadata": {
    "id": "sCBbWoL_FndA"
   },
   "source": [
    "Построим ящики с усами с разбивкой по годам, воспользовавшись функцией boxplot(), примененной к содержимому переменной years, и функцией show() из модуля matplotlib.pyplot."
   ]
  },
  {
   "cell_type": "code",
   "execution_count": 88,
   "metadata": {
    "colab": {
     "base_uri": "https://localhost:8080/",
     "height": 430
    },
    "id": "WeC0OozyUla5",
    "outputId": "bd0910cf-e68a-4fcb-c235-fa781ae01483"
   },
   "outputs": [
    {
     "data": {
      "image/png": "[encoded data removed]",
      "text/plain": [
       "<Figure size 640x480 with 1 Axes>"
      ]
     },
     "metadata": {},
     "output_type": "display_data"
    }
   ],
   "source": [
    "years.boxplot()\n",
    "plt.show()"
   ]
  },
  {
   "cell_type": "markdown",
   "metadata": {
    "id": "O42UFbFNFr-5"
   },
   "source": [
    "Построим тепловую карту с разбивкой по годам, воспользовавшись функцией matshow(years.T, interpolation=None, aspect='auto') из модуля matplotlib.pyplot, примененной к транспонированному содержимому переменной years, и функцией show() из модуля matplotlib.pyplot."
   ]
  },
  {
   "cell_type": "code",
   "execution_count": 89,
   "metadata": {
    "colab": {
     "base_uri": "https://localhost:8080/",
     "height": 437
    },
    "id": "6A9JNukGU5Fj",
    "outputId": "2c401913-c02f-41d2-f618-c67dcba74764"
   },
   "outputs": [
    {
     "data": {
      "image/png": "[encoded data removed]",
      "text/plain": [
       "<Figure size 1440x480 with 1 Axes>"
      ]
     },
     "metadata": {},
     "output_type": "display_data"
    }
   ],
   "source": [
    "plt.matshow(years.T, interpolation=None, aspect='auto')\n",
    "plt.show()"
   ]
  }
 ],
 "metadata": {
  "colab": {
   "provenance": []
  },
  "kernelspec": {
   "display_name": "Python 3 (ipykernel)",
   "language": "python",
   "name": "python3"
  },
  "language_info": {
   "codemirror_mode": {
    "name": "ipython",
    "version": 3
   },
   "file_extension": ".py",
   "mimetype": "text/x-python",
   "name": "python",
   "nbconvert_exporter": "python",
   "pygments_lexer": "ipython3",
   "version": "3.10.9"
  }
 },
 "nbformat": 4,
 "nbformat_minor": 1
}
