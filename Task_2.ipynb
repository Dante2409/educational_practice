{
 "cells": [
  {
   "cell_type": "markdown",
   "metadata": {
    "id": "OrwCxRWcFzvu"
   },
   "source": [
    "# ЗАДАНИЕ 2. ПРЕОБРАЗОВАНИЕ И АНАЛИЗ ДИНАМИКИ ВРЕМЕННОГО РЯДА"
   ]
  },
  {
   "cell_type": "markdown",
   "metadata": {
    "id": "UzrW_DIiF3TZ"
   },
   "source": [
    "Измените частоту представления данных по ценам на материал 1 в большую и в меньшую сторону, воспользуйтесь основными аналитическими характеристиками динамики для анализа и прогнозирования временного ряда."
   ]
  },
  {
   "cell_type": "markdown",
   "metadata": {
    "id": "WIdB63_OF5jh"
   },
   "source": [
    "# Раздел 1. Изменение частоты представления данных и интерполяция"
   ]
  },
  {
   "cell_type": "markdown",
   "metadata": {
    "id": "nnkyyDDTF89K"
   },
   "source": [
    "Прочитаем данные по ценам на материал 1 и приведем их к виду, пригодному для дальнейшего анализа."
   ]
  },
  {
   "cell_type": "code",
   "execution_count": 1,
   "metadata": {
    "colab": {
     "base_uri": "https://localhost:8080/"
    },
    "executionInfo": {
     "elapsed": 10456,
     "status": "ok",
     "timestamp": 1681226425556,
     "user": {
      "displayName": "Анна Заграновская",
      "userId": "10819605571315084366"
     },
     "user_tz": -180
    },
    "id": "A1LvY1QrHz5u",
    "outputId": "650e1f4c-5580-4f80-a510-b6a2876ebd7a"
   },
   "outputs": [
    {
     "name": "stdout",
     "output_type": "stream",
     "text": [
      "Requirement already satisfied: xlrd in c:\\anaconda\\lib\\site-packages (2.0.1)\n"
     ]
    }
   ],
   "source": [
    "!pip install --upgrade xlrd"
   ]
  },
  {
   "cell_type": "code",
   "execution_count": 2,
   "metadata": {
    "id": "QTdWvydoIRUl"
   },
   "outputs": [],
   "source": [
    "import os\n",
    "import pandas as pd\n",
    "import numpy as np\n",
    "import matplotlib.pyplot as plt"
   ]
  },
  {
   "cell_type": "code",
   "execution_count": 3,
   "metadata": {
    "colab": {
     "base_uri": "https://localhost:8080/",
     "height": 386
    },
    "executionInfo": {
     "elapsed": 2840,
     "status": "ok",
     "timestamp": 1681226477874,
     "user": {
      "displayName": "Анна Заграновская",
      "userId": "10819605571315084366"
     },
     "user_tz": -180
    },
    "id": "_O2zVQvUJagj",
    "outputId": "1fbdab60-e804-4a9c-fd71-93504256f3d2"
   },
   "outputs": [
    {
     "data": {
      "text/html": [
       "<div>\n",
       "<style scoped>\n",
       "    .dataframe tbody tr th:only-of-type {\n",
       "        vertical-align: middle;\n",
       "    }\n",
       "\n",
       "    .dataframe tbody tr th {\n",
       "        vertical-align: top;\n",
       "    }\n",
       "\n",
       "    .dataframe thead th {\n",
       "        text-align: right;\n",
       "    }\n",
       "</style>\n",
       "<table border=\"1\" class=\"dataframe\">\n",
       "  <thead>\n",
       "    <tr style=\"text-align: right;\">\n",
       "      <th></th>\n",
       "      <th>Unnamed: 0</th>\n",
       "      <th>Unnamed: 1</th>\n",
       "      <th>Рыночные цены на материал 1 (руб.)</th>\n",
       "      <th>Unnamed: 3</th>\n",
       "      <th>Unnamed: 4</th>\n",
       "      <th>Unnamed: 5</th>\n",
       "      <th>Unnamed: 6</th>\n",
       "      <th>Unnamed: 7</th>\n",
       "      <th>Unnamed: 8</th>\n",
       "      <th>Unnamed: 9</th>\n",
       "      <th>...</th>\n",
       "      <th>Unnamed: 40</th>\n",
       "      <th>Unnamed: 41</th>\n",
       "      <th>Unnamed: 42</th>\n",
       "      <th>Unnamed: 43</th>\n",
       "      <th>Unnamed: 44</th>\n",
       "      <th>Unnamed: 45</th>\n",
       "      <th>Unnamed: 46</th>\n",
       "      <th>Unnamed: 47</th>\n",
       "      <th>Unnamed: 48</th>\n",
       "      <th>Unnamed: 49</th>\n",
       "    </tr>\n",
       "  </thead>\n",
       "  <tbody>\n",
       "    <tr>\n",
       "      <th>0</th>\n",
       "      <td>NaN</td>\n",
       "      <td>NaN</td>\n",
       "      <td>2007-01-01 00:00:00</td>\n",
       "      <td>2007-02-01 00:00:00</td>\n",
       "      <td>2007-03-01 00:00:00</td>\n",
       "      <td>2007-04-01 00:00:00</td>\n",
       "      <td>2007-05-01 00:00:00</td>\n",
       "      <td>2007-06-01 00:00:00</td>\n",
       "      <td>2007-07-01 00:00:00</td>\n",
       "      <td>2007-08-01 00:00:00</td>\n",
       "      <td>...</td>\n",
       "      <td>2010-03-01 00:00:00</td>\n",
       "      <td>2010-04-01 00:00:00</td>\n",
       "      <td>2010-05-01 00:00:00</td>\n",
       "      <td>2010-06-01 00:00:00</td>\n",
       "      <td>2010-07-01 00:00:00</td>\n",
       "      <td>2010-08-01 00:00:00</td>\n",
       "      <td>2010-09-01 00:00:00</td>\n",
       "      <td>2010-10-01 00:00:00</td>\n",
       "      <td>2010-11-01 00:00:00</td>\n",
       "      <td>2010-12-01 00:00:00</td>\n",
       "    </tr>\n",
       "    <tr>\n",
       "      <th>1</th>\n",
       "      <td>№ организации</td>\n",
       "      <td>1.0</td>\n",
       "      <td>26.45</td>\n",
       "      <td>23.89</td>\n",
       "      <td>25.95</td>\n",
       "      <td>30.03</td>\n",
       "      <td>28.96</td>\n",
       "      <td>25.58</td>\n",
       "      <td>25.96</td>\n",
       "      <td>30.56</td>\n",
       "      <td>...</td>\n",
       "      <td>37.36</td>\n",
       "      <td>39.21</td>\n",
       "      <td>39.43</td>\n",
       "      <td>43.5</td>\n",
       "      <td>40.75</td>\n",
       "      <td>42.84</td>\n",
       "      <td>38.01</td>\n",
       "      <td>45.18</td>\n",
       "      <td>42.49</td>\n",
       "      <td>44.2</td>\n",
       "    </tr>\n",
       "    <tr>\n",
       "      <th>2</th>\n",
       "      <td>NaN</td>\n",
       "      <td>2.0</td>\n",
       "      <td>26.09</td>\n",
       "      <td>20.66</td>\n",
       "      <td>22.6</td>\n",
       "      <td>25.05</td>\n",
       "      <td>27.59</td>\n",
       "      <td>20.49</td>\n",
       "      <td>27.39</td>\n",
       "      <td>28.52</td>\n",
       "      <td>...</td>\n",
       "      <td>39.54</td>\n",
       "      <td>42.38</td>\n",
       "      <td>37.5</td>\n",
       "      <td>41.29</td>\n",
       "      <td>44.96</td>\n",
       "      <td>45.39</td>\n",
       "      <td>42.49</td>\n",
       "      <td>45.77</td>\n",
       "      <td>46.94</td>\n",
       "      <td>40.83</td>\n",
       "    </tr>\n",
       "    <tr>\n",
       "      <th>3</th>\n",
       "      <td>NaN</td>\n",
       "      <td>3.0</td>\n",
       "      <td>22.05</td>\n",
       "      <td>23.15</td>\n",
       "      <td>28.22</td>\n",
       "      <td>21.55</td>\n",
       "      <td>21.57</td>\n",
       "      <td>28.58</td>\n",
       "      <td>31.42</td>\n",
       "      <td>28.11</td>\n",
       "      <td>...</td>\n",
       "      <td>40.17</td>\n",
       "      <td>47.99</td>\n",
       "      <td>47.92</td>\n",
       "      <td>46.25</td>\n",
       "      <td>47.3</td>\n",
       "      <td>48.9</td>\n",
       "      <td>51.2</td>\n",
       "      <td>43.96</td>\n",
       "      <td>49.22</td>\n",
       "      <td>51.38</td>\n",
       "    </tr>\n",
       "    <tr>\n",
       "      <th>4</th>\n",
       "      <td>NaN</td>\n",
       "      <td>4.0</td>\n",
       "      <td>20.41</td>\n",
       "      <td>28.39</td>\n",
       "      <td>17.74</td>\n",
       "      <td>18.46</td>\n",
       "      <td>20.47</td>\n",
       "      <td>28.93</td>\n",
       "      <td>27.89</td>\n",
       "      <td>20.68</td>\n",
       "      <td>...</td>\n",
       "      <td>68.39</td>\n",
       "      <td>73.93</td>\n",
       "      <td>63.97</td>\n",
       "      <td>75.59</td>\n",
       "      <td>70.98</td>\n",
       "      <td>78.28</td>\n",
       "      <td>78.98</td>\n",
       "      <td>71.27</td>\n",
       "      <td>81.34</td>\n",
       "      <td>85.73</td>\n",
       "    </tr>\n",
       "  </tbody>\n",
       "</table>\n",
       "<p>5 rows × 50 columns</p>\n",
       "</div>"
      ],
      "text/plain": [
       "      Unnamed: 0  Unnamed: 1 Рыночные цены на материал 1 (руб.)  \\\n",
       "0            NaN         NaN                2007-01-01 00:00:00   \n",
       "1  № организации         1.0                              26.45   \n",
       "2            NaN         2.0                              26.09   \n",
       "3            NaN         3.0                              22.05   \n",
       "4            NaN         4.0                              20.41   \n",
       "\n",
       "            Unnamed: 3           Unnamed: 4           Unnamed: 5  \\\n",
       "0  2007-02-01 00:00:00  2007-03-01 00:00:00  2007-04-01 00:00:00   \n",
       "1                23.89                25.95                30.03   \n",
       "2                20.66                 22.6                25.05   \n",
       "3                23.15                28.22                21.55   \n",
       "4                28.39                17.74                18.46   \n",
       "\n",
       "            Unnamed: 6           Unnamed: 7           Unnamed: 8  \\\n",
       "0  2007-05-01 00:00:00  2007-06-01 00:00:00  2007-07-01 00:00:00   \n",
       "1                28.96                25.58                25.96   \n",
       "2                27.59                20.49                27.39   \n",
       "3                21.57                28.58                31.42   \n",
       "4                20.47                28.93                27.89   \n",
       "\n",
       "            Unnamed: 9  ...          Unnamed: 40          Unnamed: 41  \\\n",
       "0  2007-08-01 00:00:00  ...  2010-03-01 00:00:00  2010-04-01 00:00:00   \n",
       "1                30.56  ...                37.36                39.21   \n",
       "2                28.52  ...                39.54                42.38   \n",
       "3                28.11  ...                40.17                47.99   \n",
       "4                20.68  ...                68.39                73.93   \n",
       "\n",
       "           Unnamed: 42          Unnamed: 43          Unnamed: 44  \\\n",
       "0  2010-05-01 00:00:00  2010-06-01 00:00:00  2010-07-01 00:00:00   \n",
       "1                39.43                 43.5                40.75   \n",
       "2                 37.5                41.29                44.96   \n",
       "3                47.92                46.25                 47.3   \n",
       "4                63.97                75.59                70.98   \n",
       "\n",
       "           Unnamed: 45          Unnamed: 46          Unnamed: 47  \\\n",
       "0  2010-08-01 00:00:00  2010-09-01 00:00:00  2010-10-01 00:00:00   \n",
       "1                42.84                38.01                45.18   \n",
       "2                45.39                42.49                45.77   \n",
       "3                 48.9                 51.2                43.96   \n",
       "4                78.28                78.98                71.27   \n",
       "\n",
       "           Unnamed: 48          Unnamed: 49  \n",
       "0  2010-11-01 00:00:00  2010-12-01 00:00:00  \n",
       "1                42.49                 44.2  \n",
       "2                46.94                40.83  \n",
       "3                49.22                51.38  \n",
       "4                81.34                85.73  \n",
       "\n",
       "[5 rows x 50 columns]"
      ]
     },
     "execution_count": 3,
     "metadata": {},
     "output_type": "execute_result"
    }
   ],
   "source": [
    "data = pd.read_excel('data.xls', sheet_name='Material 1')\n",
    "data.head()"
   ]
  },
  {
   "cell_type": "code",
   "execution_count": 4,
   "metadata": {
    "id": "H-fSDcdlJfr_"
   },
   "outputs": [],
   "source": [
    "dates = data.loc[data.index == 0].values[0,2:]"
   ]
  },
  {
   "cell_type": "code",
   "execution_count": 5,
   "metadata": {
    "id": "BBtNV3CVKGbF"
   },
   "outputs": [],
   "source": [
    "val = data.loc[data.index == 54].values[0,2:]"
   ]
  },
  {
   "cell_type": "code",
   "execution_count": 6,
   "metadata": {
    "id": "WZKBmowFKVRT"
   },
   "outputs": [],
   "source": [
    "data = {'Date':dates, 'Value':val}"
   ]
  },
  {
   "cell_type": "code",
   "execution_count": 7,
   "metadata": {
    "colab": {
     "base_uri": "https://localhost:8080/",
     "height": 206
    },
    "executionInfo": {
     "elapsed": 240,
     "status": "ok",
     "timestamp": 1681226501489,
     "user": {
      "displayName": "Анна Заграновская",
      "userId": "10819605571315084366"
     },
     "user_tz": -180
    },
    "id": "pZPdX4TUKnkb",
    "outputId": "09cb4d4d-3f77-49ef-a65e-e7d0473bf774"
   },
   "outputs": [
    {
     "data": {
      "text/html": [
       "<div>\n",
       "<style scoped>\n",
       "    .dataframe tbody tr th:only-of-type {\n",
       "        vertical-align: middle;\n",
       "    }\n",
       "\n",
       "    .dataframe tbody tr th {\n",
       "        vertical-align: top;\n",
       "    }\n",
       "\n",
       "    .dataframe thead th {\n",
       "        text-align: right;\n",
       "    }\n",
       "</style>\n",
       "<table border=\"1\" class=\"dataframe\">\n",
       "  <thead>\n",
       "    <tr style=\"text-align: right;\">\n",
       "      <th></th>\n",
       "      <th>Date</th>\n",
       "      <th>Value</th>\n",
       "    </tr>\n",
       "  </thead>\n",
       "  <tbody>\n",
       "    <tr>\n",
       "      <th>0</th>\n",
       "      <td>2007-01-01</td>\n",
       "      <td>26.94</td>\n",
       "    </tr>\n",
       "    <tr>\n",
       "      <th>1</th>\n",
       "      <td>2007-02-01</td>\n",
       "      <td>22.48</td>\n",
       "    </tr>\n",
       "    <tr>\n",
       "      <th>2</th>\n",
       "      <td>2007-03-01</td>\n",
       "      <td>28.16</td>\n",
       "    </tr>\n",
       "    <tr>\n",
       "      <th>3</th>\n",
       "      <td>2007-04-01</td>\n",
       "      <td>20.62</td>\n",
       "    </tr>\n",
       "    <tr>\n",
       "      <th>4</th>\n",
       "      <td>2007-05-01</td>\n",
       "      <td>24.81</td>\n",
       "    </tr>\n",
       "  </tbody>\n",
       "</table>\n",
       "</div>"
      ],
      "text/plain": [
       "        Date  Value\n",
       "0 2007-01-01  26.94\n",
       "1 2007-02-01  22.48\n",
       "2 2007-03-01  28.16\n",
       "3 2007-04-01  20.62\n",
       "4 2007-05-01  24.81"
      ]
     },
     "execution_count": 7,
     "metadata": {},
     "output_type": "execute_result"
    }
   ],
   "source": [
    "df = pd.DataFrame(data)\n",
    "df.head()"
   ]
  },
  {
   "cell_type": "code",
   "execution_count": 8,
   "metadata": {
    "colab": {
     "base_uri": "https://localhost:8080/",
     "height": 394
    },
    "executionInfo": {
     "elapsed": 262,
     "status": "ok",
     "timestamp": 1681226508037,
     "user": {
      "displayName": "Анна Заграновская",
      "userId": "10819605571315084366"
     },
     "user_tz": -180
    },
    "id": "m_PU-OGYKtoS",
    "outputId": "ad790b7b-e375-4085-b0d3-40987fe8c071"
   },
   "outputs": [
    {
     "data": {
      "text/html": [
       "<div>\n",
       "<style scoped>\n",
       "    .dataframe tbody tr th:only-of-type {\n",
       "        vertical-align: middle;\n",
       "    }\n",
       "\n",
       "    .dataframe tbody tr th {\n",
       "        vertical-align: top;\n",
       "    }\n",
       "\n",
       "    .dataframe thead th {\n",
       "        text-align: right;\n",
       "    }\n",
       "</style>\n",
       "<table border=\"1\" class=\"dataframe\">\n",
       "  <thead>\n",
       "    <tr style=\"text-align: right;\">\n",
       "      <th></th>\n",
       "      <th>Value</th>\n",
       "    </tr>\n",
       "    <tr>\n",
       "      <th>Date</th>\n",
       "      <th></th>\n",
       "    </tr>\n",
       "  </thead>\n",
       "  <tbody>\n",
       "    <tr>\n",
       "      <th>2007-01-01</th>\n",
       "      <td>26.94</td>\n",
       "    </tr>\n",
       "    <tr>\n",
       "      <th>2007-02-01</th>\n",
       "      <td>22.48</td>\n",
       "    </tr>\n",
       "    <tr>\n",
       "      <th>2007-03-01</th>\n",
       "      <td>28.16</td>\n",
       "    </tr>\n",
       "    <tr>\n",
       "      <th>2007-04-01</th>\n",
       "      <td>20.62</td>\n",
       "    </tr>\n",
       "    <tr>\n",
       "      <th>2007-05-01</th>\n",
       "      <td>24.81</td>\n",
       "    </tr>\n",
       "    <tr>\n",
       "      <th>2007-06-01</th>\n",
       "      <td>31.57</td>\n",
       "    </tr>\n",
       "    <tr>\n",
       "      <th>2007-07-01</th>\n",
       "      <td>31.94</td>\n",
       "    </tr>\n",
       "    <tr>\n",
       "      <th>2007-08-01</th>\n",
       "      <td>30.57</td>\n",
       "    </tr>\n",
       "    <tr>\n",
       "      <th>2007-09-01</th>\n",
       "      <td>25.93</td>\n",
       "    </tr>\n",
       "    <tr>\n",
       "      <th>2007-10-01</th>\n",
       "      <td>32.1</td>\n",
       "    </tr>\n",
       "  </tbody>\n",
       "</table>\n",
       "</div>"
      ],
      "text/plain": [
       "            Value\n",
       "Date             \n",
       "2007-01-01  26.94\n",
       "2007-02-01  22.48\n",
       "2007-03-01  28.16\n",
       "2007-04-01  20.62\n",
       "2007-05-01  24.81\n",
       "2007-06-01  31.57\n",
       "2007-07-01  31.94\n",
       "2007-08-01  30.57\n",
       "2007-09-01  25.93\n",
       "2007-10-01   32.1"
      ]
     },
     "execution_count": 8,
     "metadata": {},
     "output_type": "execute_result"
    }
   ],
   "source": [
    "df = df.set_index('Date')\n",
    "df.head(10)"
   ]
  },
  {
   "cell_type": "code",
   "execution_count": 9,
   "metadata": {
    "colab": {
     "base_uri": "https://localhost:8080/"
    },
    "executionInfo": {
     "elapsed": 235,
     "status": "ok",
     "timestamp": 1681226511514,
     "user": {
      "displayName": "Анна Заграновская",
      "userId": "10819605571315084366"
     },
     "user_tz": -180
    },
    "id": "eIxaVlkRLBWp",
    "outputId": "e12fa673-d7e2-412d-bb0b-48c2b22c8f7f"
   },
   "outputs": [
    {
     "data": {
      "text/plain": [
       "48"
      ]
     },
     "execution_count": 9,
     "metadata": {},
     "output_type": "execute_result"
    }
   ],
   "source": [
    "df.size"
   ]
  },
  {
   "cell_type": "code",
   "execution_count": 10,
   "metadata": {
    "colab": {
     "base_uri": "https://localhost:8080/"
    },
    "executionInfo": {
     "elapsed": 698,
     "status": "ok",
     "timestamp": 1681226519464,
     "user": {
      "displayName": "Анна Заграновская",
      "userId": "10819605571315084366"
     },
     "user_tz": -180
    },
    "id": "rkFVGoHMLOf2",
    "outputId": "5f2812c6-6446-48a9-dd48-694ffdb9d054"
   },
   "outputs": [
    {
     "name": "stdout",
     "output_type": "stream",
     "text": [
      "<class 'pandas.core.frame.DataFrame'>\n",
      "DatetimeIndex: 48 entries, 2007-01-01 to 2010-12-01\n",
      "Data columns (total 1 columns):\n",
      " #   Column  Non-Null Count  Dtype \n",
      "---  ------  --------------  ----- \n",
      " 0   Value   48 non-null     object\n",
      "dtypes: object(1)\n",
      "memory usage: 768.0+ bytes\n"
     ]
    }
   ],
   "source": [
    "df.info()"
   ]
  },
  {
   "cell_type": "code",
   "execution_count": 11,
   "metadata": {
    "id": "gbtxst8_LSbn"
   },
   "outputs": [],
   "source": [
    "df.Value = df.Value.astype(float)"
   ]
  },
  {
   "cell_type": "code",
   "execution_count": 12,
   "metadata": {
    "colab": {
     "base_uri": "https://localhost:8080/"
    },
    "executionInfo": {
     "elapsed": 277,
     "status": "ok",
     "timestamp": 1681226542874,
     "user": {
      "displayName": "Анна Заграновская",
      "userId": "10819605571315084366"
     },
     "user_tz": -180
    },
    "id": "eE5DIosbLw_y",
    "outputId": "655a8fff-9e33-4e90-a460-15a496a6d552"
   },
   "outputs": [
    {
     "name": "stdout",
     "output_type": "stream",
     "text": [
      "<class 'pandas.core.frame.DataFrame'>\n",
      "DatetimeIndex: 48 entries, 2007-01-01 to 2010-12-01\n",
      "Data columns (total 1 columns):\n",
      " #   Column  Non-Null Count  Dtype  \n",
      "---  ------  --------------  -----  \n",
      " 0   Value   48 non-null     float64\n",
      "dtypes: float64(1)\n",
      "memory usage: 768.0 bytes\n"
     ]
    }
   ],
   "source": [
    "df.info()"
   ]
  },
  {
   "cell_type": "markdown",
   "metadata": {
    "id": "nlYlz63CGBeZ"
   },
   "source": [
    "Убедимся в том, что работаем с объектом Series, а не DataFrame. Превратить таблицу с одним столбцом целевых значений в объект Series можно с помощью функции squeeze(). Дадим ему название series."
   ]
  },
  {
   "cell_type": "code",
   "execution_count": 13,
   "metadata": {
    "id": "tfgUV1hE6a3k"
   },
   "outputs": [],
   "source": [
    "ser = df.squeeze()"
   ]
  },
  {
   "cell_type": "code",
   "execution_count": 14,
   "metadata": {
    "colab": {
     "base_uri": "https://localhost:8080/"
    },
    "executionInfo": {
     "elapsed": 4,
     "status": "ok",
     "timestamp": 1681226727572,
     "user": {
      "displayName": "Анна Заграновская",
      "userId": "10819605571315084366"
     },
     "user_tz": -180
    },
    "id": "hrx7u-iw6iS7",
    "outputId": "f62a75f0-bbfc-4e1f-8fab-8acd762a5f8d"
   },
   "outputs": [
    {
     "data": {
      "text/plain": [
       "pandas.core.series.Series"
      ]
     },
     "execution_count": 14,
     "metadata": {},
     "output_type": "execute_result"
    }
   ],
   "source": [
    "type(ser)"
   ]
  },
  {
   "cell_type": "markdown",
   "metadata": {
    "id": "TqYKuEWtGE3l"
   },
   "source": [
    "Перейдем к дневной разбивке данных, воспользовавшись функцией resample('D').mean(). Результат запишем в переменную upsampled. Выведем на экран первые 32 наблюдения, воспользовавшись функцией head()."
   ]
  },
  {
   "cell_type": "code",
   "execution_count": 15,
   "metadata": {
    "colab": {
     "base_uri": "https://localhost:8080/"
    },
    "executionInfo": {
     "elapsed": 256,
     "status": "ok",
     "timestamp": 1681226808022,
     "user": {
      "displayName": "Анна Заграновская",
      "userId": "10819605571315084366"
     },
     "user_tz": -180
    },
    "id": "c0DTyp0x6k7C",
    "outputId": "ff87a93b-f5da-40d0-e7a6-09b28beb708c"
   },
   "outputs": [
    {
     "name": "stdout",
     "output_type": "stream",
     "text": [
      "Date\n",
      "2007-01-01    26.94\n",
      "2007-01-02      NaN\n",
      "2007-01-03      NaN\n",
      "2007-01-04      NaN\n",
      "2007-01-05      NaN\n",
      "2007-01-06      NaN\n",
      "2007-01-07      NaN\n",
      "2007-01-08      NaN\n",
      "2007-01-09      NaN\n",
      "2007-01-10      NaN\n",
      "2007-01-11      NaN\n",
      "2007-01-12      NaN\n",
      "2007-01-13      NaN\n",
      "2007-01-14      NaN\n",
      "2007-01-15      NaN\n",
      "2007-01-16      NaN\n",
      "2007-01-17      NaN\n",
      "2007-01-18      NaN\n",
      "2007-01-19      NaN\n",
      "2007-01-20      NaN\n",
      "2007-01-21      NaN\n",
      "2007-01-22      NaN\n",
      "2007-01-23      NaN\n",
      "2007-01-24      NaN\n",
      "2007-01-25      NaN\n",
      "2007-01-26      NaN\n",
      "2007-01-27      NaN\n",
      "2007-01-28      NaN\n",
      "2007-01-29      NaN\n",
      "2007-01-30      NaN\n",
      "2007-01-31      NaN\n",
      "2007-02-01    22.48\n",
      "Freq: D, Name: Value, dtype: float64\n"
     ]
    }
   ],
   "source": [
    "upsampled = ser.resample('D').mean()\n",
    "print(upsampled.head(32))"
   ]
  },
  {
   "cell_type": "markdown",
   "metadata": {
    "id": "DXoyK_C8GKf6"
   },
   "source": [
    "Проведем интерполяцию данных на основе полинома 1-ой степени, воспользовавшись функцией interpolate(method='linear'). Результат запишем в переменную interpolated. Выведем на экран первые 32 наблюдения, воспользовавшись функцией head()."
   ]
  },
  {
   "cell_type": "code",
   "execution_count": 16,
   "metadata": {
    "colab": {
     "base_uri": "https://localhost:8080/"
    },
    "executionInfo": {
     "elapsed": 292,
     "status": "ok",
     "timestamp": 1681226969329,
     "user": {
      "displayName": "Анна Заграновская",
      "userId": "10819605571315084366"
     },
     "user_tz": -180
    },
    "id": "P7Pljwdv7qeU",
    "outputId": "5a33a445-8ac6-4b46-ccd3-0781fb817fde"
   },
   "outputs": [
    {
     "name": "stdout",
     "output_type": "stream",
     "text": [
      "Date\n",
      "2007-01-01    26.940000\n",
      "2007-01-02    26.796129\n",
      "2007-01-03    26.652258\n",
      "2007-01-04    26.508387\n",
      "2007-01-05    26.364516\n",
      "2007-01-06    26.220645\n",
      "2007-01-07    26.076774\n",
      "2007-01-08    25.932903\n",
      "2007-01-09    25.789032\n",
      "2007-01-10    25.645161\n",
      "2007-01-11    25.501290\n",
      "2007-01-12    25.357419\n",
      "2007-01-13    25.213548\n",
      "2007-01-14    25.069677\n",
      "2007-01-15    24.925806\n",
      "2007-01-16    24.781935\n",
      "2007-01-17    24.638065\n",
      "2007-01-18    24.494194\n",
      "2007-01-19    24.350323\n",
      "2007-01-20    24.206452\n",
      "2007-01-21    24.062581\n",
      "2007-01-22    23.918710\n",
      "2007-01-23    23.774839\n",
      "2007-01-24    23.630968\n",
      "2007-01-25    23.487097\n",
      "2007-01-26    23.343226\n",
      "2007-01-27    23.199355\n",
      "2007-01-28    23.055484\n",
      "2007-01-29    22.911613\n",
      "2007-01-30    22.767742\n",
      "2007-01-31    22.623871\n",
      "2007-02-01    22.480000\n",
      "Freq: D, Name: Value, dtype: float64\n"
     ]
    }
   ],
   "source": [
    "interpolated = upsampled.interpolate(method='linear')\n",
    "print(interpolated.head(32))"
   ]
  },
  {
   "cell_type": "markdown",
   "metadata": {
    "id": "H81XACUYGQF6"
   },
   "source": [
    "Построим для интерполированного ряда линейный график, воспользовавшись функцией plot(), а также функцией show() из модуля matplotlib.pyplot."
   ]
  },
  {
   "cell_type": "code",
   "execution_count": 17,
   "metadata": {
    "colab": {
     "base_uri": "https://localhost:8080/",
     "height": 466
    },
    "executionInfo": {
     "elapsed": 930,
     "status": "ok",
     "timestamp": 1681227003698,
     "user": {
      "displayName": "Анна Заграновская",
      "userId": "10819605571315084366"
     },
     "user_tz": -180
    },
    "id": "HBGHEDAb7-o8",
    "outputId": "338e505b-bb74-4962-e7b5-38388be593c8"
   },
   "outputs": [
    {
     "data": {
      "image/png": "[encoded data removed]",
      "text/plain": [
       "<Figure size 640x480 with 1 Axes>"
      ]
     },
     "metadata": {},
     "output_type": "display_data"
    }
   ],
   "source": [
    "interpolated.plot()\n",
    "plt.show()"
   ]
  },
  {
   "cell_type": "markdown",
   "metadata": {
    "id": "9_AIa_9lGT6a"
   },
   "source": [
    "Проведем интерполяцию данных на основе полинома 2-ой степени, воспользовавшись функцией interpolate(method='spline', order=2). Результат запишем в переменную interpolated. Выведем на экран первые 32 наблюдения, воспользовавшись функцией head()."
   ]
  },
  {
   "cell_type": "code",
   "execution_count": 18,
   "metadata": {
    "colab": {
     "base_uri": "https://localhost:8080/"
    },
    "executionInfo": {
     "elapsed": 802,
     "status": "ok",
     "timestamp": 1681227124907,
     "user": {
      "displayName": "Анна Заграновская",
      "userId": "10819605571315084366"
     },
     "user_tz": -180
    },
    "id": "vbF7bM4r8bW1",
    "outputId": "bd22083f-5d12-4bfe-c894-afd562ad0bb7"
   },
   "outputs": [
    {
     "name": "stdout",
     "output_type": "stream",
     "text": [
      "Date\n",
      "2007-01-01    26.940000\n",
      "2007-01-02    26.480712\n",
      "2007-01-03    26.196172\n",
      "2007-01-04    25.923743\n",
      "2007-01-05    25.663424\n",
      "2007-01-06    25.415216\n",
      "2007-01-07    25.179118\n",
      "2007-01-08    24.955130\n",
      "2007-01-09    24.743252\n",
      "2007-01-10    24.543485\n",
      "2007-01-11    24.355828\n",
      "2007-01-12    24.180281\n",
      "2007-01-13    24.016845\n",
      "2007-01-14    23.865519\n",
      "2007-01-15    23.726303\n",
      "2007-01-16    23.599197\n",
      "2007-01-17    23.484202\n",
      "2007-01-18    23.381317\n",
      "2007-01-19    23.290542\n",
      "2007-01-20    23.211878\n",
      "2007-01-21    23.145324\n",
      "2007-01-22    23.090880\n",
      "2007-01-23    23.048547\n",
      "2007-01-24    23.018323\n",
      "2007-01-25    23.000211\n",
      "2007-01-26    22.994208\n",
      "2007-01-27    23.000316\n",
      "2007-01-28    23.018534\n",
      "2007-01-29    23.048862\n",
      "2007-01-30    23.091301\n",
      "2007-01-31    23.145849\n",
      "2007-02-01    22.480000\n",
      "Freq: D, Name: Value, dtype: float64\n"
     ]
    }
   ],
   "source": [
    "interpolated = upsampled.interpolate(method='spline', order=2)\n",
    "print(interpolated.head(32))"
   ]
  },
  {
   "cell_type": "markdown",
   "metadata": {
    "id": "YudajOGQGXJk"
   },
   "source": [
    "Построим для интерполированного ряда линейный график, воспользовавшись функцией plot(), а также функцией show() из модуля matplotlib.pyplot."
   ]
  },
  {
   "cell_type": "code",
   "execution_count": 19,
   "metadata": {
    "colab": {
     "base_uri": "https://localhost:8080/",
     "height": 466
    },
    "executionInfo": {
     "elapsed": 671,
     "status": "ok",
     "timestamp": 1681227139020,
     "user": {
      "displayName": "Анна Заграновская",
      "userId": "10819605571315084366"
     },
     "user_tz": -180
    },
    "id": "4ns46hG38bW3",
    "outputId": "9cb953e4-dede-447e-8e35-bcbeed0cfda5"
   },
   "outputs": [
    {
     "data": {
      "image/png": "[encoded data removed]",
      "text/plain": [
       "<Figure size 640x480 with 1 Axes>"
      ]
     },
     "metadata": {},
     "output_type": "display_data"
    }
   ],
   "source": [
    "interpolated.plot()\n",
    "plt.show()"
   ]
  },
  {
   "cell_type": "markdown",
   "metadata": {
    "id": "g5xinUAwGaKx"
   },
   "source": [
    "Перейдем к квартальной разбивке данных для 2007 года, воспользовавшись функцией resample('Q'). Результат запишем в переменную resample. Для каждого квартала найдем среднеквартальное значение цены на материал 1, воспользовавшись функцией mean(). Результат запишем в переменную q_mean. Выведем на экран первые 5 наблюдений, воспользовавшись функцией head()."
   ]
  },
  {
   "cell_type": "code",
   "execution_count": 20,
   "metadata": {
    "id": "OSUcWxFk9GnK"
   },
   "outputs": [],
   "source": [
    "resample = ser.resample('Q')"
   ]
  },
  {
   "cell_type": "code",
   "execution_count": 21,
   "metadata": {
    "id": "s0DQc9169Tbq"
   },
   "outputs": [],
   "source": [
    "q_mean = resample.mean()"
   ]
  },
  {
   "cell_type": "code",
   "execution_count": 22,
   "metadata": {
    "colab": {
     "base_uri": "https://localhost:8080/"
    },
    "executionInfo": {
     "elapsed": 4,
     "status": "ok",
     "timestamp": 1681227377383,
     "user": {
      "displayName": "Анна Заграновская",
      "userId": "10819605571315084366"
     },
     "user_tz": -180
    },
    "id": "jenrkAXt9aib",
    "outputId": "89ac3d31-4b1d-4f71-dd64-071835fb4c1c"
   },
   "outputs": [
    {
     "name": "stdout",
     "output_type": "stream",
     "text": [
      "Date\n",
      "2007-03-31    25.860000\n",
      "2007-06-30    25.666667\n",
      "2007-09-30    29.480000\n",
      "2007-12-31    32.030000\n",
      "2008-03-31    32.386667\n",
      "Freq: Q-DEC, Name: Value, dtype: float64\n"
     ]
    }
   ],
   "source": [
    "print(q_mean.head())"
   ]
  },
  {
   "cell_type": "markdown",
   "metadata": {
    "id": "tmxZCDhAGegx"
   },
   "source": [
    "Построим для преобразованного ряда линейный график, воспользовавшись функцией plot(), а также функцией show() из модуля matplotlib.pyplot."
   ]
  },
  {
   "cell_type": "code",
   "execution_count": 23,
   "metadata": {
    "colab": {
     "base_uri": "https://localhost:8080/",
     "height": 449
    },
    "executionInfo": {
     "elapsed": 437,
     "status": "ok",
     "timestamp": 1681227438398,
     "user": {
      "displayName": "Анна Заграновская",
      "userId": "10819605571315084366"
     },
     "user_tz": -180
    },
    "id": "oqNNQ_my9onJ",
    "outputId": "6200150f-998b-4ef3-c844-785fb5de7cdc"
   },
   "outputs": [
    {
     "data": {
      "image/png": "[encoded data removed]",
      "text/plain": [
       "<Figure size 640x480 with 1 Axes>"
      ]
     },
     "metadata": {},
     "output_type": "display_data"
    }
   ],
   "source": [
    "q_mean.plot()\n",
    "plt.show()"
   ]
  },
  {
   "cell_type": "markdown",
   "metadata": {
    "id": "rmUBkf_WGh6K"
   },
   "source": [
    "Перейдем к годовой разбивке данных, воспользовавшись функцией resample('A'). Результат запишем в переменную resample. Для каждого года найдем среднегодовое значение цены на материал 1, воспользовавшись функцией mean(). Результат запишем в переменную y_mean. Выведем на экран первые 5 наблюдений, воспользовавшись функцией head()."
   ]
  },
  {
   "cell_type": "code",
   "execution_count": 24,
   "metadata": {
    "id": "Z6_irGqZ97Gy"
   },
   "outputs": [],
   "source": [
    "resample = ser.resample('A')"
   ]
  },
  {
   "cell_type": "code",
   "execution_count": 25,
   "metadata": {
    "id": "AzJ5SQzW97Gz"
   },
   "outputs": [],
   "source": [
    "y_mean = resample.mean()"
   ]
  },
  {
   "cell_type": "code",
   "execution_count": 26,
   "metadata": {
    "colab": {
     "base_uri": "https://localhost:8080/"
    },
    "executionInfo": {
     "elapsed": 248,
     "status": "ok",
     "timestamp": 1681227535965,
     "user": {
      "displayName": "Анна Заграновская",
      "userId": "10819605571315084366"
     },
     "user_tz": -180
    },
    "id": "5F9smwkN97Gz",
    "outputId": "2ee6d33e-9519-438b-e8b2-117a08db1594"
   },
   "outputs": [
    {
     "name": "stdout",
     "output_type": "stream",
     "text": [
      "Date\n",
      "2007-12-31    28.259167\n",
      "2008-12-31    35.853333\n",
      "2009-12-31    44.296667\n",
      "2010-12-31    55.215000\n",
      "Freq: A-DEC, Name: Value, dtype: float64\n"
     ]
    }
   ],
   "source": [
    "print(y_mean)"
   ]
  },
  {
   "cell_type": "markdown",
   "metadata": {
    "id": "q8lwaqRRGlOJ"
   },
   "source": [
    "Построим для преобразованного ряда линейный график, воспользовавшись функцией plot(), а также функцией show() из модуля matplotlib.pyplot."
   ]
  },
  {
   "cell_type": "code",
   "execution_count": 27,
   "metadata": {
    "colab": {
     "base_uri": "https://localhost:8080/",
     "height": 449
    },
    "executionInfo": {
     "elapsed": 333,
     "status": "ok",
     "timestamp": 1681227556499,
     "user": {
      "displayName": "Анна Заграновская",
      "userId": "10819605571315084366"
     },
     "user_tz": -180
    },
    "id": "ykrzhwhs97G0",
    "outputId": "159e8ee0-0db0-4df3-e32f-ba92e603fb8e"
   },
   "outputs": [
    {
     "data": {
      "image/png": "[encoded data removed]",
      "text/plain": [
       "<Figure size 640x480 with 1 Axes>"
      ]
     },
     "metadata": {},
     "output_type": "display_data"
    }
   ],
   "source": [
    "y_mean.plot()\n",
    "plt.show()"
   ]
  },
  {
   "cell_type": "markdown",
   "metadata": {
    "id": "KpRmqFoXGoPZ"
   },
   "source": [
    "# Раздел 2. Анализ динамики и прогнозирование временного ряда"
   ]
  },
  {
   "cell_type": "markdown",
   "metadata": {
    "id": "LE2loTGQHGGJ"
   },
   "source": [
    "Построим таблицу данных на основе значений среднегодовой цены на материал 1 (y_mean.values), воспользовавшись функцией DataFrame() из модуля pandas. Результат запишем в переменную temps. "
   ]
  },
  {
   "cell_type": "code",
   "execution_count": 28,
   "metadata": {
    "id": "MXtn_uhY-gua"
   },
   "outputs": [],
   "source": [
    "temps = pd.DataFrame(y_mean.values)"
   ]
  },
  {
   "cell_type": "code",
   "execution_count": 29,
   "metadata": {
    "colab": {
     "base_uri": "https://localhost:8080/",
     "height": 174
    },
    "executionInfo": {
     "elapsed": 257,
     "status": "ok",
     "timestamp": 1681227830275,
     "user": {
      "displayName": "Анна Заграновская",
      "userId": "10819605571315084366"
     },
     "user_tz": -180
    },
    "id": "S7Sk2OwZ_Ltj",
    "outputId": "9b670888-0333-4e73-bb89-ff8421d9a826"
   },
   "outputs": [
    {
     "data": {
      "text/html": [
       "<div>\n",
       "<style scoped>\n",
       "    .dataframe tbody tr th:only-of-type {\n",
       "        vertical-align: middle;\n",
       "    }\n",
       "\n",
       "    .dataframe tbody tr th {\n",
       "        vertical-align: top;\n",
       "    }\n",
       "\n",
       "    .dataframe thead th {\n",
       "        text-align: right;\n",
       "    }\n",
       "</style>\n",
       "<table border=\"1\" class=\"dataframe\">\n",
       "  <thead>\n",
       "    <tr style=\"text-align: right;\">\n",
       "      <th></th>\n",
       "      <th>0</th>\n",
       "    </tr>\n",
       "  </thead>\n",
       "  <tbody>\n",
       "    <tr>\n",
       "      <th>0</th>\n",
       "      <td>28.259167</td>\n",
       "    </tr>\n",
       "    <tr>\n",
       "      <th>1</th>\n",
       "      <td>35.853333</td>\n",
       "    </tr>\n",
       "    <tr>\n",
       "      <th>2</th>\n",
       "      <td>44.296667</td>\n",
       "    </tr>\n",
       "    <tr>\n",
       "      <th>3</th>\n",
       "      <td>55.215000</td>\n",
       "    </tr>\n",
       "  </tbody>\n",
       "</table>\n",
       "</div>"
      ],
      "text/plain": [
       "           0\n",
       "0  28.259167\n",
       "1  35.853333\n",
       "2  44.296667\n",
       "3  55.215000"
      ]
     },
     "execution_count": 29,
     "metadata": {},
     "output_type": "execute_result"
    }
   ],
   "source": [
    "temps"
   ]
  },
  {
   "cell_type": "markdown",
   "metadata": {
    "id": "bWTPWmucHK3g"
   },
   "source": [
    "Поместим в переменную df исходный ряд и сдвинутый на 1 шаг, воспользовавшись функцией concat([values.shift(1), values], axis=1) из модуля pandas. Дадим полученным столбцам названия 't' и 't+1', воспользовавшись следующей командой: df.columns = ['t', 't+1']. Выведем на экран первые 5 значений, воспользовавшись функцией head(). "
   ]
  },
  {
   "cell_type": "code",
   "execution_count": 30,
   "metadata": {
    "colab": {
     "base_uri": "https://localhost:8080/",
     "height": 174
    },
    "executionInfo": {
     "elapsed": 253,
     "status": "ok",
     "timestamp": 1681228004773,
     "user": {
      "displayName": "Анна Заграновская",
      "userId": "10819605571315084366"
     },
     "user_tz": -180
    },
    "id": "T05KYSAb_NGY",
    "outputId": "9a49e298-df09-4e04-fe63-8f024e8978a6"
   },
   "outputs": [
    {
     "data": {
      "text/html": [
       "<div>\n",
       "<style scoped>\n",
       "    .dataframe tbody tr th:only-of-type {\n",
       "        vertical-align: middle;\n",
       "    }\n",
       "\n",
       "    .dataframe tbody tr th {\n",
       "        vertical-align: top;\n",
       "    }\n",
       "\n",
       "    .dataframe thead th {\n",
       "        text-align: right;\n",
       "    }\n",
       "</style>\n",
       "<table border=\"1\" class=\"dataframe\">\n",
       "  <thead>\n",
       "    <tr style=\"text-align: right;\">\n",
       "      <th></th>\n",
       "      <th>t-1</th>\n",
       "      <th>t</th>\n",
       "    </tr>\n",
       "  </thead>\n",
       "  <tbody>\n",
       "    <tr>\n",
       "      <th>0</th>\n",
       "      <td>NaN</td>\n",
       "      <td>28.259167</td>\n",
       "    </tr>\n",
       "    <tr>\n",
       "      <th>1</th>\n",
       "      <td>28.259167</td>\n",
       "      <td>35.853333</td>\n",
       "    </tr>\n",
       "    <tr>\n",
       "      <th>2</th>\n",
       "      <td>35.853333</td>\n",
       "      <td>44.296667</td>\n",
       "    </tr>\n",
       "    <tr>\n",
       "      <th>3</th>\n",
       "      <td>44.296667</td>\n",
       "      <td>55.215000</td>\n",
       "    </tr>\n",
       "  </tbody>\n",
       "</table>\n",
       "</div>"
      ],
      "text/plain": [
       "         t-1          t\n",
       "0        NaN  28.259167\n",
       "1  28.259167  35.853333\n",
       "2  35.853333  44.296667\n",
       "3  44.296667  55.215000"
      ]
     },
     "execution_count": 30,
     "metadata": {},
     "output_type": "execute_result"
    }
   ],
   "source": [
    "df = pd.concat([temps.shift(1), temps], axis=1)\n",
    "df.columns = ['t-1', 't']\n",
    "df"
   ]
  },
  {
   "cell_type": "markdown",
   "metadata": {
    "id": "cP7VWjkSHUIh"
   },
   "source": [
    "Рассчитаем на основе полученной таблицы среднегодовых значений цены на материал 1 основные показатели динамики за 4 года. "
   ]
  },
  {
   "cell_type": "markdown",
   "metadata": {
    "id": "iyKGiSb5HgLD"
   },
   "source": [
    "Поместим в таблицу данных df столбцы с вычисленными значениями следующих показателей: \n",
    "1) абсолютный цепной прирост (Delta_t), \n",
    "2) абсолютный базисный прирост (Delta_0), \n",
    "3) цепной темп роста (Temp_t), \n",
    "4) базисный темп роста (Temp_0), \n",
    "5) цепной темп прироста (TDelta_t), \n",
    "6) базисный темп прироста (TDelta_0). \n",
    "\n",
    "В качестве базисного периода возьмем 2007 год."
   ]
  },
  {
   "cell_type": "code",
   "execution_count": 31,
   "metadata": {
    "colab": {
     "base_uri": "https://localhost:8080/",
     "height": 174
    },
    "executionInfo": {
     "elapsed": 259,
     "status": "ok",
     "timestamp": 1681228137335,
     "user": {
      "displayName": "Анна Заграновская",
      "userId": "10819605571315084366"
     },
     "user_tz": -180
    },
    "id": "UGGXQh2a_jjt",
    "outputId": "93832ee1-4018-4496-b7cf-3d9112326465"
   },
   "outputs": [
    {
     "data": {
      "text/html": [
       "<div>\n",
       "<style scoped>\n",
       "    .dataframe tbody tr th:only-of-type {\n",
       "        vertical-align: middle;\n",
       "    }\n",
       "\n",
       "    .dataframe tbody tr th {\n",
       "        vertical-align: top;\n",
       "    }\n",
       "\n",
       "    .dataframe thead th {\n",
       "        text-align: right;\n",
       "    }\n",
       "</style>\n",
       "<table border=\"1\" class=\"dataframe\">\n",
       "  <thead>\n",
       "    <tr style=\"text-align: right;\">\n",
       "      <th></th>\n",
       "      <th>t-1</th>\n",
       "      <th>t</th>\n",
       "      <th>Delta_t</th>\n",
       "    </tr>\n",
       "  </thead>\n",
       "  <tbody>\n",
       "    <tr>\n",
       "      <th>0</th>\n",
       "      <td>NaN</td>\n",
       "      <td>28.259167</td>\n",
       "      <td>NaN</td>\n",
       "    </tr>\n",
       "    <tr>\n",
       "      <th>1</th>\n",
       "      <td>28.259167</td>\n",
       "      <td>35.853333</td>\n",
       "      <td>7.594167</td>\n",
       "    </tr>\n",
       "    <tr>\n",
       "      <th>2</th>\n",
       "      <td>35.853333</td>\n",
       "      <td>44.296667</td>\n",
       "      <td>8.443333</td>\n",
       "    </tr>\n",
       "    <tr>\n",
       "      <th>3</th>\n",
       "      <td>44.296667</td>\n",
       "      <td>55.215000</td>\n",
       "      <td>10.918333</td>\n",
       "    </tr>\n",
       "  </tbody>\n",
       "</table>\n",
       "</div>"
      ],
      "text/plain": [
       "         t-1          t    Delta_t\n",
       "0        NaN  28.259167        NaN\n",
       "1  28.259167  35.853333   7.594167\n",
       "2  35.853333  44.296667   8.443333\n",
       "3  44.296667  55.215000  10.918333"
      ]
     },
     "execution_count": 31,
     "metadata": {},
     "output_type": "execute_result"
    }
   ],
   "source": [
    "df['Delta_t'] = df['t'] - df['t-1']\n",
    "df"
   ]
  },
  {
   "cell_type": "code",
   "execution_count": 32,
   "metadata": {
    "colab": {
     "base_uri": "https://localhost:8080/",
     "height": 174
    },
    "executionInfo": {
     "elapsed": 13,
     "status": "ok",
     "timestamp": 1681228227462,
     "user": {
      "displayName": "Анна Заграновская",
      "userId": "10819605571315084366"
     },
     "user_tz": -180
    },
    "id": "vubw2YWeAX_k",
    "outputId": "a4593bf8-536b-496f-c4af-8c54c176831c"
   },
   "outputs": [
    {
     "data": {
      "text/html": [
       "<div>\n",
       "<style scoped>\n",
       "    .dataframe tbody tr th:only-of-type {\n",
       "        vertical-align: middle;\n",
       "    }\n",
       "\n",
       "    .dataframe tbody tr th {\n",
       "        vertical-align: top;\n",
       "    }\n",
       "\n",
       "    .dataframe thead th {\n",
       "        text-align: right;\n",
       "    }\n",
       "</style>\n",
       "<table border=\"1\" class=\"dataframe\">\n",
       "  <thead>\n",
       "    <tr style=\"text-align: right;\">\n",
       "      <th></th>\n",
       "      <th>t-1</th>\n",
       "      <th>t</th>\n",
       "      <th>Delta_t</th>\n",
       "      <th>Delta_0</th>\n",
       "    </tr>\n",
       "  </thead>\n",
       "  <tbody>\n",
       "    <tr>\n",
       "      <th>0</th>\n",
       "      <td>NaN</td>\n",
       "      <td>28.259167</td>\n",
       "      <td>NaN</td>\n",
       "      <td>0.000000</td>\n",
       "    </tr>\n",
       "    <tr>\n",
       "      <th>1</th>\n",
       "      <td>28.259167</td>\n",
       "      <td>35.853333</td>\n",
       "      <td>7.594167</td>\n",
       "      <td>7.594167</td>\n",
       "    </tr>\n",
       "    <tr>\n",
       "      <th>2</th>\n",
       "      <td>35.853333</td>\n",
       "      <td>44.296667</td>\n",
       "      <td>8.443333</td>\n",
       "      <td>16.037500</td>\n",
       "    </tr>\n",
       "    <tr>\n",
       "      <th>3</th>\n",
       "      <td>44.296667</td>\n",
       "      <td>55.215000</td>\n",
       "      <td>10.918333</td>\n",
       "      <td>26.955833</td>\n",
       "    </tr>\n",
       "  </tbody>\n",
       "</table>\n",
       "</div>"
      ],
      "text/plain": [
       "         t-1          t    Delta_t    Delta_0\n",
       "0        NaN  28.259167        NaN   0.000000\n",
       "1  28.259167  35.853333   7.594167   7.594167\n",
       "2  35.853333  44.296667   8.443333  16.037500\n",
       "3  44.296667  55.215000  10.918333  26.955833"
      ]
     },
     "execution_count": 32,
     "metadata": {},
     "output_type": "execute_result"
    }
   ],
   "source": [
    "df['Delta_0'] = df['t'] - df['t'][0]\n",
    "df"
   ]
  },
  {
   "cell_type": "code",
   "execution_count": 33,
   "metadata": {
    "colab": {
     "base_uri": "https://localhost:8080/",
     "height": 174
    },
    "executionInfo": {
     "elapsed": 324,
     "status": "ok",
     "timestamp": 1681228296210,
     "user": {
      "displayName": "Анна Заграновская",
      "userId": "10819605571315084366"
     },
     "user_tz": -180
    },
    "id": "rPqfyq8PAuCu",
    "outputId": "f01fb218-e9f6-4c5c-ef94-cdd15ea537fc"
   },
   "outputs": [
    {
     "data": {
      "text/html": [
       "<div>\n",
       "<style scoped>\n",
       "    .dataframe tbody tr th:only-of-type {\n",
       "        vertical-align: middle;\n",
       "    }\n",
       "\n",
       "    .dataframe tbody tr th {\n",
       "        vertical-align: top;\n",
       "    }\n",
       "\n",
       "    .dataframe thead th {\n",
       "        text-align: right;\n",
       "    }\n",
       "</style>\n",
       "<table border=\"1\" class=\"dataframe\">\n",
       "  <thead>\n",
       "    <tr style=\"text-align: right;\">\n",
       "      <th></th>\n",
       "      <th>t-1</th>\n",
       "      <th>t</th>\n",
       "      <th>Delta_t</th>\n",
       "      <th>Delta_0</th>\n",
       "      <th>Temp_t</th>\n",
       "    </tr>\n",
       "  </thead>\n",
       "  <tbody>\n",
       "    <tr>\n",
       "      <th>0</th>\n",
       "      <td>NaN</td>\n",
       "      <td>28.259167</td>\n",
       "      <td>NaN</td>\n",
       "      <td>0.000000</td>\n",
       "      <td>NaN</td>\n",
       "    </tr>\n",
       "    <tr>\n",
       "      <th>1</th>\n",
       "      <td>28.259167</td>\n",
       "      <td>35.853333</td>\n",
       "      <td>7.594167</td>\n",
       "      <td>7.594167</td>\n",
       "      <td>1.268733</td>\n",
       "    </tr>\n",
       "    <tr>\n",
       "      <th>2</th>\n",
       "      <td>35.853333</td>\n",
       "      <td>44.296667</td>\n",
       "      <td>8.443333</td>\n",
       "      <td>16.037500</td>\n",
       "      <td>1.235496</td>\n",
       "    </tr>\n",
       "    <tr>\n",
       "      <th>3</th>\n",
       "      <td>44.296667</td>\n",
       "      <td>55.215000</td>\n",
       "      <td>10.918333</td>\n",
       "      <td>26.955833</td>\n",
       "      <td>1.246482</td>\n",
       "    </tr>\n",
       "  </tbody>\n",
       "</table>\n",
       "</div>"
      ],
      "text/plain": [
       "         t-1          t    Delta_t    Delta_0    Temp_t\n",
       "0        NaN  28.259167        NaN   0.000000       NaN\n",
       "1  28.259167  35.853333   7.594167   7.594167  1.268733\n",
       "2  35.853333  44.296667   8.443333  16.037500  1.235496\n",
       "3  44.296667  55.215000  10.918333  26.955833  1.246482"
      ]
     },
     "execution_count": 33,
     "metadata": {},
     "output_type": "execute_result"
    }
   ],
   "source": [
    "df['Temp_t'] = df['t'] / df['t-1']\n",
    "df"
   ]
  },
  {
   "cell_type": "code",
   "execution_count": 34,
   "metadata": {
    "colab": {
     "base_uri": "https://localhost:8080/",
     "height": 174
    },
    "executionInfo": {
     "elapsed": 7,
     "status": "ok",
     "timestamp": 1681228352032,
     "user": {
      "displayName": "Анна Заграновская",
      "userId": "10819605571315084366"
     },
     "user_tz": -180
    },
    "id": "1ePRuDNdBHvC",
    "outputId": "9cd42604-a9df-43f1-aa37-9e2a1b57914d"
   },
   "outputs": [
    {
     "data": {
      "text/html": [
       "<div>\n",
       "<style scoped>\n",
       "    .dataframe tbody tr th:only-of-type {\n",
       "        vertical-align: middle;\n",
       "    }\n",
       "\n",
       "    .dataframe tbody tr th {\n",
       "        vertical-align: top;\n",
       "    }\n",
       "\n",
       "    .dataframe thead th {\n",
       "        text-align: right;\n",
       "    }\n",
       "</style>\n",
       "<table border=\"1\" class=\"dataframe\">\n",
       "  <thead>\n",
       "    <tr style=\"text-align: right;\">\n",
       "      <th></th>\n",
       "      <th>t-1</th>\n",
       "      <th>t</th>\n",
       "      <th>Delta_t</th>\n",
       "      <th>Delta_0</th>\n",
       "      <th>Temp_t</th>\n",
       "      <th>Temp_0</th>\n",
       "    </tr>\n",
       "  </thead>\n",
       "  <tbody>\n",
       "    <tr>\n",
       "      <th>0</th>\n",
       "      <td>NaN</td>\n",
       "      <td>28.259167</td>\n",
       "      <td>NaN</td>\n",
       "      <td>0.000000</td>\n",
       "      <td>NaN</td>\n",
       "      <td>1.000000</td>\n",
       "    </tr>\n",
       "    <tr>\n",
       "      <th>1</th>\n",
       "      <td>28.259167</td>\n",
       "      <td>35.853333</td>\n",
       "      <td>7.594167</td>\n",
       "      <td>7.594167</td>\n",
       "      <td>1.268733</td>\n",
       "      <td>1.268733</td>\n",
       "    </tr>\n",
       "    <tr>\n",
       "      <th>2</th>\n",
       "      <td>35.853333</td>\n",
       "      <td>44.296667</td>\n",
       "      <td>8.443333</td>\n",
       "      <td>16.037500</td>\n",
       "      <td>1.235496</td>\n",
       "      <td>1.567515</td>\n",
       "    </tr>\n",
       "    <tr>\n",
       "      <th>3</th>\n",
       "      <td>44.296667</td>\n",
       "      <td>55.215000</td>\n",
       "      <td>10.918333</td>\n",
       "      <td>26.955833</td>\n",
       "      <td>1.246482</td>\n",
       "      <td>1.953879</td>\n",
       "    </tr>\n",
       "  </tbody>\n",
       "</table>\n",
       "</div>"
      ],
      "text/plain": [
       "         t-1          t    Delta_t    Delta_0    Temp_t    Temp_0\n",
       "0        NaN  28.259167        NaN   0.000000       NaN  1.000000\n",
       "1  28.259167  35.853333   7.594167   7.594167  1.268733  1.268733\n",
       "2  35.853333  44.296667   8.443333  16.037500  1.235496  1.567515\n",
       "3  44.296667  55.215000  10.918333  26.955833  1.246482  1.953879"
      ]
     },
     "execution_count": 34,
     "metadata": {},
     "output_type": "execute_result"
    }
   ],
   "source": [
    "df['Temp_0'] = df['t'] / df['t'][0]\n",
    "df"
   ]
  },
  {
   "cell_type": "code",
   "execution_count": 35,
   "metadata": {
    "colab": {
     "base_uri": "https://localhost:8080/",
     "height": 174
    },
    "executionInfo": {
     "elapsed": 16,
     "status": "ok",
     "timestamp": 1681228421428,
     "user": {
      "displayName": "Анна Заграновская",
      "userId": "10819605571315084366"
     },
     "user_tz": -180
    },
    "id": "PC2_jWR6BP8i",
    "outputId": "0c0959e3-4933-4c56-a4d4-40355c8a65a8"
   },
   "outputs": [
    {
     "data": {
      "text/html": [
       "<div>\n",
       "<style scoped>\n",
       "    .dataframe tbody tr th:only-of-type {\n",
       "        vertical-align: middle;\n",
       "    }\n",
       "\n",
       "    .dataframe tbody tr th {\n",
       "        vertical-align: top;\n",
       "    }\n",
       "\n",
       "    .dataframe thead th {\n",
       "        text-align: right;\n",
       "    }\n",
       "</style>\n",
       "<table border=\"1\" class=\"dataframe\">\n",
       "  <thead>\n",
       "    <tr style=\"text-align: right;\">\n",
       "      <th></th>\n",
       "      <th>t-1</th>\n",
       "      <th>t</th>\n",
       "      <th>Delta_t</th>\n",
       "      <th>Delta_0</th>\n",
       "      <th>Temp_t</th>\n",
       "      <th>Temp_0</th>\n",
       "      <th>TDelta_t</th>\n",
       "    </tr>\n",
       "  </thead>\n",
       "  <tbody>\n",
       "    <tr>\n",
       "      <th>0</th>\n",
       "      <td>NaN</td>\n",
       "      <td>28.259167</td>\n",
       "      <td>NaN</td>\n",
       "      <td>0.000000</td>\n",
       "      <td>NaN</td>\n",
       "      <td>1.000000</td>\n",
       "      <td>NaN</td>\n",
       "    </tr>\n",
       "    <tr>\n",
       "      <th>1</th>\n",
       "      <td>28.259167</td>\n",
       "      <td>35.853333</td>\n",
       "      <td>7.594167</td>\n",
       "      <td>7.594167</td>\n",
       "      <td>1.268733</td>\n",
       "      <td>1.268733</td>\n",
       "      <td>0.268733</td>\n",
       "    </tr>\n",
       "    <tr>\n",
       "      <th>2</th>\n",
       "      <td>35.853333</td>\n",
       "      <td>44.296667</td>\n",
       "      <td>8.443333</td>\n",
       "      <td>16.037500</td>\n",
       "      <td>1.235496</td>\n",
       "      <td>1.567515</td>\n",
       "      <td>0.235496</td>\n",
       "    </tr>\n",
       "    <tr>\n",
       "      <th>3</th>\n",
       "      <td>44.296667</td>\n",
       "      <td>55.215000</td>\n",
       "      <td>10.918333</td>\n",
       "      <td>26.955833</td>\n",
       "      <td>1.246482</td>\n",
       "      <td>1.953879</td>\n",
       "      <td>0.246482</td>\n",
       "    </tr>\n",
       "  </tbody>\n",
       "</table>\n",
       "</div>"
      ],
      "text/plain": [
       "         t-1          t    Delta_t    Delta_0    Temp_t    Temp_0  TDelta_t\n",
       "0        NaN  28.259167        NaN   0.000000       NaN  1.000000       NaN\n",
       "1  28.259167  35.853333   7.594167   7.594167  1.268733  1.268733  0.268733\n",
       "2  35.853333  44.296667   8.443333  16.037500  1.235496  1.567515  0.235496\n",
       "3  44.296667  55.215000  10.918333  26.955833  1.246482  1.953879  0.246482"
      ]
     },
     "execution_count": 35,
     "metadata": {},
     "output_type": "execute_result"
    }
   ],
   "source": [
    "df['TDelta_t'] = df['Temp_t'] - 1\n",
    "df"
   ]
  },
  {
   "cell_type": "code",
   "execution_count": 36,
   "metadata": {
    "colab": {
     "base_uri": "https://localhost:8080/",
     "height": 174
    },
    "executionInfo": {
     "elapsed": 13,
     "status": "ok",
     "timestamp": 1681228487050,
     "user": {
      "displayName": "Анна Заграновская",
      "userId": "10819605571315084366"
     },
     "user_tz": -180
    },
    "id": "lCdb8eKtBdTa",
    "outputId": "2f6c38f7-85c8-4236-b6ef-d5ccf166fd5a"
   },
   "outputs": [
    {
     "data": {
      "text/html": [
       "<div>\n",
       "<style scoped>\n",
       "    .dataframe tbody tr th:only-of-type {\n",
       "        vertical-align: middle;\n",
       "    }\n",
       "\n",
       "    .dataframe tbody tr th {\n",
       "        vertical-align: top;\n",
       "    }\n",
       "\n",
       "    .dataframe thead th {\n",
       "        text-align: right;\n",
       "    }\n",
       "</style>\n",
       "<table border=\"1\" class=\"dataframe\">\n",
       "  <thead>\n",
       "    <tr style=\"text-align: right;\">\n",
       "      <th></th>\n",
       "      <th>t-1</th>\n",
       "      <th>t</th>\n",
       "      <th>Delta_t</th>\n",
       "      <th>Delta_0</th>\n",
       "      <th>Temp_t</th>\n",
       "      <th>Temp_0</th>\n",
       "      <th>TDelta_t</th>\n",
       "      <th>TDelta_0</th>\n",
       "    </tr>\n",
       "  </thead>\n",
       "  <tbody>\n",
       "    <tr>\n",
       "      <th>0</th>\n",
       "      <td>NaN</td>\n",
       "      <td>28.259167</td>\n",
       "      <td>NaN</td>\n",
       "      <td>0.000000</td>\n",
       "      <td>NaN</td>\n",
       "      <td>1.000000</td>\n",
       "      <td>NaN</td>\n",
       "      <td>0.000000</td>\n",
       "    </tr>\n",
       "    <tr>\n",
       "      <th>1</th>\n",
       "      <td>28.259167</td>\n",
       "      <td>35.853333</td>\n",
       "      <td>7.594167</td>\n",
       "      <td>7.594167</td>\n",
       "      <td>1.268733</td>\n",
       "      <td>1.268733</td>\n",
       "      <td>0.268733</td>\n",
       "      <td>0.268733</td>\n",
       "    </tr>\n",
       "    <tr>\n",
       "      <th>2</th>\n",
       "      <td>35.853333</td>\n",
       "      <td>44.296667</td>\n",
       "      <td>8.443333</td>\n",
       "      <td>16.037500</td>\n",
       "      <td>1.235496</td>\n",
       "      <td>1.567515</td>\n",
       "      <td>0.235496</td>\n",
       "      <td>0.567515</td>\n",
       "    </tr>\n",
       "    <tr>\n",
       "      <th>3</th>\n",
       "      <td>44.296667</td>\n",
       "      <td>55.215000</td>\n",
       "      <td>10.918333</td>\n",
       "      <td>26.955833</td>\n",
       "      <td>1.246482</td>\n",
       "      <td>1.953879</td>\n",
       "      <td>0.246482</td>\n",
       "      <td>0.953879</td>\n",
       "    </tr>\n",
       "  </tbody>\n",
       "</table>\n",
       "</div>"
      ],
      "text/plain": [
       "         t-1          t    Delta_t    Delta_0    Temp_t    Temp_0  TDelta_t  \\\n",
       "0        NaN  28.259167        NaN   0.000000       NaN  1.000000       NaN   \n",
       "1  28.259167  35.853333   7.594167   7.594167  1.268733  1.268733  0.268733   \n",
       "2  35.853333  44.296667   8.443333  16.037500  1.235496  1.567515  0.235496   \n",
       "3  44.296667  55.215000  10.918333  26.955833  1.246482  1.953879  0.246482   \n",
       "\n",
       "   TDelta_0  \n",
       "0  0.000000  \n",
       "1  0.268733  \n",
       "2  0.567515  \n",
       "3  0.953879  "
      ]
     },
     "execution_count": 36,
     "metadata": {},
     "output_type": "execute_result"
    }
   ],
   "source": [
    "df['TDelta_0'] = df['Temp_0'] - 1\n",
    "df"
   ]
  },
  {
   "cell_type": "markdown",
   "metadata": {
    "id": "LdyRHrHsHvnB"
   },
   "source": [
    "Рассчитаем за 4 года средний абсолютный прирост (AvgDelta), средний темп роста (AvgTemp), средний темп прироста (AvgTDelta). Для нахождения первого и последнего значения временного ряда воспользуемся методом iloc[]."
   ]
  },
  {
   "cell_type": "code",
   "execution_count": 37,
   "metadata": {
    "colab": {
     "base_uri": "https://localhost:8080/"
    },
    "executionInfo": {
     "elapsed": 7,
     "status": "ok",
     "timestamp": 1681228601531,
     "user": {
      "displayName": "Анна Заграновская",
      "userId": "10819605571315084366"
     },
     "user_tz": -180
    },
    "id": "r2V0lfHYCBOR",
    "outputId": "88576e60-ec15-4c4c-b0cc-d99622b5eeac"
   },
   "outputs": [
    {
     "data": {
      "text/plain": [
       "28.25916666666667"
      ]
     },
     "execution_count": 37,
     "metadata": {},
     "output_type": "execute_result"
    }
   ],
   "source": [
    "first = df['t'].iloc[0]\n",
    "first"
   ]
  },
  {
   "cell_type": "code",
   "execution_count": 38,
   "metadata": {
    "colab": {
     "base_uri": "https://localhost:8080/"
    },
    "executionInfo": {
     "elapsed": 10,
     "status": "ok",
     "timestamp": 1681228631366,
     "user": {
      "displayName": "Анна Заграновская",
      "userId": "10819605571315084366"
     },
     "user_tz": -180
    },
    "id": "NwkqRZQQCMf-",
    "outputId": "7678a605-166a-4dfe-d8ce-1502214df891"
   },
   "outputs": [
    {
     "data": {
      "text/plain": [
       "55.215"
      ]
     },
     "execution_count": 38,
     "metadata": {},
     "output_type": "execute_result"
    }
   ],
   "source": [
    "last = df['t'].iloc[-1]\n",
    "last"
   ]
  },
  {
   "cell_type": "code",
   "execution_count": 39,
   "metadata": {
    "colab": {
     "base_uri": "https://localhost:8080/"
    },
    "executionInfo": {
     "elapsed": 7,
     "status": "ok",
     "timestamp": 1681228695047,
     "user": {
      "displayName": "Анна Заграновская",
      "userId": "10819605571315084366"
     },
     "user_tz": -180
    },
    "id": "37H623BdCXtp",
    "outputId": "23bc01c7-f620-4b4f-b514-52bc4a17102b"
   },
   "outputs": [
    {
     "name": "stdout",
     "output_type": "stream",
     "text": [
      "8.985277777777778\n"
     ]
    }
   ],
   "source": [
    "AvgDelta = (last - first) / (len(df) - 1)\n",
    "print(AvgDelta)"
   ]
  },
  {
   "cell_type": "code",
   "execution_count": 40,
   "metadata": {
    "colab": {
     "base_uri": "https://localhost:8080/"
    },
    "executionInfo": {
     "elapsed": 543,
     "status": "ok",
     "timestamp": 1681228774584,
     "user": {
      "displayName": "Анна Заграновская",
      "userId": "10819605571315084366"
     },
     "user_tz": -180
    },
    "id": "ZlPTUgGRCpnZ",
    "outputId": "f064a4fe-53f1-48e6-a597-af87a965650e"
   },
   "outputs": [
    {
     "data": {
      "text/plain": [
       "1.2501608906958042"
      ]
     },
     "execution_count": 40,
     "metadata": {},
     "output_type": "execute_result"
    }
   ],
   "source": [
    "AvgTemp = (last / first)**(1/(len(df) - 1))\n",
    "AvgTemp"
   ]
  },
  {
   "cell_type": "code",
   "execution_count": 41,
   "metadata": {
    "colab": {
     "base_uri": "https://localhost:8080/"
    },
    "executionInfo": {
     "elapsed": 7,
     "status": "ok",
     "timestamp": 1681228817283,
     "user": {
      "displayName": "Анна Заграновская",
      "userId": "10819605571315084366"
     },
     "user_tz": -180
    },
    "id": "vCwmppPSCzfy",
    "outputId": "881b3b71-816c-483b-b5c3-d88e21f2aadf"
   },
   "outputs": [
    {
     "data": {
      "text/plain": [
       "0.25016089069580416"
      ]
     },
     "execution_count": 41,
     "metadata": {},
     "output_type": "execute_result"
    }
   ],
   "source": [
    "AvgTDelta = AvgTemp - 1\n",
    "AvgTDelta"
   ]
  },
  {
   "cell_type": "markdown",
   "metadata": {
    "id": "CofIU4pVH4pJ"
   },
   "source": [
    "Спрогнозируем среднюю цену на материал 1 для 2011 года на основе среднего абсолютного прироста или среднего темпа роста в зависимости от характера динамики абсолютного цепного прироста и цепного темпа роста. "
   ]
  },
  {
   "cell_type": "code",
   "execution_count": 42,
   "metadata": {
    "colab": {
     "base_uri": "https://localhost:8080/"
    },
    "executionInfo": {
     "elapsed": 9,
     "status": "ok",
     "timestamp": 1681228962228,
     "user": {
      "displayName": "Анна Заграновская",
      "userId": "10819605571315084366"
     },
     "user_tz": -180
    },
    "id": "04OKCQixC-Eh",
    "outputId": "0be6af6e-67d5-462b-eb0b-13b9aaef1a27"
   },
   "outputs": [
    {
     "name": "stdout",
     "output_type": "stream",
     "text": [
      "82.17083333333333\n"
     ]
    }
   ],
   "source": [
    "predict = last + 3 * AvgDelta\n",
    "print(predict)"
   ]
  },
  {
   "cell_type": "code",
   "execution_count": 43,
   "metadata": {
    "colab": {
     "base_uri": "https://localhost:8080/"
    },
    "executionInfo": {
     "elapsed": 382,
     "status": "ok",
     "timestamp": 1681229097498,
     "user": {
      "displayName": "Анна Заграновская",
      "userId": "10819605571315084366"
     },
     "user_tz": -180
    },
    "id": "0JuFdLoUDhdW",
    "outputId": "f9530644-1212-439c-ac2f-1c1b87d16186"
   },
   "outputs": [
    {
     "name": "stdout",
     "output_type": "stream",
     "text": [
      "107.88344401521633\n"
     ]
    }
   ],
   "source": [
    "predict = last * AvgTemp ** 3\n",
    "print(predict)"
   ]
  }
 ],
 "metadata": {
  "colab": {
   "authorship_tag": "ABX9TyNlqrSZzRBg+dleLVZtohr+",
   "mount_file_id": "1wJHPmUn8BOA1xLhlLwBzWCmDbrZeY1Mi",
   "provenance": []
  },
  "kernelspec": {
   "display_name": "Python 3 (ipykernel)",
   "language": "python",
   "name": "python3"
  },
  "language_info": {
   "codemirror_mode": {
    "name": "ipython",
    "version": 3
   },
   "file_extension": ".py",
   "mimetype": "text/x-python",
   "name": "python",
   "nbconvert_exporter": "python",
   "pygments_lexer": "ipython3",
   "version": "3.10.9"
  }
 },
 "nbformat": 4,
 "nbformat_minor": 1
}
