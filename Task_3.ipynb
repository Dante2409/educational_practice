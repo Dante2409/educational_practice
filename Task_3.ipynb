{
 "cells": [
  {
   "cell_type": "markdown",
   "metadata": {
    "id": "8aPLQo5mIGXG"
   },
   "source": [
    "# ЗАДАНИЕ 3. МОДЕЛИРОВАНИЕ ТРЕНДА НА ОСНОВЕ КРИВЫХ РОСТА"
   ]
  },
  {
   "cell_type": "markdown",
   "metadata": {
    "id": "etWH2I8LIJmM"
   },
   "source": [
    "Постройте модель тренда, описывающую ряд данных по ценам на материал 1. Рассчитайте показатели точности и адекватности построенной модели. Дайте точечный и интервальный прогнозы на 1 год вперёд по построенной модели."
   ]
  },
  {
   "cell_type": "markdown",
   "metadata": {
    "id": "BaIWQyTyIL8l"
   },
   "source": [
    "# Раздел 1. Аналитическое выравнивание временных рядов"
   ]
  },
  {
   "cell_type": "markdown",
   "metadata": {
    "id": "pax1agWVIPrK"
   },
   "source": [
    "Прочитаем данные по ценам на материал 1 и приведем их к виду, пригодному для дальнейшего анализа."
   ]
  },
  {
   "cell_type": "code",
   "execution_count": 1,
   "metadata": {
    "id": "_KIUMQsbwf0V"
   },
   "outputs": [],
   "source": [
    "import os\n",
    "import pandas as pd\n",
    "import numpy as np\n",
    "from sklearn.metrics import r2_score, mean_absolute_error, mean_squared_error\n",
    "from scipy.stats import linregress\n",
    "from sklearn.linear_model import LinearRegression\n",
    "from math import sqrt\n",
    "from statsmodels.graphics.gofplots import qqplot\n",
    "import matplotlib.pyplot as plt\n",
    "from statsmodels.stats.stattools import durbin_watson\n",
    "from pandas.plotting import autocorrelation_plot\n",
    "import seaborn as sns\n",
    "from numpy import sum as arraysum"
   ]
  },
  {
   "cell_type": "code",
   "execution_count": 2,
   "metadata": {
    "colab": {
     "base_uri": "https://localhost:8080/",
     "height": 386
    },
    "executionInfo": {
     "elapsed": 1861,
     "status": "ok",
     "timestamp": 1681925512583,
     "user": {
      "displayName": "Анна Заграновская",
      "userId": "10819605571315084366"
     },
     "user_tz": -180
    },
    "id": "_O2zVQvUJagj",
    "outputId": "9e2fe457-e560-420a-fbd7-37711672b044"
   },
   "outputs": [
    {
     "data": {
      "text/html": [
       "<div>\n",
       "<style scoped>\n",
       "    .dataframe tbody tr th:only-of-type {\n",
       "        vertical-align: middle;\n",
       "    }\n",
       "\n",
       "    .dataframe tbody tr th {\n",
       "        vertical-align: top;\n",
       "    }\n",
       "\n",
       "    .dataframe thead th {\n",
       "        text-align: right;\n",
       "    }\n",
       "</style>\n",
       "<table border=\"1\" class=\"dataframe\">\n",
       "  <thead>\n",
       "    <tr style=\"text-align: right;\">\n",
       "      <th></th>\n",
       "      <th>Unnamed: 0</th>\n",
       "      <th>Unnamed: 1</th>\n",
       "      <th>Рыночные цены на материал 1 (руб.)</th>\n",
       "      <th>Unnamed: 3</th>\n",
       "      <th>Unnamed: 4</th>\n",
       "      <th>Unnamed: 5</th>\n",
       "      <th>Unnamed: 6</th>\n",
       "      <th>Unnamed: 7</th>\n",
       "      <th>Unnamed: 8</th>\n",
       "      <th>Unnamed: 9</th>\n",
       "      <th>...</th>\n",
       "      <th>Unnamed: 40</th>\n",
       "      <th>Unnamed: 41</th>\n",
       "      <th>Unnamed: 42</th>\n",
       "      <th>Unnamed: 43</th>\n",
       "      <th>Unnamed: 44</th>\n",
       "      <th>Unnamed: 45</th>\n",
       "      <th>Unnamed: 46</th>\n",
       "      <th>Unnamed: 47</th>\n",
       "      <th>Unnamed: 48</th>\n",
       "      <th>Unnamed: 49</th>\n",
       "    </tr>\n",
       "  </thead>\n",
       "  <tbody>\n",
       "    <tr>\n",
       "      <th>0</th>\n",
       "      <td>NaN</td>\n",
       "      <td>NaN</td>\n",
       "      <td>2007-01-01 00:00:00</td>\n",
       "      <td>2007-02-01 00:00:00</td>\n",
       "      <td>2007-03-01 00:00:00</td>\n",
       "      <td>2007-04-01 00:00:00</td>\n",
       "      <td>2007-05-01 00:00:00</td>\n",
       "      <td>2007-06-01 00:00:00</td>\n",
       "      <td>2007-07-01 00:00:00</td>\n",
       "      <td>2007-08-01 00:00:00</td>\n",
       "      <td>...</td>\n",
       "      <td>2010-03-01 00:00:00</td>\n",
       "      <td>2010-04-01 00:00:00</td>\n",
       "      <td>2010-05-01 00:00:00</td>\n",
       "      <td>2010-06-01 00:00:00</td>\n",
       "      <td>2010-07-01 00:00:00</td>\n",
       "      <td>2010-08-01 00:00:00</td>\n",
       "      <td>2010-09-01 00:00:00</td>\n",
       "      <td>2010-10-01 00:00:00</td>\n",
       "      <td>2010-11-01 00:00:00</td>\n",
       "      <td>2010-12-01 00:00:00</td>\n",
       "    </tr>\n",
       "    <tr>\n",
       "      <th>1</th>\n",
       "      <td>№ организации</td>\n",
       "      <td>1.0</td>\n",
       "      <td>26.45</td>\n",
       "      <td>23.89</td>\n",
       "      <td>25.95</td>\n",
       "      <td>30.03</td>\n",
       "      <td>28.96</td>\n",
       "      <td>25.58</td>\n",
       "      <td>25.96</td>\n",
       "      <td>30.56</td>\n",
       "      <td>...</td>\n",
       "      <td>37.36</td>\n",
       "      <td>39.21</td>\n",
       "      <td>39.43</td>\n",
       "      <td>43.5</td>\n",
       "      <td>40.75</td>\n",
       "      <td>42.84</td>\n",
       "      <td>38.01</td>\n",
       "      <td>45.18</td>\n",
       "      <td>42.49</td>\n",
       "      <td>44.2</td>\n",
       "    </tr>\n",
       "    <tr>\n",
       "      <th>2</th>\n",
       "      <td>NaN</td>\n",
       "      <td>2.0</td>\n",
       "      <td>26.09</td>\n",
       "      <td>20.66</td>\n",
       "      <td>22.6</td>\n",
       "      <td>25.05</td>\n",
       "      <td>27.59</td>\n",
       "      <td>20.49</td>\n",
       "      <td>27.39</td>\n",
       "      <td>28.52</td>\n",
       "      <td>...</td>\n",
       "      <td>39.54</td>\n",
       "      <td>42.38</td>\n",
       "      <td>37.5</td>\n",
       "      <td>41.29</td>\n",
       "      <td>44.96</td>\n",
       "      <td>45.39</td>\n",
       "      <td>42.49</td>\n",
       "      <td>45.77</td>\n",
       "      <td>46.94</td>\n",
       "      <td>40.83</td>\n",
       "    </tr>\n",
       "    <tr>\n",
       "      <th>3</th>\n",
       "      <td>NaN</td>\n",
       "      <td>3.0</td>\n",
       "      <td>22.05</td>\n",
       "      <td>23.15</td>\n",
       "      <td>28.22</td>\n",
       "      <td>21.55</td>\n",
       "      <td>21.57</td>\n",
       "      <td>28.58</td>\n",
       "      <td>31.42</td>\n",
       "      <td>28.11</td>\n",
       "      <td>...</td>\n",
       "      <td>40.17</td>\n",
       "      <td>47.99</td>\n",
       "      <td>47.92</td>\n",
       "      <td>46.25</td>\n",
       "      <td>47.3</td>\n",
       "      <td>48.9</td>\n",
       "      <td>51.2</td>\n",
       "      <td>43.96</td>\n",
       "      <td>49.22</td>\n",
       "      <td>51.38</td>\n",
       "    </tr>\n",
       "    <tr>\n",
       "      <th>4</th>\n",
       "      <td>NaN</td>\n",
       "      <td>4.0</td>\n",
       "      <td>20.41</td>\n",
       "      <td>28.39</td>\n",
       "      <td>17.74</td>\n",
       "      <td>18.46</td>\n",
       "      <td>20.47</td>\n",
       "      <td>28.93</td>\n",
       "      <td>27.89</td>\n",
       "      <td>20.68</td>\n",
       "      <td>...</td>\n",
       "      <td>68.39</td>\n",
       "      <td>73.93</td>\n",
       "      <td>63.97</td>\n",
       "      <td>75.59</td>\n",
       "      <td>70.98</td>\n",
       "      <td>78.28</td>\n",
       "      <td>78.98</td>\n",
       "      <td>71.27</td>\n",
       "      <td>81.34</td>\n",
       "      <td>85.73</td>\n",
       "    </tr>\n",
       "  </tbody>\n",
       "</table>\n",
       "<p>5 rows × 50 columns</p>\n",
       "</div>"
      ],
      "text/plain": [
       "      Unnamed: 0  Unnamed: 1 Рыночные цены на материал 1 (руб.)  \\\n",
       "0            NaN         NaN                2007-01-01 00:00:00   \n",
       "1  № организации         1.0                              26.45   \n",
       "2            NaN         2.0                              26.09   \n",
       "3            NaN         3.0                              22.05   \n",
       "4            NaN         4.0                              20.41   \n",
       "\n",
       "            Unnamed: 3           Unnamed: 4           Unnamed: 5  \\\n",
       "0  2007-02-01 00:00:00  2007-03-01 00:00:00  2007-04-01 00:00:00   \n",
       "1                23.89                25.95                30.03   \n",
       "2                20.66                 22.6                25.05   \n",
       "3                23.15                28.22                21.55   \n",
       "4                28.39                17.74                18.46   \n",
       "\n",
       "            Unnamed: 6           Unnamed: 7           Unnamed: 8  \\\n",
       "0  2007-05-01 00:00:00  2007-06-01 00:00:00  2007-07-01 00:00:00   \n",
       "1                28.96                25.58                25.96   \n",
       "2                27.59                20.49                27.39   \n",
       "3                21.57                28.58                31.42   \n",
       "4                20.47                28.93                27.89   \n",
       "\n",
       "            Unnamed: 9  ...          Unnamed: 40          Unnamed: 41  \\\n",
       "0  2007-08-01 00:00:00  ...  2010-03-01 00:00:00  2010-04-01 00:00:00   \n",
       "1                30.56  ...                37.36                39.21   \n",
       "2                28.52  ...                39.54                42.38   \n",
       "3                28.11  ...                40.17                47.99   \n",
       "4                20.68  ...                68.39                73.93   \n",
       "\n",
       "           Unnamed: 42          Unnamed: 43          Unnamed: 44  \\\n",
       "0  2010-05-01 00:00:00  2010-06-01 00:00:00  2010-07-01 00:00:00   \n",
       "1                39.43                 43.5                40.75   \n",
       "2                 37.5                41.29                44.96   \n",
       "3                47.92                46.25                 47.3   \n",
       "4                63.97                75.59                70.98   \n",
       "\n",
       "           Unnamed: 45          Unnamed: 46          Unnamed: 47  \\\n",
       "0  2010-08-01 00:00:00  2010-09-01 00:00:00  2010-10-01 00:00:00   \n",
       "1                42.84                38.01                45.18   \n",
       "2                45.39                42.49                45.77   \n",
       "3                 48.9                 51.2                43.96   \n",
       "4                78.28                78.98                71.27   \n",
       "\n",
       "           Unnamed: 48          Unnamed: 49  \n",
       "0  2010-11-01 00:00:00  2010-12-01 00:00:00  \n",
       "1                42.49                 44.2  \n",
       "2                46.94                40.83  \n",
       "3                49.22                51.38  \n",
       "4                81.34                85.73  \n",
       "\n",
       "[5 rows x 50 columns]"
      ]
     },
     "execution_count": 2,
     "metadata": {},
     "output_type": "execute_result"
    }
   ],
   "source": [
    "data = pd.read_excel('data.xls', sheet_name='Material 1')\n",
    "data.head()"
   ]
  },
  {
   "cell_type": "code",
   "execution_count": 3,
   "metadata": {
    "id": "H-fSDcdlJfr_"
   },
   "outputs": [],
   "source": [
    "dates = data.loc[data.index == 0].values[0,2:]"
   ]
  },
  {
   "cell_type": "code",
   "execution_count": 4,
   "metadata": {
    "id": "BBtNV3CVKGbF"
   },
   "outputs": [],
   "source": [
    "val = data.loc[data.index == 54].values[0,2:]"
   ]
  },
  {
   "cell_type": "code",
   "execution_count": 5,
   "metadata": {
    "id": "WZKBmowFKVRT"
   },
   "outputs": [],
   "source": [
    "data = {'Date':dates, 'Value':val}"
   ]
  },
  {
   "cell_type": "code",
   "execution_count": 6,
   "metadata": {
    "colab": {
     "base_uri": "https://localhost:8080/",
     "height": 206
    },
    "executionInfo": {
     "elapsed": 20,
     "status": "ok",
     "timestamp": 1681925512588,
     "user": {
      "displayName": "Анна Заграновская",
      "userId": "10819605571315084366"
     },
     "user_tz": -180
    },
    "id": "pZPdX4TUKnkb",
    "outputId": "ef018248-eff3-4ff1-9dfd-9bcf080e9ad4"
   },
   "outputs": [
    {
     "data": {
      "text/html": [
       "<div>\n",
       "<style scoped>\n",
       "    .dataframe tbody tr th:only-of-type {\n",
       "        vertical-align: middle;\n",
       "    }\n",
       "\n",
       "    .dataframe tbody tr th {\n",
       "        vertical-align: top;\n",
       "    }\n",
       "\n",
       "    .dataframe thead th {\n",
       "        text-align: right;\n",
       "    }\n",
       "</style>\n",
       "<table border=\"1\" class=\"dataframe\">\n",
       "  <thead>\n",
       "    <tr style=\"text-align: right;\">\n",
       "      <th></th>\n",
       "      <th>Date</th>\n",
       "      <th>Value</th>\n",
       "    </tr>\n",
       "  </thead>\n",
       "  <tbody>\n",
       "    <tr>\n",
       "      <th>0</th>\n",
       "      <td>2007-01-01</td>\n",
       "      <td>26.94</td>\n",
       "    </tr>\n",
       "    <tr>\n",
       "      <th>1</th>\n",
       "      <td>2007-02-01</td>\n",
       "      <td>22.48</td>\n",
       "    </tr>\n",
       "    <tr>\n",
       "      <th>2</th>\n",
       "      <td>2007-03-01</td>\n",
       "      <td>28.16</td>\n",
       "    </tr>\n",
       "    <tr>\n",
       "      <th>3</th>\n",
       "      <td>2007-04-01</td>\n",
       "      <td>20.62</td>\n",
       "    </tr>\n",
       "    <tr>\n",
       "      <th>4</th>\n",
       "      <td>2007-05-01</td>\n",
       "      <td>24.81</td>\n",
       "    </tr>\n",
       "  </tbody>\n",
       "</table>\n",
       "</div>"
      ],
      "text/plain": [
       "        Date  Value\n",
       "0 2007-01-01  26.94\n",
       "1 2007-02-01  22.48\n",
       "2 2007-03-01  28.16\n",
       "3 2007-04-01  20.62\n",
       "4 2007-05-01  24.81"
      ]
     },
     "execution_count": 6,
     "metadata": {},
     "output_type": "execute_result"
    }
   ],
   "source": [
    "df = pd.DataFrame(data)\n",
    "df.head()"
   ]
  },
  {
   "cell_type": "code",
   "execution_count": 7,
   "metadata": {
    "colab": {
     "base_uri": "https://localhost:8080/",
     "height": 394
    },
    "executionInfo": {
     "elapsed": 37,
     "status": "ok",
     "timestamp": 1681925512912,
     "user": {
      "displayName": "Анна Заграновская",
      "userId": "10819605571315084366"
     },
     "user_tz": -180
    },
    "id": "m_PU-OGYKtoS",
    "outputId": "63bf7c81-2bd5-4ce0-bd9d-3e3dee9f5cbf"
   },
   "outputs": [
    {
     "data": {
      "text/html": [
       "<div>\n",
       "<style scoped>\n",
       "    .dataframe tbody tr th:only-of-type {\n",
       "        vertical-align: middle;\n",
       "    }\n",
       "\n",
       "    .dataframe tbody tr th {\n",
       "        vertical-align: top;\n",
       "    }\n",
       "\n",
       "    .dataframe thead th {\n",
       "        text-align: right;\n",
       "    }\n",
       "</style>\n",
       "<table border=\"1\" class=\"dataframe\">\n",
       "  <thead>\n",
       "    <tr style=\"text-align: right;\">\n",
       "      <th></th>\n",
       "      <th>Value</th>\n",
       "    </tr>\n",
       "    <tr>\n",
       "      <th>Date</th>\n",
       "      <th></th>\n",
       "    </tr>\n",
       "  </thead>\n",
       "  <tbody>\n",
       "    <tr>\n",
       "      <th>2007-01-01</th>\n",
       "      <td>26.94</td>\n",
       "    </tr>\n",
       "    <tr>\n",
       "      <th>2007-02-01</th>\n",
       "      <td>22.48</td>\n",
       "    </tr>\n",
       "    <tr>\n",
       "      <th>2007-03-01</th>\n",
       "      <td>28.16</td>\n",
       "    </tr>\n",
       "    <tr>\n",
       "      <th>2007-04-01</th>\n",
       "      <td>20.62</td>\n",
       "    </tr>\n",
       "    <tr>\n",
       "      <th>2007-05-01</th>\n",
       "      <td>24.81</td>\n",
       "    </tr>\n",
       "    <tr>\n",
       "      <th>2007-06-01</th>\n",
       "      <td>31.57</td>\n",
       "    </tr>\n",
       "    <tr>\n",
       "      <th>2007-07-01</th>\n",
       "      <td>31.94</td>\n",
       "    </tr>\n",
       "    <tr>\n",
       "      <th>2007-08-01</th>\n",
       "      <td>30.57</td>\n",
       "    </tr>\n",
       "    <tr>\n",
       "      <th>2007-09-01</th>\n",
       "      <td>25.93</td>\n",
       "    </tr>\n",
       "    <tr>\n",
       "      <th>2007-10-01</th>\n",
       "      <td>32.1</td>\n",
       "    </tr>\n",
       "  </tbody>\n",
       "</table>\n",
       "</div>"
      ],
      "text/plain": [
       "            Value\n",
       "Date             \n",
       "2007-01-01  26.94\n",
       "2007-02-01  22.48\n",
       "2007-03-01  28.16\n",
       "2007-04-01  20.62\n",
       "2007-05-01  24.81\n",
       "2007-06-01  31.57\n",
       "2007-07-01  31.94\n",
       "2007-08-01  30.57\n",
       "2007-09-01  25.93\n",
       "2007-10-01   32.1"
      ]
     },
     "execution_count": 7,
     "metadata": {},
     "output_type": "execute_result"
    }
   ],
   "source": [
    "df = df.set_index('Date')\n",
    "df.head(10)"
   ]
  },
  {
   "cell_type": "code",
   "execution_count": 8,
   "metadata": {
    "colab": {
     "base_uri": "https://localhost:8080/"
    },
    "executionInfo": {
     "elapsed": 34,
     "status": "ok",
     "timestamp": 1681925512913,
     "user": {
      "displayName": "Анна Заграновская",
      "userId": "10819605571315084366"
     },
     "user_tz": -180
    },
    "id": "eIxaVlkRLBWp",
    "outputId": "4b9af8ef-5de2-469c-ff45-bba5ffdf4df4"
   },
   "outputs": [
    {
     "data": {
      "text/plain": [
       "48"
      ]
     },
     "execution_count": 8,
     "metadata": {},
     "output_type": "execute_result"
    }
   ],
   "source": [
    "df.size"
   ]
  },
  {
   "cell_type": "code",
   "execution_count": 9,
   "metadata": {
    "colab": {
     "base_uri": "https://localhost:8080/"
    },
    "executionInfo": {
     "elapsed": 24,
     "status": "ok",
     "timestamp": 1681925512914,
     "user": {
      "displayName": "Анна Заграновская",
      "userId": "10819605571315084366"
     },
     "user_tz": -180
    },
    "id": "rkFVGoHMLOf2",
    "outputId": "32617d35-e239-4412-9f3c-45ac6e7e5181"
   },
   "outputs": [
    {
     "name": "stdout",
     "output_type": "stream",
     "text": [
      "<class 'pandas.core.frame.DataFrame'>\n",
      "DatetimeIndex: 48 entries, 2007-01-01 to 2010-12-01\n",
      "Data columns (total 1 columns):\n",
      " #   Column  Non-Null Count  Dtype \n",
      "---  ------  --------------  ----- \n",
      " 0   Value   48 non-null     object\n",
      "dtypes: object(1)\n",
      "memory usage: 768.0+ bytes\n"
     ]
    }
   ],
   "source": [
    "df.info()"
   ]
  },
  {
   "cell_type": "code",
   "execution_count": 10,
   "metadata": {
    "id": "gbtxst8_LSbn"
   },
   "outputs": [],
   "source": [
    "df.Value = df.Value.astype(float)"
   ]
  },
  {
   "cell_type": "code",
   "execution_count": 11,
   "metadata": {
    "colab": {
     "base_uri": "https://localhost:8080/"
    },
    "executionInfo": {
     "elapsed": 22,
     "status": "ok",
     "timestamp": 1681925512917,
     "user": {
      "displayName": "Анна Заграновская",
      "userId": "10819605571315084366"
     },
     "user_tz": -180
    },
    "id": "eE5DIosbLw_y",
    "outputId": "63dc3253-f35d-4b79-e97d-763f78f75ff8"
   },
   "outputs": [
    {
     "name": "stdout",
     "output_type": "stream",
     "text": [
      "<class 'pandas.core.frame.DataFrame'>\n",
      "DatetimeIndex: 48 entries, 2007-01-01 to 2010-12-01\n",
      "Data columns (total 1 columns):\n",
      " #   Column  Non-Null Count  Dtype  \n",
      "---  ------  --------------  -----  \n",
      " 0   Value   48 non-null     float64\n",
      "dtypes: float64(1)\n",
      "memory usage: 768.0 bytes\n"
     ]
    }
   ],
   "source": [
    "df.info()"
   ]
  },
  {
   "cell_type": "markdown",
   "metadata": {
    "id": "tytlC7OaIUJJ"
   },
   "source": [
    "Убедимся в том, что работаем с объектом Series, а не DataFrame. Превратить таблицу с одним столбцом целевых значений в объект Series можно с помощью функции squeeze(). Дадим ему название series."
   ]
  },
  {
   "cell_type": "code",
   "execution_count": 12,
   "metadata": {
    "colab": {
     "base_uri": "https://localhost:8080/"
    },
    "executionInfo": {
     "elapsed": 19,
     "status": "ok",
     "timestamp": 1681925512919,
     "user": {
      "displayName": "Анна Заграновская",
      "userId": "10819605571315084366"
     },
     "user_tz": -180
    },
    "id": "4tFq4GB8zkyi",
    "outputId": "41ac41ab-8e4e-423b-887a-bc187bd27496"
   },
   "outputs": [
    {
     "data": {
      "text/plain": [
       "pandas.core.series.Series"
      ]
     },
     "execution_count": 12,
     "metadata": {},
     "output_type": "execute_result"
    }
   ],
   "source": [
    "ser = df.squeeze()\n",
    "type(ser)"
   ]
  },
  {
   "cell_type": "markdown",
   "metadata": {
    "id": "8QWlukjoIYOn"
   },
   "source": [
    "Рассмотрим возможность построения линейного тренда визуально с помощью функции regplot(x=x, y=y, data= data) из модуля seaborn. В качестве x возьмем номера наблюдений, а y – значения цены на материал 1."
   ]
  },
  {
   "cell_type": "code",
   "execution_count": 13,
   "metadata": {
    "id": "9x68k3pxzrMd"
   },
   "outputs": [],
   "source": [
    "y = ser.values"
   ]
  },
  {
   "cell_type": "code",
   "execution_count": 14,
   "metadata": {
    "colab": {
     "base_uri": "https://localhost:8080/"
    },
    "executionInfo": {
     "elapsed": 17,
     "status": "ok",
     "timestamp": 1681925512920,
     "user": {
      "displayName": "Анна Заграновская",
      "userId": "10819605571315084366"
     },
     "user_tz": -180
    },
    "id": "ovFwU0Wmz-MD",
    "outputId": "1b674435-0df4-4a7b-c37e-821b4e724a66"
   },
   "outputs": [
    {
     "data": {
      "text/plain": [
       "array([ 1,  2,  3,  4,  5,  6,  7,  8,  9, 10, 11, 12, 13, 14, 15, 16, 17,\n",
       "       18, 19, 20, 21, 22, 23, 24, 25, 26, 27, 28, 29, 30, 31, 32, 33, 34,\n",
       "       35, 36, 37, 38, 39, 40, 41, 42, 43, 44, 45, 46, 47, 48])"
      ]
     },
     "execution_count": 14,
     "metadata": {},
     "output_type": "execute_result"
    }
   ],
   "source": [
    "t = np.arange(1, len(y)+1)\n",
    "t"
   ]
  },
  {
   "cell_type": "code",
   "execution_count": 15,
   "metadata": {
    "colab": {
     "base_uri": "https://localhost:8080/",
     "height": 430
    },
    "executionInfo": {
     "elapsed": 1753,
     "status": "ok",
     "timestamp": 1681925514659,
     "user": {
      "displayName": "Анна Заграновская",
      "userId": "10819605571315084366"
     },
     "user_tz": -180
    },
    "id": "XAyuU3uO0IIy",
    "outputId": "f6b37f8e-3a75-49be-cb80-a55c6cab8415"
   },
   "outputs": [
    {
     "data": {
      "image/png": "[encoded data removed]",
      "text/plain": [
       "<Figure size 640x480 with 1 Axes>"
      ]
     },
     "metadata": {},
     "output_type": "display_data"
    }
   ],
   "source": [
    "sns.regplot(x=t, y=y)\n",
    "plt.show()"
   ]
  },
  {
   "cell_type": "code",
   "execution_count": 16,
   "metadata": {
    "colab": {
     "base_uri": "https://localhost:8080/",
     "height": 430
    },
    "executionInfo": {
     "elapsed": 1864,
     "status": "ok",
     "timestamp": 1681925516520,
     "user": {
      "displayName": "Анна Заграновская",
      "userId": "10819605571315084366"
     },
     "user_tz": -180
    },
    "id": "jxKg2m1Y0X95",
    "outputId": "9fb0ff38-c9ad-435c-b529-3405c432f996"
   },
   "outputs": [
    {
     "data": {
      "image/png": "[encoded data removed]",
      "text/plain": [
       "<Figure size 640x480 with 1 Axes>"
      ]
     },
     "metadata": {},
     "output_type": "display_data"
    }
   ],
   "source": [
    "sns.regplot(x=t, y='Value', data=df)\n",
    "plt.show()"
   ]
  },
  {
   "cell_type": "markdown",
   "metadata": {
    "id": "l5Z4DkEDIgOU"
   },
   "source": [
    "Разделим исходные данные на обучающий и тестовый наборы в пропорции 80%:20%. Для этого создадим переменную y, в которую запишем значения временного ряда, обратившись к параметру values. Затем создадим переменную train, содержащую обучающую выборку, которая составляет 80% от количества наблюдений, и переменную test, содержащую тестовый набор из 20% выборки. Выведем на экран объем обучающей и тестовой выборки."
   ]
  },
  {
   "cell_type": "code",
   "execution_count": 17,
   "metadata": {
    "colab": {
     "base_uri": "https://localhost:8080/"
    },
    "executionInfo": {
     "elapsed": 42,
     "status": "ok",
     "timestamp": 1681925516520,
     "user": {
      "displayName": "Анна Заграновская",
      "userId": "10819605571315084366"
     },
     "user_tz": -180
    },
    "id": "6dyHn67I0puQ",
    "outputId": "2d264b8d-f5ac-4f36-f182-a9f4882ae1a3"
   },
   "outputs": [
    {
     "name": "stdout",
     "output_type": "stream",
     "text": [
      "38\n"
     ]
    }
   ],
   "source": [
    "train_size = int(len(y)*0.8)\n",
    "print(train_size)"
   ]
  },
  {
   "cell_type": "code",
   "execution_count": 18,
   "metadata": {
    "id": "570NuZsF1Ap8"
   },
   "outputs": [],
   "source": [
    "y_train, y_test = y[0:train_size], y[train_size:len(y)]"
   ]
  },
  {
   "cell_type": "code",
   "execution_count": 19,
   "metadata": {
    "colab": {
     "base_uri": "https://localhost:8080/"
    },
    "executionInfo": {
     "elapsed": 37,
     "status": "ok",
     "timestamp": 1681925516521,
     "user": {
      "displayName": "Анна Заграновская",
      "userId": "10819605571315084366"
     },
     "user_tz": -180
    },
    "id": "hMI5HmcB1S_i",
    "outputId": "f35d948a-f090-4dee-9a2f-ab636c64d6a1"
   },
   "outputs": [
    {
     "data": {
      "text/plain": [
       "38"
      ]
     },
     "execution_count": 19,
     "metadata": {},
     "output_type": "execute_result"
    }
   ],
   "source": [
    "len(y_train)"
   ]
  },
  {
   "cell_type": "code",
   "execution_count": 20,
   "metadata": {
    "colab": {
     "base_uri": "https://localhost:8080/"
    },
    "executionInfo": {
     "elapsed": 34,
     "status": "ok",
     "timestamp": 1681925516521,
     "user": {
      "displayName": "Анна Заграновская",
      "userId": "10819605571315084366"
     },
     "user_tz": -180
    },
    "id": "NvUELni41VqR",
    "outputId": "a44ec7ab-a073-4ae1-8faa-a8a44927800d"
   },
   "outputs": [
    {
     "data": {
      "text/plain": [
       "10"
      ]
     },
     "execution_count": 20,
     "metadata": {},
     "output_type": "execute_result"
    }
   ],
   "source": [
    "len(y_test)"
   ]
  },
  {
   "cell_type": "markdown",
   "metadata": {
    "id": "_de-mTQjIsIp"
   },
   "source": [
    "Поместим в переменную t_train номера наблюдений обучающего набора, воспользовавшись функцией arange() из модуля numpy. Выведем на экран содержимое t_train."
   ]
  },
  {
   "cell_type": "code",
   "execution_count": 21,
   "metadata": {
    "colab": {
     "base_uri": "https://localhost:8080/"
    },
    "executionInfo": {
     "elapsed": 33,
     "status": "ok",
     "timestamp": 1681925516522,
     "user": {
      "displayName": "Анна Заграновская",
      "userId": "10819605571315084366"
     },
     "user_tz": -180
    },
    "id": "lMgxoj511uWi",
    "outputId": "79f31395-df9d-4f06-84a2-580d438229a4"
   },
   "outputs": [
    {
     "name": "stdout",
     "output_type": "stream",
     "text": [
      "[ 1  2  3  4  5  6  7  8  9 10 11 12 13 14 15 16 17 18 19 20 21 22 23 24\n",
      " 25 26 27 28 29 30 31 32 33 34 35 36 37 38]\n"
     ]
    }
   ],
   "source": [
    "t_train = np.arange(1, len(y_train)+1)\n",
    "print(t_train)"
   ]
  },
  {
   "cell_type": "markdown",
   "metadata": {
    "id": "fOh7HEOVIzWR"
   },
   "source": [
    "На основе переменной t_train, которая выступает в качестве факторного признака, и переменной y_train с ценами на материал 1 из обучающего набора в качестве результативного признака обучим полином первой степени, воспользовавшись функцией polyfit() из модуля numpy. Результат запишем в переменную coef. Выведем на экран полученные коэффициенты модели."
   ]
  },
  {
   "cell_type": "code",
   "execution_count": 22,
   "metadata": {
    "colab": {
     "base_uri": "https://localhost:8080/"
    },
    "executionInfo": {
     "elapsed": 32,
     "status": "ok",
     "timestamp": 1681925516522,
     "user": {
      "displayName": "Анна Заграновская",
      "userId": "10819605571315084366"
     },
     "user_tz": -180
    },
    "id": "N6rL7ZIT13jP",
    "outputId": "3259f0d9-323c-412b-8812-aa313c3b448c"
   },
   "outputs": [
    {
     "data": {
      "text/plain": [
       "array([ 0.68949666, 23.4671835 ])"
      ]
     },
     "execution_count": 22,
     "metadata": {},
     "output_type": "execute_result"
    }
   ],
   "source": [
    "coef = np.polyfit(t_train, y_train, deg=1) \n",
    "coef"
   ]
  },
  {
   "cell_type": "markdown",
   "metadata": {
    "id": "M_OOj-V8I3cR"
   },
   "source": [
    "Поместим в переменную t_test номера наблюдений тестового набора, воспользовавшись функцией arange() из модуля numpy. Выведем на экран содержимое t_ test."
   ]
  },
  {
   "cell_type": "code",
   "execution_count": 23,
   "metadata": {
    "colab": {
     "base_uri": "https://localhost:8080/"
    },
    "executionInfo": {
     "elapsed": 31,
     "status": "ok",
     "timestamp": 1681925516523,
     "user": {
      "displayName": "Анна Заграновская",
      "userId": "10819605571315084366"
     },
     "user_tz": -180
    },
    "id": "Nx0Zbg1Y2Jh8",
    "outputId": "47a8f926-93ec-4973-e72b-a51fd04b6830"
   },
   "outputs": [
    {
     "name": "stdout",
     "output_type": "stream",
     "text": [
      "[39 40 41 42 43 44 45 46 47 48]\n"
     ]
    }
   ],
   "source": [
    "t_test = np.arange(len(y_train)+1, len(y)+1)\n",
    "print(t_test)"
   ]
  },
  {
   "cell_type": "markdown",
   "metadata": {
    "id": "cy926IXuI7vc"
   },
   "source": [
    "Найдем расчетные значения цены на материал 1 по модели линейного тренда, воспользовавшись найденными коэффициентами: coef[0] – коэффициент при факторном признаке, coef[1] – свободный член. Выведем на экран полученный результат."
   ]
  },
  {
   "cell_type": "code",
   "execution_count": 24,
   "metadata": {
    "colab": {
     "base_uri": "https://localhost:8080/"
    },
    "executionInfo": {
     "elapsed": 28,
     "status": "ok",
     "timestamp": 1681925516523,
     "user": {
      "displayName": "Анна Заграновская",
      "userId": "10819605571315084366"
     },
     "user_tz": -180
    },
    "id": "QvimYlKX2grB",
    "outputId": "bdc41132-a714-4b7b-dc78-cce4a32654ca"
   },
   "outputs": [
    {
     "name": "stdout",
     "output_type": "stream",
     "text": [
      "[50.35755334 51.04705001 51.73654667 52.42604333 53.11553999 53.80503666\n",
      " 54.49453332 55.18402998 55.87352664 56.56302331]\n"
     ]
    }
   ],
   "source": [
    "y_pred = coef[0]*t_test + coef[1]\n",
    "print(y_pred)"
   ]
  },
  {
   "cell_type": "markdown",
   "metadata": {
    "id": "OinGM75xJAY5"
   },
   "source": [
    "Оценим точность модели на тестовой выборке на основе коэффициента детерминации, воспользовавшись функцией r2_score(y_test, y_pred) из модуля sklearn.metrics."
   ]
  },
  {
   "cell_type": "code",
   "execution_count": 25,
   "metadata": {
    "colab": {
     "base_uri": "https://localhost:8080/"
    },
    "executionInfo": {
     "elapsed": 26,
     "status": "ok",
     "timestamp": 1681925516523,
     "user": {
      "displayName": "Анна Заграновская",
      "userId": "10819605571315084366"
     },
     "user_tz": -180
    },
    "id": "Lf7HxYl321N7",
    "outputId": "3819078f-d62e-4ecf-8c0c-507ae33a9b25"
   },
   "outputs": [
    {
     "name": "stdout",
     "output_type": "stream",
     "text": [
      "-0.021261866530657647\n"
     ]
    }
   ],
   "source": [
    "r2 = r2_score(y_test, y_pred)\n",
    "print(r2)"
   ]
  },
  {
   "cell_type": "markdown",
   "metadata": {
    "id": "krvvZPdaJE7h"
   },
   "source": [
    "Аналогично найдем расчетные значения цены на материал 1 по модели линейного тренда с помощью функции linregress(t_train, y_train) из модуля scipy.stats. Рассчитаем коэффициент детерминации для тестового набора. Сравним полученный результат с предыдущим."
   ]
  },
  {
   "cell_type": "code",
   "execution_count": 26,
   "metadata": {
    "colab": {
     "base_uri": "https://localhost:8080/"
    },
    "executionInfo": {
     "elapsed": 25,
     "status": "ok",
     "timestamp": 1681925516524,
     "user": {
      "displayName": "Анна Заграновская",
      "userId": "10819605571315084366"
     },
     "user_tz": -180
    },
    "id": "ISFvt1TQ3kQt",
    "outputId": "c6d16aac-198e-4423-ca22-cea346d2f741"
   },
   "outputs": [
    {
     "data": {
      "text/plain": [
       "LinregressResult(slope=0.6894966626545572, intercept=23.46718349928875, rvalue=0.9083154849263337, pvalue=3.4133034931672882e-15, stderr=0.0529196890048713, intercept_stderr=1.1839117318991033)"
      ]
     },
     "execution_count": 26,
     "metadata": {},
     "output_type": "execute_result"
    }
   ],
   "source": [
    "coef = linregress(t_train, y_train)\n",
    "coef"
   ]
  },
  {
   "cell_type": "code",
   "execution_count": 27,
   "metadata": {
    "colab": {
     "base_uri": "https://localhost:8080/"
    },
    "executionInfo": {
     "elapsed": 23,
     "status": "ok",
     "timestamp": 1681925516524,
     "user": {
      "displayName": "Анна Заграновская",
      "userId": "10819605571315084366"
     },
     "user_tz": -180
    },
    "id": "kingaltJ3nOf",
    "outputId": "28dd91d3-85c3-4a26-9bdc-aab852fa11ca"
   },
   "outputs": [
    {
     "name": "stdout",
     "output_type": "stream",
     "text": [
      "[50.35755334 51.04705001 51.73654667 52.42604333 53.11553999 53.80503666\n",
      " 54.49453332 55.18402998 55.87352664 56.56302331]\n"
     ]
    }
   ],
   "source": [
    "y_pred = coef[0]*t_test + coef[1]\n",
    "print(y_pred)"
   ]
  },
  {
   "cell_type": "code",
   "execution_count": 28,
   "metadata": {
    "colab": {
     "base_uri": "https://localhost:8080/"
    },
    "executionInfo": {
     "elapsed": 20,
     "status": "ok",
     "timestamp": 1681925516524,
     "user": {
      "displayName": "Анна Заграновская",
      "userId": "10819605571315084366"
     },
     "user_tz": -180
    },
    "id": "y9BcIyge3yFv",
    "outputId": "597e7e87-fe4e-459f-c5ff-d82e3aec8339"
   },
   "outputs": [
    {
     "name": "stdout",
     "output_type": "stream",
     "text": [
      "-0.021261866530664086\n"
     ]
    }
   ],
   "source": [
    "r2 = r2_score(y_test, y_pred)\n",
    "print(r2)"
   ]
  },
  {
   "cell_type": "code",
   "execution_count": 29,
   "metadata": {
    "id": "rWTUkeo43yc3"
   },
   "outputs": [],
   "source": [
    "t_train = t_train.reshape(-1,1)"
   ]
  },
  {
   "cell_type": "markdown",
   "metadata": {
    "id": "rP40qOtZJLxI"
   },
   "source": [
    "Обучим на обучающем наборе данных модель линейного тренда на основе функций LinearRegression().fit() из модуля sklearn.linear_model. Выведем на экран полученные коэффициенты модели, воспользовавшись параметром coef_ для вывода коэффициента при номере наблюдения и параметром intercept_ - для свободного члена."
   ]
  },
  {
   "cell_type": "code",
   "execution_count": 30,
   "metadata": {
    "id": "BmLBlmYj4Nxo"
   },
   "outputs": [],
   "source": [
    "model = LinearRegression().fit(t_train, y_train)"
   ]
  },
  {
   "cell_type": "code",
   "execution_count": 31,
   "metadata": {
    "colab": {
     "base_uri": "https://localhost:8080/"
    },
    "executionInfo": {
     "elapsed": 18,
     "status": "ok",
     "timestamp": 1681925516525,
     "user": {
      "displayName": "Анна Заграновская",
      "userId": "10819605571315084366"
     },
     "user_tz": -180
    },
    "id": "kGsSICet4XR3",
    "outputId": "3feddeaa-008d-49cf-8edb-a26818a0eafe"
   },
   "outputs": [
    {
     "data": {
      "text/plain": [
       "array([0.68949666])"
      ]
     },
     "execution_count": 31,
     "metadata": {},
     "output_type": "execute_result"
    }
   ],
   "source": [
    "model.coef_"
   ]
  },
  {
   "cell_type": "code",
   "execution_count": 32,
   "metadata": {
    "colab": {
     "base_uri": "https://localhost:8080/"
    },
    "executionInfo": {
     "elapsed": 17,
     "status": "ok",
     "timestamp": 1681925516526,
     "user": {
      "displayName": "Анна Заграновская",
      "userId": "10819605571315084366"
     },
     "user_tz": -180
    },
    "id": "77UFrLbk4ZN0",
    "outputId": "ecbe0321-9900-455e-d259-807667d88955"
   },
   "outputs": [
    {
     "data": {
      "text/plain": [
       "23.46718349928875"
      ]
     },
     "execution_count": 32,
     "metadata": {},
     "output_type": "execute_result"
    }
   ],
   "source": [
    "model.intercept_"
   ]
  },
  {
   "cell_type": "markdown",
   "metadata": {
    "id": "h-aBE1shJQSE"
   },
   "source": [
    "Найдем расчетные значения цены на материал 1 для тестового набора данных по модели линейного тренда, воспользовавшись функцией predict(). Выведем на экран полученный результат."
   ]
  },
  {
   "cell_type": "code",
   "execution_count": 33,
   "metadata": {
    "id": "C4ZxNxYt4dBI"
   },
   "outputs": [],
   "source": [
    "t_test = t_test.reshape(-1,1)"
   ]
  },
  {
   "cell_type": "code",
   "execution_count": 34,
   "metadata": {
    "colab": {
     "base_uri": "https://localhost:8080/"
    },
    "executionInfo": {
     "elapsed": 319,
     "status": "ok",
     "timestamp": 1681925516830,
     "user": {
      "displayName": "Анна Заграновская",
      "userId": "10819605571315084366"
     },
     "user_tz": -180
    },
    "id": "7rRGF0T04rg_",
    "outputId": "b05a188e-7129-454d-ba56-fb9846f14251"
   },
   "outputs": [
    {
     "name": "stdout",
     "output_type": "stream",
     "text": [
      "[50.35755334 51.04705001 51.73654667 52.42604333 53.11553999 53.80503666\n",
      " 54.49453332 55.18402998 55.87352664 56.56302331]\n"
     ]
    }
   ],
   "source": [
    "y_pred = model.predict(t_test)\n",
    "print(y_pred)"
   ]
  },
  {
   "cell_type": "markdown",
   "metadata": {
    "id": "e17uKkfwJUO_"
   },
   "source": [
    "Оценим точность модели на тестовой выборке на основе коэффициента детерминации, воспользовавшись функцией r2_score(y_test, y_pred) из модуля sklearn.metrics."
   ]
  },
  {
   "cell_type": "code",
   "execution_count": 35,
   "metadata": {
    "colab": {
     "base_uri": "https://localhost:8080/"
    },
    "executionInfo": {
     "elapsed": 12,
     "status": "ok",
     "timestamp": 1681925516831,
     "user": {
      "displayName": "Анна Заграновская",
      "userId": "10819605571315084366"
     },
     "user_tz": -180
    },
    "id": "nFEAF67L4yiV",
    "outputId": "1d7bcb7a-6372-4835-d1c8-a1690b6b3c91"
   },
   "outputs": [
    {
     "name": "stdout",
     "output_type": "stream",
     "text": [
      "-0.021261866530662088\n"
     ]
    }
   ],
   "source": [
    "r2 = r2_score(y_test, y_pred)\n",
    "print(r2)"
   ]
  },
  {
   "cell_type": "markdown",
   "metadata": {
    "id": "YwR0z9LfJXBd"
   },
   "source": [
    "Оценим точность модели на тестовой выборке на основе средней абсолютной ошибки (MAE), воспользовавшись функцией mean_absolute_error(y_test, y_pred) из модуля sklearn.metrics."
   ]
  },
  {
   "cell_type": "code",
   "execution_count": 36,
   "metadata": {
    "colab": {
     "base_uri": "https://localhost:8080/"
    },
    "executionInfo": {
     "elapsed": 8,
     "status": "ok",
     "timestamp": 1681925516831,
     "user": {
      "displayName": "Анна Заграновская",
      "userId": "10819605571315084366"
     },
     "user_tz": -180
    },
    "id": "KYuzuQi048uq",
    "outputId": "136d6fe4-fd93-4d84-95c2-86020802ace7"
   },
   "outputs": [
    {
     "name": "stdout",
     "output_type": "stream",
     "text": [
      "3.85204300251669\n"
     ]
    }
   ],
   "source": [
    "MAE = mean_absolute_error(y_test, y_pred) \n",
    "print(MAE)"
   ]
  },
  {
   "cell_type": "markdown",
   "metadata": {
    "id": "D_W-OEkzJZsh"
   },
   "source": [
    "Оценим точность модели на тестовой выборке на основе средней квадратичной ошибки (MSE), воспользовавшись функцией mean_squared_error(y_test, y_pred) из модуля sklearn.metrics."
   ]
  },
  {
   "cell_type": "code",
   "execution_count": 37,
   "metadata": {
    "colab": {
     "base_uri": "https://localhost:8080/"
    },
    "executionInfo": {
     "elapsed": 6,
     "status": "ok",
     "timestamp": 1681925516831,
     "user": {
      "displayName": "Анна Заграновская",
      "userId": "10819605571315084366"
     },
     "user_tz": -180
    },
    "id": "8Wf9L89d5d0n",
    "outputId": "14591eb7-4d10-4bfc-d04b-bb8371f0d11c"
   },
   "outputs": [
    {
     "name": "stdout",
     "output_type": "stream",
     "text": [
      "21.097284829454942\n"
     ]
    }
   ],
   "source": [
    "MSE = mean_squared_error(y_test, y_pred) \n",
    "print(MSE)"
   ]
  },
  {
   "cell_type": "markdown",
   "metadata": {
    "id": "r4zDCpVsJgIR"
   },
   "source": [
    "Оценим точность модели на тестовой выборке на основе корня квадратного из среднеквадратичной ошибки (RMSE) для всех сделанных прогнозов, воспользовавшись функцией sqrt() из модуля math и функцией mean_squared_error(y_test, y_pred) из модуля sklearn.metrics."
   ]
  },
  {
   "cell_type": "code",
   "execution_count": 38,
   "metadata": {
    "colab": {
     "base_uri": "https://localhost:8080/"
    },
    "executionInfo": {
     "elapsed": 427,
     "status": "ok",
     "timestamp": 1681925517255,
     "user": {
      "displayName": "Анна Заграновская",
      "userId": "10819605571315084366"
     },
     "user_tz": -180
    },
    "id": "X37odtAC59jC",
    "outputId": "c5b03b69-e33e-424d-f67d-172f343d1bfb"
   },
   "outputs": [
    {
     "name": "stdout",
     "output_type": "stream",
     "text": [
      "4.593178075086458\n"
     ]
    }
   ],
   "source": [
    "RMSE = sqrt(MSE)\n",
    "print(RMSE)"
   ]
  },
  {
   "cell_type": "markdown",
   "metadata": {
    "id": "0yTCJO9KJj5B"
   },
   "source": [
    "Рассчитаем прогнозные значения на тестовой выборке по базовой модели, которая в качестве прогноза выдает прошлое значение. Результат запишем в переменную y_pred."
   ]
  },
  {
   "cell_type": "code",
   "execution_count": 39,
   "metadata": {
    "colab": {
     "base_uri": "https://localhost:8080/"
    },
    "executionInfo": {
     "elapsed": 5,
     "status": "ok",
     "timestamp": 1681925517257,
     "user": {
      "displayName": "Анна Заграновская",
      "userId": "10819605571315084366"
     },
     "user_tz": -180
    },
    "id": "R2-KpPW26MWU",
    "outputId": "89fb5177-e740-4849-a9f6-1a7479b86b83"
   },
   "outputs": [
    {
     "name": "stdout",
     "output_type": "stream",
     "text": [
      "[55.39 46.31 57.11 50.29 58.92 57.12 61.03 54.19 57.44 62.2 ]\n"
     ]
    }
   ],
   "source": [
    "y_pred = y[len(y_train)-1:len(y)-1]\n",
    "print(y_pred)"
   ]
  },
  {
   "cell_type": "markdown",
   "metadata": {
    "id": "NQVki89GJmxQ"
   },
   "source": [
    "Оценим точность базовой модели на тестовой выборке на основе средней квадратичной ошибки (MSE), воспользовавшись функцией mean_squared_error(y_test, y_pred) из модуля sklearn.metrics."
   ]
  },
  {
   "cell_type": "code",
   "execution_count": 40,
   "metadata": {
    "colab": {
     "base_uri": "https://localhost:8080/"
    },
    "executionInfo": {
     "elapsed": 30,
     "status": "ok",
     "timestamp": 1681925518173,
     "user": {
      "displayName": "Анна Заграновская",
      "userId": "10819605571315084366"
     },
     "user_tz": -180
    },
    "id": "NZs9OiWF7RYy",
    "outputId": "acbcd92f-f029-40bf-e5eb-72190ce2cc3c"
   },
   "outputs": [
    {
     "name": "stdout",
     "output_type": "stream",
     "text": [
      "45.448960000000014\n"
     ]
    }
   ],
   "source": [
    "MSE = mean_squared_error(y_test, y_pred) \n",
    "print(MSE)"
   ]
  },
  {
   "cell_type": "markdown",
   "metadata": {
    "id": "ffW-G9ZCJrMQ"
   },
   "source": [
    "Обучим на всех данных лучшую модель."
   ]
  },
  {
   "cell_type": "code",
   "execution_count": 41,
   "metadata": {
    "id": "Kc_xnDqe86sd"
   },
   "outputs": [],
   "source": [
    "t = t.reshape(-1,1)"
   ]
  },
  {
   "cell_type": "code",
   "execution_count": 42,
   "metadata": {
    "id": "yqAlFE7e9Mz5"
   },
   "outputs": [],
   "source": [
    "model = LinearRegression().fit(t, y)"
   ]
  },
  {
   "cell_type": "code",
   "execution_count": 43,
   "metadata": {
    "colab": {
     "base_uri": "https://localhost:8080/"
    },
    "executionInfo": {
     "elapsed": 26,
     "status": "ok",
     "timestamp": 1681925518174,
     "user": {
      "displayName": "Анна Заграновская",
      "userId": "10819605571315084366"
     },
     "user_tz": -180
    },
    "id": "PayB8P909Mz8",
    "outputId": "d2d7813d-9f0d-49dc-9e5a-44e7e502815e"
   },
   "outputs": [
    {
     "data": {
      "text/plain": [
       "array([0.74554766])"
      ]
     },
     "execution_count": 43,
     "metadata": {},
     "output_type": "execute_result"
    }
   ],
   "source": [
    "model.coef_"
   ]
  },
  {
   "cell_type": "code",
   "execution_count": 44,
   "metadata": {
    "colab": {
     "base_uri": "https://localhost:8080/"
    },
    "executionInfo": {
     "elapsed": 26,
     "status": "ok",
     "timestamp": 1681925518175,
     "user": {
      "displayName": "Анна Заграновская",
      "userId": "10819605571315084366"
     },
     "user_tz": -180
    },
    "id": "EdIoFCZq9Mz9",
    "outputId": "400c78dd-498f-41b1-c95c-0feb37725fca"
   },
   "outputs": [
    {
     "data": {
      "text/plain": [
       "22.640124113475174"
      ]
     },
     "execution_count": 44,
     "metadata": {},
     "output_type": "execute_result"
    }
   ],
   "source": [
    "model.intercept_"
   ]
  },
  {
   "cell_type": "code",
   "execution_count": 45,
   "metadata": {
    "colab": {
     "base_uri": "https://localhost:8080/"
    },
    "executionInfo": {
     "elapsed": 23,
     "status": "ok",
     "timestamp": 1681925518175,
     "user": {
      "displayName": "Анна Заграновская",
      "userId": "10819605571315084366"
     },
     "user_tz": -180
    },
    "id": "mtZ02lzU9Vt0",
    "outputId": "cb2ff707-62a5-46de-9eec-60f8713bbe85"
   },
   "outputs": [
    {
     "name": "stdout",
     "output_type": "stream",
     "text": [
      "[23.38567177 24.13121942 24.87676708 25.62231473 26.36786239 27.11341004\n",
      " 27.8589577  28.60450536 29.35005301 30.09560067 30.84114832 31.58669598\n",
      " 32.33224363 33.07779129 33.82333894 34.5688866  35.31443425 36.05998191\n",
      " 36.80552956 37.55107722 38.29662487 39.04217253 39.78772018 40.53326784\n",
      " 41.27881549 42.02436315 42.7699108  43.51545846 44.26100612 45.00655377\n",
      " 45.75210143 46.49764908 47.24319674 47.98874439 48.73429205 49.4798397\n",
      " 50.22538736 50.97093501 51.71648267 52.46203032 53.20757798 53.95312563\n",
      " 54.69867329 55.44422094 56.1897686  56.93531625 57.68086391 58.42641156]\n"
     ]
    }
   ],
   "source": [
    "y_pred = model.predict(t)\n",
    "print(y_pred)"
   ]
  },
  {
   "cell_type": "markdown",
   "metadata": {
    "id": "hBlEPUHNJzDF"
   },
   "source": [
    "Найдем расчетные значения по модели для всех данных. Рассчитаем ошибки модели для всех данных. Поместим столбец ошибок 'Error' в таблицу исходных данных. Выведем на экран первые 5 наблюдений."
   ]
  },
  {
   "cell_type": "code",
   "execution_count": 46,
   "metadata": {
    "colab": {
     "base_uri": "https://localhost:8080/",
     "height": 237
    },
    "executionInfo": {
     "elapsed": 20,
     "status": "ok",
     "timestamp": 1681925518175,
     "user": {
      "displayName": "Анна Заграновская",
      "userId": "10819605571315084366"
     },
     "user_tz": -180
    },
    "id": "P5zUevHc9elA",
    "outputId": "362117bc-2ec0-4a47-c55b-b8d7ace8c2b2"
   },
   "outputs": [
    {
     "data": {
      "text/html": [
       "<div>\n",
       "<style scoped>\n",
       "    .dataframe tbody tr th:only-of-type {\n",
       "        vertical-align: middle;\n",
       "    }\n",
       "\n",
       "    .dataframe tbody tr th {\n",
       "        vertical-align: top;\n",
       "    }\n",
       "\n",
       "    .dataframe thead th {\n",
       "        text-align: right;\n",
       "    }\n",
       "</style>\n",
       "<table border=\"1\" class=\"dataframe\">\n",
       "  <thead>\n",
       "    <tr style=\"text-align: right;\">\n",
       "      <th></th>\n",
       "      <th>Value</th>\n",
       "      <th>Error</th>\n",
       "    </tr>\n",
       "    <tr>\n",
       "      <th>Date</th>\n",
       "      <th></th>\n",
       "      <th></th>\n",
       "    </tr>\n",
       "  </thead>\n",
       "  <tbody>\n",
       "    <tr>\n",
       "      <th>2007-01-01</th>\n",
       "      <td>26.94</td>\n",
       "      <td>3.554328</td>\n",
       "    </tr>\n",
       "    <tr>\n",
       "      <th>2007-02-01</th>\n",
       "      <td>22.48</td>\n",
       "      <td>-1.651219</td>\n",
       "    </tr>\n",
       "    <tr>\n",
       "      <th>2007-03-01</th>\n",
       "      <td>28.16</td>\n",
       "      <td>3.283233</td>\n",
       "    </tr>\n",
       "    <tr>\n",
       "      <th>2007-04-01</th>\n",
       "      <td>20.62</td>\n",
       "      <td>-5.002315</td>\n",
       "    </tr>\n",
       "    <tr>\n",
       "      <th>2007-05-01</th>\n",
       "      <td>24.81</td>\n",
       "      <td>-1.557862</td>\n",
       "    </tr>\n",
       "  </tbody>\n",
       "</table>\n",
       "</div>"
      ],
      "text/plain": [
       "            Value     Error\n",
       "Date                       \n",
       "2007-01-01  26.94  3.554328\n",
       "2007-02-01  22.48 -1.651219\n",
       "2007-03-01  28.16  3.283233\n",
       "2007-04-01  20.62 -5.002315\n",
       "2007-05-01  24.81 -1.557862"
      ]
     },
     "execution_count": 46,
     "metadata": {},
     "output_type": "execute_result"
    }
   ],
   "source": [
    "df['Error'] = y - y_pred\n",
    "df.head()"
   ]
  },
  {
   "cell_type": "code",
   "execution_count": 47,
   "metadata": {
    "id": "dJwn8gRF9qzM"
   },
   "outputs": [],
   "source": [
    "err = df.Error"
   ]
  },
  {
   "cell_type": "markdown",
   "metadata": {
    "id": "j5DRXDnSJ4UY"
   },
   "source": [
    "Построим линейный график ошибок, воспользовавшись функцией plot() и командой pyplot.show() из модуля matplotlib."
   ]
  },
  {
   "cell_type": "code",
   "execution_count": 48,
   "metadata": {
    "colab": {
     "base_uri": "https://localhost:8080/",
     "height": 466
    },
    "executionInfo": {
     "elapsed": 20,
     "status": "ok",
     "timestamp": 1681925518176,
     "user": {
      "displayName": "Анна Заграновская",
      "userId": "10819605571315084366"
     },
     "user_tz": -180
    },
    "id": "ZyM_8B5697qU",
    "outputId": "15ab177a-6844-47fb-cd38-cf06d4032535"
   },
   "outputs": [
    {
     "data": {
      "image/png": "[encoded data removed]",
      "text/plain": [
       "<Figure size 640x480 with 1 Axes>"
      ]
     },
     "metadata": {},
     "output_type": "display_data"
    }
   ],
   "source": [
    "err.plot()\n",
    "plt.show()"
   ]
  },
  {
   "cell_type": "markdown",
   "metadata": {
    "id": "lwtjyUc9J7QQ"
   },
   "source": [
    "Выведем на экран описательные статистики ошибок, воспользовавшись функцией describe()."
   ]
  },
  {
   "cell_type": "code",
   "execution_count": 49,
   "metadata": {
    "colab": {
     "base_uri": "https://localhost:8080/"
    },
    "executionInfo": {
     "elapsed": 19,
     "status": "ok",
     "timestamp": 1681925518177,
     "user": {
      "displayName": "Анна Заграновская",
      "userId": "10819605571315084366"
     },
     "user_tz": -180
    },
    "id": "eRzX88yL9-te",
    "outputId": "79d51795-45ab-462b-a29a-caf73066b09a"
   },
   "outputs": [
    {
     "data": {
      "text/plain": [
       "count    4.800000e+01\n",
       "mean     5.403085e-15\n",
       "std      3.656526e+00\n",
       "min     -6.441077e+00\n",
       "25%     -3.043197e+00\n",
       "50%      6.924220e-01\n",
       "75%      3.351007e+00\n",
       "max      5.585779e+00\n",
       "Name: Error, dtype: float64"
      ]
     },
     "execution_count": 49,
     "metadata": {},
     "output_type": "execute_result"
    }
   ],
   "source": [
    "err.describe()"
   ]
  },
  {
   "cell_type": "markdown",
   "metadata": {
    "id": "EDbLeVNpJ-oz"
   },
   "source": [
    "Построим для ошибок гистограмму на основе функции hist(), ядерную оценку плотности на основе функции plot(kind='kde'), Q-Q график на основе функции qqplot() из модуля statsmodels.graphics.gofplots, а также функцией show() из matplotlib.pyplot."
   ]
  },
  {
   "cell_type": "code",
   "execution_count": 50,
   "metadata": {
    "colab": {
     "base_uri": "https://localhost:8080/",
     "height": 430
    },
    "executionInfo": {
     "elapsed": 282,
     "status": "ok",
     "timestamp": 1681925518443,
     "user": {
      "displayName": "Анна Заграновская",
      "userId": "10819605571315084366"
     },
     "user_tz": -180
    },
    "id": "nvhz_nK6-KIG",
    "outputId": "ed0f6743-f996-4369-d5b8-15cc4d725898"
   },
   "outputs": [
    {
     "data": {
      "image/png": "[encoded data removed]",
      "text/plain": [
       "<Figure size 640x480 with 1 Axes>"
      ]
     },
     "metadata": {},
     "output_type": "display_data"
    }
   ],
   "source": [
    "err.hist()\n",
    "plt.show()"
   ]
  },
  {
   "cell_type": "code",
   "execution_count": 51,
   "metadata": {
    "colab": {
     "base_uri": "https://localhost:8080/",
     "height": 430
    },
    "executionInfo": {
     "elapsed": 1807,
     "status": "ok",
     "timestamp": 1681925520239,
     "user": {
      "displayName": "Анна Заграновская",
      "userId": "10819605571315084366"
     },
     "user_tz": -180
    },
    "id": "pyCw5kl3-aHK",
    "outputId": "b3c52f6d-c83e-4f87-c7dc-84619fe17e86"
   },
   "outputs": [
    {
     "data": {
      "image/png": "[encoded data removed]",
      "text/plain": [
       "<Figure size 640x480 with 1 Axes>"
      ]
     },
     "metadata": {},
     "output_type": "display_data"
    }
   ],
   "source": [
    "err.plot(kind='kde')\n",
    "plt.show()"
   ]
  },
  {
   "cell_type": "code",
   "execution_count": 52,
   "metadata": {
    "colab": {
     "base_uri": "https://localhost:8080/",
     "height": 449
    },
    "executionInfo": {
     "elapsed": 16,
     "status": "ok",
     "timestamp": 1681925520240,
     "user": {
      "displayName": "Анна Заграновская",
      "userId": "10819605571315084366"
     },
     "user_tz": -180
    },
    "id": "h2BoHAxw-lSc",
    "outputId": "9a28c307-2f4e-4af8-dd8f-307c5a76d9d3"
   },
   "outputs": [
    {
     "data": {
      "image/png": "[encoded data removed]",
      "text/plain": [
       "<Figure size 640x480 with 1 Axes>"
      ]
     },
     "metadata": {},
     "output_type": "display_data"
    }
   ],
   "source": [
    "qqplot(err, line='r')\n",
    "plt.show()"
   ]
  },
  {
   "cell_type": "markdown",
   "metadata": {
    "id": "HOmvDgatKCLh"
   },
   "source": [
    "Оценим адекватность модели линейного тренда на основе теста Дарбина-Уотсона, воспользовавшись функцией durbin_watson() из модуля statsmodels.stats.stattools применительно к остаткам модели."
   ]
  },
  {
   "cell_type": "code",
   "execution_count": 53,
   "metadata": {
    "colab": {
     "base_uri": "https://localhost:8080/"
    },
    "executionInfo": {
     "elapsed": 14,
     "status": "ok",
     "timestamp": 1681925520241,
     "user": {
      "displayName": "Анна Заграновская",
      "userId": "10819605571315084366"
     },
     "user_tz": -180
    },
    "id": "ulgtnCKA-3Tk",
    "outputId": "c604cf96-1b3e-4625-bccc-615e81df2bb5"
   },
   "outputs": [
    {
     "name": "stdout",
     "output_type": "stream",
     "text": [
      "2.4281062954008767\n"
     ]
    }
   ],
   "source": [
    "d = durbin_watson(err)\n",
    "print(d)"
   ]
  },
  {
   "cell_type": "code",
   "execution_count": 54,
   "metadata": {
    "colab": {
     "base_uri": "https://localhost:8080/"
    },
    "executionInfo": {
     "elapsed": 12,
     "status": "ok",
     "timestamp": 1681925520242,
     "user": {
      "displayName": "Анна Заграновская",
      "userId": "10819605571315084366"
     },
     "user_tz": -180
    },
    "id": "gv0Un667_RBq",
    "outputId": "292dfe64-bf2a-4fee-b669-352a5b436d11"
   },
   "outputs": [
    {
     "data": {
      "text/plain": [
       "1.5718937045991233"
      ]
     },
     "execution_count": 54,
     "metadata": {},
     "output_type": "execute_result"
    }
   ],
   "source": [
    "4-d"
   ]
  },
  {
   "cell_type": "markdown",
   "metadata": {
    "id": "3oAhQlbT_yHz"
   },
   "source": [
    "n=50, dl=1.5, du=1.59, 1.5<1.57<1.59. Попали в зону неопределенности"
   ]
  },
  {
   "cell_type": "markdown",
   "metadata": {
    "id": "uqSxsgrgKHUz"
   },
   "source": [
    "Построим для ошибок линейного тренда коррелограмму, воспользовавшись функцией autocorrelation_plot() из модуля pandas.plotting."
   ]
  },
  {
   "cell_type": "code",
   "execution_count": 55,
   "metadata": {
    "colab": {
     "base_uri": "https://localhost:8080/",
     "height": 455
    },
    "executionInfo": {
     "elapsed": 462,
     "status": "ok",
     "timestamp": 1681925520695,
     "user": {
      "displayName": "Анна Заграновская",
      "userId": "10819605571315084366"
     },
     "user_tz": -180
    },
    "id": "Zc7_olFG_dWN",
    "outputId": "0276a83c-4c14-4e07-f8ce-831bf75c7c81"
   },
   "outputs": [
    {
     "data": {
      "image/png": "[encoded data removed]",
      "text/plain": [
       "<Figure size 640x480 with 1 Axes>"
      ]
     },
     "metadata": {},
     "output_type": "display_data"
    }
   ],
   "source": [
    "autocorrelation_plot(err)\n",
    "plt.show()"
   ]
  },
  {
   "cell_type": "markdown",
   "metadata": {
    "id": "zoqVEWjzKZ-w"
   },
   "source": [
    "Сгенерируем номера наблюдений для прогнозного интервала, равного 12 месяцев. Запишем результат в переменную t_new и выведем его на экран."
   ]
  },
  {
   "cell_type": "code",
   "execution_count": 56,
   "metadata": {
    "colab": {
     "base_uri": "https://localhost:8080/"
    },
    "executionInfo": {
     "elapsed": 214,
     "status": "ok",
     "timestamp": 1681925775700,
     "user": {
      "displayName": "Анна Заграновская",
      "userId": "10819605571315084366"
     },
     "user_tz": -180
    },
    "id": "lNHpZhXyIRPJ",
    "outputId": "4ccb9e5f-791b-4817-db6a-79d9d7f4fa30"
   },
   "outputs": [
    {
     "name": "stdout",
     "output_type": "stream",
     "text": [
      "[49 50 51 52 53 54 55 56 57 58 59 60]\n"
     ]
    }
   ],
   "source": [
    "t_new = np.arange(len(y)+1, len(y)+13)\n",
    "print(t_new)"
   ]
  },
  {
   "cell_type": "code",
   "execution_count": 57,
   "metadata": {
    "id": "SWoeKsmmIiiP"
   },
   "outputs": [],
   "source": [
    "t_new = t_new.reshape(-1,1)"
   ]
  },
  {
   "cell_type": "markdown",
   "metadata": {
    "id": "o2YAUZEjKkeQ"
   },
   "source": [
    "Найдем прогнозные значения цены на материал 1 на год вперед (точечный прогноз). Запишем результат в переменную y_new и выведем его на экран."
   ]
  },
  {
   "cell_type": "code",
   "execution_count": 58,
   "metadata": {
    "colab": {
     "base_uri": "https://localhost:8080/"
    },
    "executionInfo": {
     "elapsed": 3,
     "status": "ok",
     "timestamp": 1681925779666,
     "user": {
      "displayName": "Анна Заграновская",
      "userId": "10819605571315084366"
     },
     "user_tz": -180
    },
    "id": "SqiL1giOIoxI",
    "outputId": "5156cf8e-c655-4d7f-9090-5a0f3234608b"
   },
   "outputs": [
    {
     "name": "stdout",
     "output_type": "stream",
     "text": [
      "[59.17195922 59.91750688 60.66305453 61.40860219 62.15414984 62.8996975\n",
      " 63.64524515 64.39079281 65.13634046 65.88188812 66.62743577 67.37298343]\n"
     ]
    }
   ],
   "source": [
    "y_new = model.predict(t_new)\n",
    "print(y_new)"
   ]
  },
  {
   "cell_type": "markdown",
   "metadata": {
    "id": "y8HmPWOHKRJQ"
   },
   "source": [
    "Рассчитаем среднее квадратичное отклонение."
   ]
  },
  {
   "cell_type": "code",
   "execution_count": 59,
   "metadata": {
    "id": "VrbZ29LvKjmt"
   },
   "outputs": [],
   "source": [
    "sum_errs = arraysum((y - y_pred)**2)"
   ]
  },
  {
   "cell_type": "code",
   "execution_count": 60,
   "metadata": {
    "colab": {
     "base_uri": "https://localhost:8080/"
    },
    "executionInfo": {
     "elapsed": 3,
     "status": "ok",
     "timestamp": 1681925801651,
     "user": {
      "displayName": "Анна Заграновская",
      "userId": "10819605571315084366"
     },
     "user_tz": -180
    },
    "id": "BFSH2TSNda2Z",
    "outputId": "24b35539-f4f5-4fa6-adab-554a296a3ff1"
   },
   "outputs": [
    {
     "name": "stdout",
     "output_type": "stream",
     "text": [
      "3.6960573441463027\n"
     ]
    }
   ],
   "source": [
    "stdev = sqrt(1/(len(y)-2) * sum_errs)\n",
    "print(stdev)"
   ]
  },
  {
   "cell_type": "markdown",
   "metadata": {
    "id": "399vD_4ZKtX5"
   },
   "source": [
    "Рассчитаем 95% доверительный интервал."
   ]
  },
  {
   "cell_type": "code",
   "execution_count": 61,
   "metadata": {
    "colab": {
     "base_uri": "https://localhost:8080/"
    },
    "executionInfo": {
     "elapsed": 244,
     "status": "ok",
     "timestamp": 1681925804114,
     "user": {
      "displayName": "Анна Заграновская",
      "userId": "10819605571315084366"
     },
     "user_tz": -180
    },
    "id": "mxOA0kALdfNp",
    "outputId": "98bac29a-986e-4f08-bd3d-6f8ba20b88b5"
   },
   "outputs": [
    {
     "name": "stdout",
     "output_type": "stream",
     "text": [
      "Prediction Interval: 7.244\n"
     ]
    }
   ],
   "source": [
    "z = 1.96 # доверительный интервал 95%\n",
    "interval = z * stdev\n",
    "print('Prediction Interval: %.3f' % interval)"
   ]
  },
  {
   "cell_type": "markdown",
   "metadata": {
    "id": "nNfLpTChK6t6"
   },
   "source": [
    "Рассчитаем верхнюю и нижнюю границу прогнозного интервала.\n"
   ]
  },
  {
   "cell_type": "code",
   "execution_count": 62,
   "metadata": {
    "id": "NYY4-g2rhyQ1"
   },
   "outputs": [],
   "source": [
    "y_down, y_up = y_new - interval, y_new + interval"
   ]
  },
  {
   "cell_type": "markdown",
   "metadata": {
    "id": "jKIuoScBLBWQ"
   },
   "source": [
    "Нанесем на одну диаграмму фактические значения, значения по модели, точечный и интервальный прогнозы, воспользовавшись функциями figure(), scatter(), plot(), xlabel(), ylabel(), legend() и show() из модуля matplotlib.pyplot."
   ]
  },
  {
   "cell_type": "code",
   "execution_count": 65,
   "metadata": {
    "colab": {
     "base_uri": "https://localhost:8080/",
     "height": 831
    },
    "executionInfo": {
     "elapsed": 1194,
     "status": "ok",
     "timestamp": 1681925882039,
     "user": {
      "displayName": "Анна Заграновская",
      "userId": "10819605571315084366"
     },
     "user_tz": -180
    },
    "id": "FUG_6uhJiLGe",
    "outputId": "aef8155e-ec7e-4730-fae3-93a6002ffe0c"
   },
   "outputs": [
    {
     "data": {
      "image/png": "[encoded data removed]",
      "text/plain": [
       "<Figure size 1500x1000 with 1 Axes>"
      ]
     },
     "metadata": {},
     "output_type": "display_data"
    }
   ],
   "source": [
    "plt.figure(figsize=(15,10))\n",
    "\n",
    "plt.scatter(t, y)\n",
    "plt.plot(t, y_pred)\n",
    "plt.plot(t_new, y_new)\n",
    "plt.plot(t_new, y_up)\n",
    "plt.plot(t_new, y_down)\n",
    "\n",
    "plt.title('Прогнозирование цены на материал 1 с помощью линейного тренда')\n",
    "plt.xlabel('Номер наблюдения')\n",
    "plt.ylabel('Цена на материал 1')\n",
    "plt.legend(['Фактические значения','Расчетные по модели','Точечный прогноз','Верхняя граница прогнозного интервала','Нижняя граница прогнозного интервала'])\n",
    "\n",
    "plt.show()"
   ]
  },
  {
   "cell_type": "markdown",
   "metadata": {
    "id": "MBvehY4oqFO2"
   },
   "source": [
    "Приближенное вычисление условного стандарного отклонения для прогнозного интервала"
   ]
  },
  {
   "cell_type": "code",
   "execution_count": 64,
   "metadata": {
    "colab": {
     "base_uri": "https://localhost:8080/"
    },
    "executionInfo": {
     "elapsed": 314,
     "status": "ok",
     "timestamp": 1681925887309,
     "user": {
      "displayName": "Анна Заграновская",
      "userId": "10819605571315084366"
     },
     "user_tz": -180
    },
    "id": "9NFjJ0LHqEi3",
    "outputId": "8b2e8efc-aa81-43c6-8ba9-dbb140802ccb"
   },
   "outputs": [
    {
     "name": "stdout",
     "output_type": "stream",
     "text": [
      "3.6182368951028825\n"
     ]
    }
   ],
   "source": [
    "from sklearn.metrics import mean_squared_error\n",
    "from math import sqrt\n",
    "\n",
    "rms = sqrt(mean_squared_error(y, y_pred))\n",
    "print(rms)"
   ]
  }
 ],
 "metadata": {
  "colab": {
   "authorship_tag": "ABX9TyO8z15QA7w+uym46o4OY5sx",
   "mount_file_id": "1_MLPX1f0d2ddaRLHaE7fk6yLllayZQdf",
   "provenance": []
  },
  "kernelspec": {
   "display_name": "Python 3 (ipykernel)",
   "language": "python",
   "name": "python3"
  },
  "language_info": {
   "codemirror_mode": {
    "name": "ipython",
    "version": 3
   },
   "file_extension": ".py",
   "mimetype": "text/x-python",
   "name": "python",
   "nbconvert_exporter": "python",
   "pygments_lexer": "ipython3",
   "version": "3.10.9"
  }
 },
 "nbformat": 4,
 "nbformat_minor": 1
}
